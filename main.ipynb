{
 "cells": [
  {
   "cell_type": "markdown",
   "source": [
    "# CT scan OF THE TMJ"
   ],
   "metadata": {
    "collapsed": false
   },
   "id": "ce161604c268d3e0"
  },
  {
   "cell_type": "code",
   "execution_count": 35,
   "id": "initial_id",
   "metadata": {
    "collapsed": true,
    "ExecuteTime": {
     "end_time": "2025-02-14T04:10:46.913443Z",
     "start_time": "2025-02-14T04:10:46.187402Z"
    }
   },
   "outputs": [
    {
     "name": "stdout",
     "output_type": "stream",
     "text": [
      "Requirement already satisfied: accelerate in ./.venv/lib/python3.12/site-packages (0.29.3)\r\n",
      "Requirement already satisfied: numpy>=1.17 in ./.venv/lib/python3.12/site-packages (from accelerate) (1.26.4)\r\n",
      "Requirement already satisfied: packaging>=20.0 in ./.venv/lib/python3.12/site-packages (from accelerate) (24.2)\r\n",
      "Requirement already satisfied: psutil in ./.venv/lib/python3.12/site-packages (from accelerate) (7.0.0)\r\n",
      "Requirement already satisfied: pyyaml in ./.venv/lib/python3.12/site-packages (from accelerate) (6.0.2)\r\n",
      "Requirement already satisfied: torch>=1.10.0 in ./.venv/lib/python3.12/site-packages (from accelerate) (2.2.2)\r\n",
      "Requirement already satisfied: huggingface-hub in ./.venv/lib/python3.12/site-packages (from accelerate) (0.28.1)\r\n",
      "Requirement already satisfied: safetensors>=0.3.1 in ./.venv/lib/python3.12/site-packages (from accelerate) (0.5.2)\r\n",
      "Requirement already satisfied: filelock in ./.venv/lib/python3.12/site-packages (from torch>=1.10.0->accelerate) (3.17.0)\r\n",
      "Requirement already satisfied: typing-extensions>=4.8.0 in ./.venv/lib/python3.12/site-packages (from torch>=1.10.0->accelerate) (4.12.2)\r\n",
      "Requirement already satisfied: sympy in ./.venv/lib/python3.12/site-packages (from torch>=1.10.0->accelerate) (1.13.1)\r\n",
      "Requirement already satisfied: networkx in ./.venv/lib/python3.12/site-packages (from torch>=1.10.0->accelerate) (3.4.2)\r\n",
      "Requirement already satisfied: jinja2 in ./.venv/lib/python3.12/site-packages (from torch>=1.10.0->accelerate) (3.1.5)\r\n",
      "Requirement already satisfied: fsspec in ./.venv/lib/python3.12/site-packages (from torch>=1.10.0->accelerate) (2025.2.0)\r\n",
      "Requirement already satisfied: requests in ./.venv/lib/python3.12/site-packages (from huggingface-hub->accelerate) (2.32.3)\r\n",
      "Requirement already satisfied: tqdm>=4.42.1 in ./.venv/lib/python3.12/site-packages (from huggingface-hub->accelerate) (4.66.6)\r\n",
      "Requirement already satisfied: MarkupSafe>=2.0 in ./.venv/lib/python3.12/site-packages (from jinja2->torch>=1.10.0->accelerate) (3.0.2)\r\n",
      "Requirement already satisfied: charset-normalizer<4,>=2 in ./.venv/lib/python3.12/site-packages (from requests->huggingface-hub->accelerate) (3.4.1)\r\n",
      "Requirement already satisfied: idna<4,>=2.5 in ./.venv/lib/python3.12/site-packages (from requests->huggingface-hub->accelerate) (3.10)\r\n",
      "Requirement already satisfied: urllib3<3,>=1.21.1 in ./.venv/lib/python3.12/site-packages (from requests->huggingface-hub->accelerate) (2.3.0)\r\n",
      "Requirement already satisfied: certifi>=2017.4.17 in ./.venv/lib/python3.12/site-packages (from requests->huggingface-hub->accelerate) (2025.1.31)\r\n",
      "Requirement already satisfied: mpmath<1.4,>=1.1.0 in ./.venv/lib/python3.12/site-packages (from sympy->torch>=1.10.0->accelerate) (1.3.0)\r\n"
     ]
    }
   ],
   "source": [
    "!pip install accelerate\n",
    "\n",
    "import numpy as np\n",
    "import albumentations\n",
    "import random\n",
    "import torch\n",
    "import os\n",
    "\n",
    "from pycocotools.coco import COCO\n",
    "from albumentations.pytorch.transforms import ToTensorV2\n",
    "from accelerate import Accelerator\n",
    "from torch.utils.data import DataLoader, random_split\n",
    "from torch.nn import functional as F\n",
    "from matplotlib import pyplot as plt\n",
    "from os.path import join as pjoin\n",
    "\n",
    "from MaskCreator import MaskCreator\n",
    "from TMJDataset import TMJDataset"
   ]
  },
  {
   "cell_type": "code",
   "outputs": [],
   "source": [
    "def seed_everything(seed: int = 314159, torch_deterministic: bool = False) -> None:\n",
    "    os.environ[\"PYTHONHASHSEED\"] = str(seed)\n",
    "    random.seed(seed)\n",
    "    np.random.seed(seed)\n",
    "    torch.manual_seed(seed)\n",
    "    torch.cuda.manual_seed(seed)\n",
    "    torch.use_deterministic_algorithms(torch_deterministic)\n",
    "\n",
    "\n",
    "seed_everything(42, torch_deterministic=False)"
   ],
   "metadata": {
    "collapsed": false,
    "ExecuteTime": {
     "end_time": "2025-02-14T04:10:46.924350Z",
     "start_time": "2025-02-14T04:10:46.919458Z"
    }
   },
   "id": "954f20a777ee5cfb",
   "execution_count": 36
  },
  {
   "cell_type": "code",
   "outputs": [
    {
     "name": "stdout",
     "output_type": "stream",
     "text": [
      "loading annotations into memory...\n",
      "Done (t=0.00s)\n",
      "creating index...\n",
      "index created!\n"
     ]
    },
    {
     "name": "stderr",
     "output_type": "stream",
     "text": [
      "Processing images: 100%|██████████| 157/157 [00:00<00:00, 701.36it/s]"
     ]
    },
    {
     "name": "stdout",
     "output_type": "stream",
     "text": [
      "All masks saved in Masks_npy\n"
     ]
    },
    {
     "name": "stderr",
     "output_type": "stream",
     "text": [
      "\n"
     ]
    }
   ],
   "source": [
    "annFile = 'annotations.json'\n",
    "coco = COCO(annFile)\n",
    "image_shapes = {img['id']: (img['height'], img['width']) for img in coco.loadImgs(coco.getImgIds())}\n",
    "\n",
    "maskCreator = MaskCreator(coco=coco, image_shapes=image_shapes)\n",
    "maskCreator.save_all_masks(\"Masks_npy\")"
   ],
   "metadata": {
    "collapsed": false,
    "ExecuteTime": {
     "end_time": "2025-02-14T04:10:47.160318Z",
     "start_time": "2025-02-14T04:10:46.924351Z"
    }
   },
   "id": "613c4349c2076a5d",
   "execution_count": 37
  },
  {
   "cell_type": "code",
   "outputs": [],
   "source": [
    "IMAGE_SIZE = 512  # Размер изображения\n",
    "\n",
    "transforms = albumentations.Compose(\n",
    "    [\n",
    "        albumentations.Resize(height=IMAGE_SIZE, width=IMAGE_SIZE, p=1.0),\n",
    "        albumentations.ChannelShuffle(p=0.5),\n",
    "        albumentations.AdvancedBlur(p=0.5),\n",
    "        albumentations.GaussNoise(p=0.5),\n",
    "        albumentations.RandomBrightnessContrast(p=0.5),\n",
    "        albumentations.RandomGamma(p=0.5),\n",
    "        albumentations.ColorJitter(p=0.5),\n",
    "        albumentations.Normalize(),\n",
    "        ToTensorV2(),\n",
    "    ]\n",
    ")"
   ],
   "metadata": {
    "collapsed": false,
    "ExecuteTime": {
     "end_time": "2025-02-14T04:10:47.171454Z",
     "start_time": "2025-02-14T04:10:47.159067Z"
    }
   },
   "id": "9491520e2eae0ad9",
   "execution_count": 38
  },
  {
   "cell_type": "code",
   "outputs": [],
   "source": [
    "dataset = TMJDataset(image_dir=\"Dataset\", mask_dir=\"Masks_npy\", transform=transforms)"
   ],
   "metadata": {
    "collapsed": false,
    "ExecuteTime": {
     "end_time": "2025-02-14T04:15:00.737015Z",
     "start_time": "2025-02-14T04:15:00.728970Z"
    }
   },
   "id": "d286af956e7be14a",
   "execution_count": 45
  },
  {
   "cell_type": "code",
   "outputs": [
    {
     "ename": "error",
     "evalue": "OpenCV(4.11.0) /Users/xperience/GHA-Actions-OpenCV/_work/opencv-python/opencv-python/opencv/modules/imgproc/src/color.cpp:199: error: (-215:Assertion failed) !_src.empty() in function 'cvtColor'\n",
     "output_type": "error",
     "traceback": [
      "\u001B[0;31m---------------------------------------------------------------------------\u001B[0m",
      "\u001B[0;31merror\u001B[0m                                     Traceback (most recent call last)",
      "Cell \u001B[0;32mIn[53], line 1\u001B[0m\n\u001B[0;32m----> 1\u001B[0m \u001B[43mdataset\u001B[49m\u001B[43m[\u001B[49m\u001B[38;5;241;43m0\u001B[39;49m\u001B[43m]\u001B[49m\n",
      "File \u001B[0;32m~/Developer/PycharmProjects/TMJ/TMJDataset.py:24\u001B[0m, in \u001B[0;36mTMJDataset.__getitem__\u001B[0;34m(self, idx)\u001B[0m\n\u001B[1;32m     22\u001B[0m \u001B[38;5;66;03m# Читаем изображение\u001B[39;00m\n\u001B[1;32m     23\u001B[0m image \u001B[38;5;241m=\u001B[39m cv2\u001B[38;5;241m.\u001B[39mimread(img_path)\n\u001B[0;32m---> 24\u001B[0m image \u001B[38;5;241m=\u001B[39m \u001B[43mcv2\u001B[49m\u001B[38;5;241;43m.\u001B[39;49m\u001B[43mcvtColor\u001B[49m\u001B[43m(\u001B[49m\u001B[43mimage\u001B[49m\u001B[43m,\u001B[49m\u001B[43m \u001B[49m\u001B[43mcv2\u001B[49m\u001B[38;5;241;43m.\u001B[39;49m\u001B[43mCOLOR_BGR2RGB\u001B[49m\u001B[43m)\u001B[49m  \u001B[38;5;66;03m# Меняем BGR -> RGB\u001B[39;00m\n\u001B[1;32m     26\u001B[0m \u001B[38;5;66;03m# Загружаем маску из .npy\u001B[39;00m\n\u001B[1;32m     27\u001B[0m mask \u001B[38;5;241m=\u001B[39m np\u001B[38;5;241m.\u001B[39mload(mask_path)  \u001B[38;5;66;03m# Загружаем маску в формате .npy\u001B[39;00m\n",
      "\u001B[0;31merror\u001B[0m: OpenCV(4.11.0) /Users/xperience/GHA-Actions-OpenCV/_work/opencv-python/opencv-python/opencv/modules/imgproc/src/color.cpp:199: error: (-215:Assertion failed) !_src.empty() in function 'cvtColor'\n"
     ]
    }
   ],
   "source": [],
   "metadata": {
    "collapsed": false,
    "ExecuteTime": {
     "end_time": "2025-02-14T04:18:05.891494Z",
     "start_time": "2025-02-14T04:18:05.854489Z"
    }
   },
   "id": "1c8ee44ced71c1cd",
   "execution_count": 53
  },
  {
   "cell_type": "code",
   "outputs": [],
   "source": [],
   "metadata": {
    "collapsed": false
   },
   "id": "5278b2e36170a64f"
  }
 ],
 "metadata": {
  "kernelspec": {
   "display_name": "Python 3",
   "language": "python",
   "name": "python3"
  },
  "language_info": {
   "codemirror_mode": {
    "name": "ipython",
    "version": 2
   },
   "file_extension": ".py",
   "mimetype": "text/x-python",
   "name": "python",
   "nbconvert_exporter": "python",
   "pygments_lexer": "ipython2",
   "version": "2.7.6"
  }
 },
 "nbformat": 4,
 "nbformat_minor": 5
}
