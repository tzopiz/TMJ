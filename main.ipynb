{
 "cells": [
  {
   "cell_type": "code",
   "outputs": [],
   "source": [
    "# colab не может найти зависимость\n",
    "# !pip install -r requirements.txt"
   ],
   "metadata": {
    "collapsed": false,
    "ExecuteTime": {
     "end_time": "2025-03-03T09:15:16.292816Z",
     "start_time": "2025-03-03T09:15:16.269737Z"
    }
   },
   "id": "146a72da179bb74f",
   "execution_count": 1
  },
  {
   "cell_type": "code",
   "outputs": [],
   "source": [
    "import os\n",
    "import random\n",
    "from os.path import join as pjoin\n",
    "from shutil import rmtree\n",
    "\n",
    "import albumentations as A\n",
    "import numpy as np\n",
    "import torch\n",
    "\n",
    "from accelerate import Accelerator\n",
    "from albumentations.pytorch.transforms import ToTensorV2\n",
    "\n",
    "from matplotlib import pyplot as plt\n",
    "from PIL import Image\n",
    "from torch import nn\n",
    "from torch.nn import functional as F\n",
    "from torch.utils.data import DataLoader, random_split\n",
    "from torch.utils.tensorboard import SummaryWriter\n",
    "from torchvision import datasets\n",
    "from pycocotools.coco import COCO\n",
    "\n",
    "from helpy import (\n",
    "    rename_files_in_folder,\n",
    "    rename_files_and_update_annotations,\n",
    "    save_coco_masks,\n",
    "    save_coco_masks_npy,\n",
    "    visualize_npy,\n",
    "    merge_coco_json\n",
    ")\n",
    "\n",
    "from CustomCOCOSegmentation import CustomCOCOSegmentation\n",
    "from train import (\n",
    "    CheckpointSaver,\n",
    "    IoUMetric,\n",
    "    MulticlassCrossEntropyLoss,\n",
    "    MulticlassDiceLoss,\n",
    "    load_checkpoint,\n",
    "    train\n",
    ")\n",
    "\n",
    "from TMJDataset import TMJDataset\n",
    "from Unet.UNet import UNet"
   ],
   "metadata": {
    "collapsed": false,
    "ExecuteTime": {
     "end_time": "2025-03-03T09:15:20.043637Z",
     "start_time": "2025-03-03T09:15:16.286553Z"
    }
   },
   "id": "7a114341c01d0f96",
   "execution_count": 2
  },
  {
   "cell_type": "code",
   "execution_count": 3,
   "id": "initial_id",
   "metadata": {
    "collapsed": true,
    "ExecuteTime": {
     "end_time": "2025-03-03T09:15:20.050379Z",
     "start_time": "2025-03-03T09:15:20.043327Z"
    }
   },
   "outputs": [],
   "source": [
    "def seed_everything(seed: int = 314159, torch_deterministic: bool = False) -> None:\n",
    "    os.environ[\"PYTHONHASHSEED\"] = str(seed)\n",
    "    random.seed(seed)\n",
    "    np.random.seed(seed)\n",
    "    torch.manual_seed(seed)\n",
    "    torch.cuda.manual_seed(seed)\n",
    "    torch.use_deterministic_algorithms(torch_deterministic)\n",
    "\n",
    "\n",
    "seed_everything(42, torch_deterministic=False)"
   ]
  },
  {
   "cell_type": "code",
   "outputs": [
    {
     "name": "stdout",
     "output_type": "stream",
     "text": [
      "loading annotations into memory...\n",
      "Done (t=0.00s)\n",
      "creating index...\n",
      "index created!\n",
      "loading annotations into memory...\n",
      "Done (t=0.00s)\n",
      "creating index...\n",
      "index created!\n",
      "Merged COCO JSON files saved to full_dataset/annotations.json\n"
     ]
    }
   ],
   "source": [
    "json_files = [\n",
    "    'full_dataset/_annotations.coco 2.json',\n",
    "    'full_dataset/_annotations.coco.json'\n",
    "]\n",
    "\n",
    "# Output file path for merged annotations\n",
    "output_file = 'full_dataset/annotations.json'\n",
    "\n",
    "# Merge COCO JSON files\n",
    "merge_coco_json(json_files, output_file)\n",
    "\n",
    "print(\"Merged COCO JSON files saved to\", output_file)"
   ],
   "metadata": {
    "collapsed": false,
    "ExecuteTime": {
     "end_time": "2025-03-03T09:16:22.779334Z",
     "start_time": "2025-03-03T09:16:22.757179Z"
    }
   },
   "id": "be9eee680f76a322",
   "execution_count": 6
  },
  {
   "cell_type": "code",
   "outputs": [
    {
     "name": "stdout",
     "output_type": "stream",
     "text": [
      "473_png_jpg.rf.1982f481104af1c41cfd3fc231953c0c.jpg -> full_dataset_00000.jpg\n",
      "479_png_jpg.rf.2e8babd43d78a3c138edafe602bd46e1.jpg -> full_dataset_00001.jpg\n",
      "341_png_jpg.rf.1728b9a7f48a15a07698c398a7555b3d.jpg -> full_dataset_00002.jpg\n",
      "474_png_jpg.rf.21577182526f038a585684a4d315a6d0.jpg -> full_dataset_00003.jpg\n",
      "271_png_jpg.rf.08f5893b4b7908408ae847823ef0f383.jpg -> full_dataset_00004.jpg\n",
      "484_png_jpg.rf.0502e486b8d61728efe26ecead07ea92.jpg -> full_dataset_00005.jpg\n",
      "526_png_jpg.rf.2933eaabd51fe46c6b3ab759e48de36e.jpg -> full_dataset_00006.jpg\n",
      "510_png_jpg.rf.2f71b70f08f976c41e1ad648ebea1220.jpg -> full_dataset_00007.jpg\n",
      "320_png_jpg.rf.385d470846cc5010961ac26e32348591.jpg -> full_dataset_00008.jpg\n",
      "268_png_jpg.rf.503c25aa3eee5ee45c8d82b50aa70c6e.jpg -> full_dataset_00009.jpg\n",
      "261_png_jpg.rf.31d70ff81d990a8c40e541ea0622309d.jpg -> full_dataset_00010.jpg\n",
      "539_png_jpg.rf.68b154a30915ccb74340706437584ffa.jpg -> full_dataset_00011.jpg\n",
      "482_png_jpg.rf.5d3c34edeeb992a8fe471b9f0e31ec7d.jpg -> full_dataset_00012.jpg\n",
      "315_png_jpg.rf.5d0f9e0536c8e35abf02fc47133f0a80.jpg -> full_dataset_00013.jpg\n",
      "466_png_jpg.rf.6a7a0d1c66324b87fabb6fd1b7e2b439.jpg -> full_dataset_00014.jpg\n",
      "432_png_jpg.rf.5794a1912b0cc7263da28a8b50a0a5dc.jpg -> full_dataset_00015.jpg\n",
      "264_png_jpg.rf.65a62ace6216fc5d9527bb35bc364892.jpg -> full_dataset_00016.jpg\n",
      "273_png_jpg.rf.30d8e68f503dbcf215ef356ee0a9ee10.jpg -> full_dataset_00017.jpg\n",
      "282_png_jpg.rf.70a06d044ce8b2e5936f1131a475a8a4.jpg -> full_dataset_00018.jpg\n",
      "449_png_jpg.rf.1d8d5c63b7934cfacd8b814bcf374c28.jpg -> full_dataset_00019.jpg\n",
      "288_png_jpg.rf.2efd056e7ed0f0392e5ed0acf6b349a6.jpg -> full_dataset_00020.jpg\n",
      "287_png_jpg.rf.5d94c6f836411be9781708c0c82653c4.jpg -> full_dataset_00021.jpg\n",
      "445_png_jpg.rf.67e658f098fe4b8e26d3ecfcfa55322b.jpg -> full_dataset_00022.jpg\n",
      "264_png_jpg.rf.453cb7984fbc6a20262e90de983c374a.jpg -> full_dataset_00023.jpg\n",
      "465_png_jpg.rf.86c19bb5e5329e09fd507cd0d7a9d24e.jpg -> full_dataset_00024.jpg\n",
      "458_png_jpg.rf.4fcac3cdac70fbeeab84983a60cea9de.jpg -> full_dataset_00025.jpg\n",
      "416_png_jpg.rf.761b98aca46fc863e82e1e2734311252.jpg -> full_dataset_00026.jpg\n",
      "469_png_jpg.rf.707879869d7b36927a590579c404f3a5.jpg -> full_dataset_00027.jpg\n",
      "460_png_jpg.rf.3172a98c331020215391f44c302d9e82.jpg -> full_dataset_00028.jpg\n",
      "337_png_jpg.rf.99fd9a525f1e6029a67a1b9035ed9931.jpg -> full_dataset_00029.jpg\n",
      "473_png_jpg.rf.bf5913b3a2bd278a8d0e12f142e0f987.jpg -> full_dataset_00030.jpg\n",
      "286_png_jpg.rf.ae41ebaba9a62fdfdccd11e25e60be72.jpg -> full_dataset_00031.jpg\n",
      "453_png_jpg.rf.6bb0c90261094adea6dd9ddfec58e308.jpg -> full_dataset_00032.jpg\n",
      "265_png_jpg.rf.aac849d45cc7e0f1d8d2815b024f04d8.jpg -> full_dataset_00033.jpg\n",
      "469_png_jpg.rf.7218460e786d88e85b11081b56892e53.jpg -> full_dataset_00034.jpg\n",
      "462_png_jpg.rf.b9173e4252b8788c29c2a6944f39442c.jpg -> full_dataset_00035.jpg\n",
      "452_png_jpg.rf.cd73489fb8d604f186d30a491db8a70e.jpg -> full_dataset_00036.jpg\n",
      "480_png_jpg.rf.d7a9866a25f2363be55a944356a76401.jpg -> full_dataset_00037.jpg\n",
      "324_png_jpg.rf.8b25c65b130ec3034e64a59fa130c1c2.jpg -> full_dataset_00038.jpg\n",
      "304_png_jpg.rf.8fc6a4ee0a480f636af138496a88af77.jpg -> full_dataset_00039.jpg\n",
      "421_png_jpg.rf.d6c2e243193307cab4933fee851f1e3a.jpg -> full_dataset_00040.jpg\n",
      "317_png_jpg.rf.daf8e8c010e16c793394ca2236affcec.jpg -> full_dataset_00041.jpg\n",
      "479_png_jpg.rf.c91435fdd0486eeb20de19922e2252bb.jpg -> full_dataset_00042.jpg\n",
      "481_png_jpg.rf.eba90fcdef813594ccd1538c1bb401dc.jpg -> full_dataset_00043.jpg\n",
      "326_png_jpg.rf.f428335325b6b3a9337770f1f5821924.jpg -> full_dataset_00044.jpg\n",
      "323_png_jpg.rf.77c5174dde1bf21803af8fcdce25a774.jpg -> full_dataset_00045.jpg\n",
      "307_png_jpg.rf.ddd49a8a1243432eb70101778d3b061d.jpg -> full_dataset_00046.jpg\n",
      "301_png_jpg.rf.ed979b0414802f4a979d5794863b5d5a.jpg -> full_dataset_00047.jpg\n",
      "473_png_jpg.rf.ff4cc9799c3ff1271ea7775a1725034b.jpg -> full_dataset_00048.jpg\n",
      "420_png_jpg.rf.b27e499a9a822c2f1031db64c24a6457.jpg -> full_dataset_00049.jpg\n",
      "320_png_jpg.rf.02df4e942cdb15ff689edc691c132ea2.jpg -> full_dataset_00050.jpg\n",
      "428_png_jpg.rf.06db27f0beb0878ef8a7e3d1592fb48b.jpg -> full_dataset_00051.jpg\n",
      "525_png_jpg.rf.1584c673f20d7facc53e44bd7a112485.jpg -> full_dataset_00052.jpg\n",
      "266_png_jpg.rf.0c1aa2bd411bdad2fbb34806f795f2f5.jpg -> full_dataset_00053.jpg\n",
      "277_png_jpg.rf.09f9b0e6be94a8f08344d72e1cdc28f0.jpg -> full_dataset_00054.jpg\n",
      "267_png_jpg.rf.1798cded150351c1fa88ba62f1fdd42f.jpg -> full_dataset_00055.jpg\n",
      "264_png_jpg.rf.17db2935e76ad01ab80359d9872d8cdb.jpg -> full_dataset_00056.jpg\n",
      "319_png_jpg.rf.14a6b179b658e61c2fec3d17a68f9865.jpg -> full_dataset_00057.jpg\n",
      "319_png_jpg.rf.1ccb5259a403cd8b7ca98882f30599e6.jpg -> full_dataset_00058.jpg\n",
      "519_png_jpg.rf.201d2ad8b6ed92e0e0e21ec056e1e49d.jpg -> full_dataset_00059.jpg\n",
      "476_png_jpg.rf.166ae3ade2449b2f95e4692e93186069.jpg -> full_dataset_00060.jpg\n",
      "BeeSnapshot_2025-02-25_23_54_28_png.rf.1b7cf2f8a05f135a53ca5e72edbbb3d5.jpg -> full_dataset_00061.jpg\n",
      "334_png_jpg.rf.1a1a84a151928afbeaf6a98e7e874970.jpg -> full_dataset_00062.jpg\n",
      "466_png_jpg.rf.1227d612919ea2ea0b29499d78f9ea4c.jpg -> full_dataset_00063.jpg\n",
      "456_png_jpg.rf.1551ae9aba9379ae11a39c950f0b38c6.jpg -> full_dataset_00064.jpg\n",
      "517_png_jpg.rf.1c2d8964cc09eb3068f782b88911ba13.jpg -> full_dataset_00065.jpg\n",
      "436_png_jpg.rf.293e64d6d9d7313343efa65a175045c4.jpg -> full_dataset_00066.jpg\n",
      "272_png_jpg.rf.2c7acbf3ff451734ac379d446cbbb5a1.jpg -> full_dataset_00067.jpg\n",
      "305_png_jpg.rf.2eacdffeac5e2f050152e5bb9ee457a8.jpg -> full_dataset_00068.jpg\n",
      "270_png_jpg.rf.24e200293b327f3d1dc0cf93fbca2cc8.jpg -> full_dataset_00069.jpg\n",
      "325_png_jpg.rf.2a00f21d7be67afcc86bf37fd91b8f3e.jpg -> full_dataset_00070.jpg\n",
      "333_png_jpg.rf.3af1d847520f17a97dd4bf5a7e3289e9.jpg -> full_dataset_00071.jpg\n",
      "306_png_jpg.rf.35fa70fd304d7fa27508c2f4715342c8.jpg -> full_dataset_00072.jpg\n",
      "452_png_jpg.rf.51886768d7eb9c19641e3ef2ff1d08f1.jpg -> full_dataset_00073.jpg\n",
      "524_png_jpg.rf.5aed8b7f1eafbe6cc46fcdc88685d9e2.jpg -> full_dataset_00074.jpg\n",
      "308_png_jpg.rf.455e43d865c8f7b9ed0ebb45dbbfc51e.jpg -> full_dataset_00075.jpg\n",
      "472_png_jpg.rf.4fb46e1dd8f5e4fbc874632aadb973e2.jpg -> full_dataset_00076.jpg\n",
      "536_png_jpg.rf.5ce9a5ae84718c7ad630d80cd6589937.jpg -> full_dataset_00077.jpg\n",
      "457_png_jpg.rf.341cd49b93f97cb3d262c2fabd7e3725.jpg -> full_dataset_00078.jpg\n",
      "464_png_jpg.rf.3db284d01aa7d1a41658662c550501d2.jpg -> full_dataset_00079.jpg\n",
      "467_png_jpg.rf.31eee8f837e564b7da0529d58e4e7566.jpg -> full_dataset_00080.jpg\n",
      "538_png_jpg.rf.5d5c5c89aa6abfe20fff770ce7518a1b.jpg -> full_dataset_00081.jpg\n",
      "324_png_jpg.rf.502db989ac0e9a20d9666ab4a38f90fa.jpg -> full_dataset_00082.jpg\n",
      "447_png_jpg.rf.39044c567afac624a04266ea58c5b723.jpg -> full_dataset_00083.jpg\n",
      "290_png_jpg.rf.4cbede74dd1abf2aeafef6c140caaae4.jpg -> full_dataset_00084.jpg\n",
      "461_png_jpg.rf.5ba2a18a2d466b5a5c8724e90c2ff795.jpg -> full_dataset_00085.jpg\n",
      "BeeSnapshot_2025-02-25_23_54_35_png.rf.1b8aac0486db564567ca27272664fc8c.jpg -> full_dataset_00086.jpg\n",
      "267_png_jpg.rf.656cf5e3acf246a74044ca7358a5dbe3.jpg -> full_dataset_00087.jpg\n",
      "422_png_jpg.rf.53941d58f2a6cf909faef918e952cb00.jpg -> full_dataset_00088.jpg\n",
      "442_png_jpg.rf.543b61c306d85d8ac5c036ac7fc52d4f.jpg -> full_dataset_00089.jpg\n",
      "321_png_jpg.rf.599c6612f2998abe758bab9f301cee8e.jpg -> full_dataset_00090.jpg\n",
      "513_png_jpg.rf.6b29a65d7e267ee2227554a4ef61772d.jpg -> full_dataset_00091.jpg\n",
      "516_png_jpg.rf.61ef6a36d6c1a8eaf2bb545d4b204cfb.jpg -> full_dataset_00092.jpg\n",
      "515_png_jpg.rf.3132e4a9194c49207bc200e94e2228dd.jpg -> full_dataset_00093.jpg\n",
      "320_png_jpg.rf.6f7eab63a8596908128e55cdbc5672fb.jpg -> full_dataset_00094.jpg\n",
      "441_png_jpg.rf.6b47a9bb93da85dcb5b8d4fb8b4c675b.jpg -> full_dataset_00095.jpg\n",
      "472_png_jpg.rf.6e8c8869f710acc74d68581ac5eea1c1.jpg -> full_dataset_00096.jpg\n",
      "BeeSnapshot_2025-02-25_23_54_44_png.rf.69096530718af27447a25b98cac2f8ad.jpg -> full_dataset_00097.jpg\n",
      "287_png_jpg.rf.606835a994500e7f898f7da32f52da70.jpg -> full_dataset_00098.jpg\n",
      "321_png_jpg.rf.4a2b95692717e2138663630517bc6173.jpg -> full_dataset_00099.jpg\n",
      "436_png_jpg.rf.70aae97a13bd691a536a5ecdc9481a80.jpg -> full_dataset_00100.jpg\n",
      "471_png_jpg.rf.93018c2bbfd75f354173f68b3f3bd6b0.jpg -> full_dataset_00101.jpg\n",
      "BeeSnapshot_2025-02-26_00_03_38_png.rf.7da846c45df91029e377f00a71c441ee.jpg -> full_dataset_00102.jpg\n",
      "459_png_jpg.rf.9456f03fd6d4e263d773cf587dfea79f.jpg -> full_dataset_00103.jpg\n",
      "320_png_jpg.rf.8217419be140971a2302c107447b48ea.jpg -> full_dataset_00104.jpg\n",
      "444_png_jpg.rf.5f70f2be994c2c4c3f8e8d88f4805381.jpg -> full_dataset_00105.jpg\n",
      "464_png_jpg.rf.9b89699d58006dc85d9681d2dec1570f.jpg -> full_dataset_00106.jpg\n",
      "324_png_jpg.rf.951146f2ccf90924a413052fb197d209.jpg -> full_dataset_00107.jpg\n",
      "439_png_jpg.rf.9595248cdf99df15ac74a12047a71536.jpg -> full_dataset_00108.jpg\n",
      "527_png_jpg.rf.8600239a9f1b30bd8479dcb2aac44c08.jpg -> full_dataset_00109.jpg\n",
      "307_png_jpg.rf.95a996a0b03929ce87cf0ca67676c01f.jpg -> full_dataset_00110.jpg\n",
      "323_png_jpg.rf.9c9d7c0921e64a85139990cf579ee040.jpg -> full_dataset_00111.jpg\n",
      "537_png_jpg.rf.7e9e65ee44b341b084e4a114b2a8f25e.jpg -> full_dataset_00112.jpg\n",
      "321_png_jpg.rf.741e8ae0be9e2063a2b5231aa75fd5e8.jpg -> full_dataset_00113.jpg\n",
      "319_png_jpg.rf.947e13abfe28089c2ee301910d904dc7.jpg -> full_dataset_00114.jpg\n",
      "260_png_jpg.rf.a62dd763064cd6a94a9bb8d0be268be3.jpg -> full_dataset_00115.jpg\n",
      "318_png_jpg.rf.a2f9ad5cc872619794994b8379214755.jpg -> full_dataset_00116.jpg\n",
      "449_png_jpg.rf.9ec9403a82291ff1da5f5ac7bc60d8da.jpg -> full_dataset_00117.jpg\n",
      "266_png_jpg.rf.a6b3a17b02f38711299a63338c3507ac.jpg -> full_dataset_00118.jpg\n",
      "298_png_jpg.rf.9eb85a604419dd91b2f0aa05c6db65b1.jpg -> full_dataset_00119.jpg\n",
      "437_png_jpg.rf.a9d2d9474555b7cf4f0f3add838be291.jpg -> full_dataset_00120.jpg\n",
      "323_png_jpg.rf.a8431624ae9f053d8603cb2a3dff68d4.jpg -> full_dataset_00121.jpg\n",
      "417_png_jpg.rf.b3d2c7472499ec41818eb5d773b51e78.jpg -> full_dataset_00122.jpg\n",
      "263_png_jpg.rf.8b135da17748730cdede3b9ae2744309.jpg -> full_dataset_00123.jpg\n",
      "471_png_jpg.rf.a366b78c86cbe076e594d6c5957fc8c3.jpg -> full_dataset_00124.jpg\n",
      "478_png_jpg.rf.a1edd5911d028fe69bf9a3f08c8877c5.jpg -> full_dataset_00125.jpg\n",
      "454_png_jpg.rf.bdb94a8bbb02a5fe2ca6267e70f7953d.jpg -> full_dataset_00126.jpg\n",
      "418_png_jpg.rf.a9be9eff5e9360306c730d1094ae6ba3.jpg -> full_dataset_00127.jpg\n",
      "BeeSnapshot_2025-02-26_00_03_51_png.rf.b7cc05939bc32495c9a6cfc5766dcbca.jpg -> full_dataset_00128.jpg\n",
      "470_png_jpg.rf.74b2fd1c68584c6b87986baa15e650bb.jpg -> full_dataset_00129.jpg\n",
      "440_png_jpg.rf.b7f33802e5b05bcb21a97d2144e2268e.jpg -> full_dataset_00130.jpg\n",
      "289_png_jpg.rf.c1b55ff7df2e94aee811a318c8772e55.jpg -> full_dataset_00131.jpg\n",
      "467_png_jpg.rf.b3d5ba137f6866d2381d6a3e540020aa.jpg -> full_dataset_00132.jpg\n",
      "340_png_jpg.rf.b8fdc020df2931ecb1e4bb39576e48e5.jpg -> full_dataset_00133.jpg\n",
      "464_png_jpg.rf.b7fd7ae36fd28285799aca8568b7541d.jpg -> full_dataset_00134.jpg\n",
      "454_png_jpg.rf.c4e31516843e8321b789c3d838a403cc.jpg -> full_dataset_00135.jpg\n",
      "263_png_jpg.rf.bbe5455b39f018f35e11e0ebf8d83320.jpg -> full_dataset_00136.jpg\n",
      "446_png_jpg.rf.b03487d270d1a279b2359dd55564db1b.jpg -> full_dataset_00137.jpg\n",
      "535_png_jpg.rf.b8f48adeefb9f6f7aba4c3b76fca7d46.jpg -> full_dataset_00138.jpg\n",
      "529_png_jpg.rf.bbaefc3cf0f8ec49e6368276c93679de.jpg -> full_dataset_00139.jpg\n",
      "270_png_jpg.rf.b5e77872bbf5fb1bde9d246e9989e2c3.jpg -> full_dataset_00140.jpg\n",
      "477_png_jpg.rf.c25b2107bcf764c7b3c40e11359fb819.jpg -> full_dataset_00141.jpg\n",
      "533_png_jpg.rf.c423f73d90bf970082b6e8b1fbe2c35f.jpg -> full_dataset_00142.jpg\n",
      "283_png_jpg.rf.c4e3344e6521382b28535ade93fd54b5.jpg -> full_dataset_00143.jpg\n",
      "263_png_jpg.rf.cf3bb2e2fd9df0b2bdc4fc774a794902.jpg -> full_dataset_00144.jpg\n",
      "318_png_jpg.rf.d5bebb6821f8d437f899f7ced9619f88.jpg -> full_dataset_00145.jpg\n",
      "431_png_jpg.rf.dc0245e483bc246b5ef02c4c05f818c0.jpg -> full_dataset_00146.jpg\n",
      "470_png_jpg.rf.cffe01d5faf40f2554e0611123e3a60f.jpg -> full_dataset_00147.jpg\n",
      "BeeSnapshot_2025-02-26_00_03_47_png.rf.948ee4085f0617beb14c0d1082822f52.jpg -> full_dataset_00148.jpg\n",
      "322_png_jpg.rf.e52770fc8fc4a4f521943db0ec023461.jpg -> full_dataset_00149.jpg\n",
      "280_png_jpg.rf.e6d12e8dc5b210e7c0daf581a1cc358d.jpg -> full_dataset_00150.jpg\n",
      "266_png_jpg.rf.f41878619c7531a01eeb0a4b339e2b8b.jpg -> full_dataset_00151.jpg\n",
      "318_png_jpg.rf.b2c9a32ff27a784262c217d12192a45d.jpg -> full_dataset_00152.jpg\n",
      "291_png_jpg.rf.cb6636adc319fcb7be4d7338fbdffd0d.jpg -> full_dataset_00153.jpg\n",
      "265_png_jpg.rf.e63230774877f1e35782e570f53df5c8.jpg -> full_dataset_00154.jpg\n",
      "518_png_jpg.rf.d2656a5c8dda7dec07e18311a916f7c5.jpg -> full_dataset_00155.jpg\n",
      "530_png_jpg.rf.f13bdc7285020b18fb1e946777db314c.jpg -> full_dataset_00156.jpg\n",
      "339_png_jpg.rf.e1592a3790e7d5ca539b695401a1a389.jpg -> full_dataset_00157.jpg\n",
      "322_png_jpg.rf.c968d8a93097c5e9ae6b461ddbe29909.jpg -> full_dataset_00158.jpg\n",
      "509_png_jpg.rf.fd781b64650a4348e7cfc1d39fc7d389.jpg -> full_dataset_00159.jpg\n",
      "269_png_jpg.rf.eb5396ceeb3555c25dde30d16102ab68.jpg -> full_dataset_00160.jpg\n",
      "271_png_jpg.rf.cc5bb76845d823f27c39b1254a49032c.jpg -> full_dataset_00161.jpg\n",
      "441_png_jpg.rf.d7e830a414231b549bee5eaf70afcb99.jpg -> full_dataset_00162.jpg\n"
     ]
    }
   ],
   "source": [
    "rename_files_and_update_annotations(\"full_dataset\")"
   ],
   "metadata": {
    "collapsed": false,
    "ExecuteTime": {
     "end_time": "2025-03-03T09:16:52.894649Z",
     "start_time": "2025-03-03T09:16:52.852967Z"
    }
   },
   "id": "12222ef7807c8c47",
   "execution_count": 7
  },
  {
   "cell_type": "code",
   "outputs": [
    {
     "name": "stdout",
     "output_type": "stream",
     "text": [
      "Маски сохранены в full_dataset/masks в формате .npy\n"
     ]
    }
   ],
   "source": [
    "save_coco_masks_npy(\n",
    "    coco_annotation_path=\"full_dataset/annotations.json\",\n",
    "    output_dir=\"full_dataset/masks\"\n",
    ")"
   ],
   "metadata": {
    "collapsed": false,
    "ExecuteTime": {
     "end_time": "2025-03-03T09:17:34.703327Z",
     "start_time": "2025-03-03T09:17:34.633011Z"
    }
   },
   "id": "83a793619c284192",
   "execution_count": 10
  },
  {
   "cell_type": "code",
   "outputs": [
    {
     "data": {
      "text/plain": "<Figure size 640x480 with 2 Axes>",
      "image/png": "[encoded data removed]"
     },
     "metadata": {},
     "output_type": "display_data"
    }
   ],
   "source": [
    "visualize_npy('full_dataset/masks/mask_full_dataset_00146.npy')"
   ],
   "metadata": {
    "collapsed": false,
    "ExecuteTime": {
     "end_time": "2025-03-03T09:18:33.768595Z",
     "start_time": "2025-03-03T09:18:33.640061Z"
    }
   },
   "id": "eeac47237c7602a9",
   "execution_count": 12
  },
  {
   "cell_type": "code",
   "outputs": [],
   "source": [
    "# Определяем размер изображения\n",
    "IMAGE_SIZE = 512  # Или любой другой размер\n",
    "\n",
    "# Группировка базовых преобразований\n",
    "basic_transforms = A.Compose([\n",
    "    A.Resize(height=IMAGE_SIZE, width=IMAGE_SIZE, p=1.0),  # Изменение размера\n",
    "    A.PadIfNeeded(min_height=IMAGE_SIZE, min_width=IMAGE_SIZE, p=1.0),  # Добавление паддинга\n",
    "    A.CropNonEmptyMaskIfExists(height=IMAGE_SIZE, width=IMAGE_SIZE),  # Обрезка\n",
    "    A.HorizontalFlip(p=0.5),  # Случайный горизонтальный флип\n",
    "])\n",
    "\n",
    "# Группировка агрессивных преобразований\n",
    "aggressive_transforms = A.Compose([\n",
    "    A.OneOf([\n",
    "        A.AdvancedBlur(p=0.5),  # Размытие\n",
    "        A.GaussNoise(p=0.5),  # Шум Гаусса\n",
    "        A.CLAHE(p=0.5),  # CLAHE\n",
    "    ], p=0.5),  # Применяется с вероятностью 30%\n",
    "    \n",
    "    A.OneOf([\n",
    "        A.RandomBrightnessContrast(p=0.5),  # Случайная яркость и контраст\n",
    "        A.RandomGamma(p=0.5),  # Случайная гамма\n",
    "        A.ColorJitter(p=0.5),  # Случайное изменение яркости, контраста и насыщенности\n",
    "    ], p=0.5),  # Применяется с вероятностью 30%\n",
    "    \n",
    "    A.Rotate(limit=20, p=0.5),  # Случайный поворот\n",
    "])\n",
    "\n",
    "# Итоговая трансформация, где сначала применяются базовые, затем агрессивные\n",
    "transforms = A.Compose([\n",
    "    basic_transforms,  # Базовые преобразования\n",
    "    aggressive_transforms,  # Агрессивные преобразования\n",
    "    ToTensorV2(),  # Преобразование в тензор\n",
    "])"
   ],
   "metadata": {
    "collapsed": false,
    "ExecuteTime": {
     "end_time": "2025-03-03T09:19:05.391131Z",
     "start_time": "2025-03-03T09:19:05.372008Z"
    }
   },
   "id": "38fd2a15157ba16f",
   "execution_count": 13
  },
  {
   "cell_type": "code",
   "outputs": [],
   "source": [
    "full_dataset = TMJDataset(\n",
    "    image_dir=\"full_dataset/images\",\n",
    "    mask_dir=\"full_dataset/masks\",\n",
    "    transforms=transforms\n",
    ")"
   ],
   "metadata": {
    "collapsed": false,
    "ExecuteTime": {
     "end_time": "2025-03-03T09:19:50.292100Z",
     "start_time": "2025-03-03T09:19:50.289230Z"
    }
   },
   "id": "bd061a191862dbdf",
   "execution_count": 14
  },
  {
   "cell_type": "code",
   "outputs": [
    {
     "data": {
      "text/plain": "<Figure size 1200x600 with 2 Axes>",
      "image/png": "[encoded data removed]"
     },
     "metadata": {},
     "output_type": "display_data"
    }
   ],
   "source": [
    "full_dataset.visualize(idx=2)"
   ],
   "metadata": {
    "collapsed": false,
    "ExecuteTime": {
     "end_time": "2025-03-03T09:20:23.632951Z",
     "start_time": "2025-03-03T09:20:23.516089Z"
    }
   },
   "id": "5718dfe09d4f2277",
   "execution_count": 28
  },
  {
   "cell_type": "code",
   "outputs": [
    {
     "name": "stdout",
     "output_type": "stream",
     "text": [
      "Количество изображений в полном датасете: 163\n",
      "Количество изображений в тренировочном датасете: 114\n",
      "Количество изображений в валидационном датасете: 32\n",
      "Количество изображений в тестовом датасете: 17\n"
     ]
    }
   ],
   "source": [
    "train_size = int(0.7 * len(full_dataset))\n",
    "val_size = int(0.2 * len(full_dataset))\n",
    "test_size = len(full_dataset) - train_size - val_size\n",
    "\n",
    "train_dataset, val_dataset, test_dataset = random_split(full_dataset, [train_size, val_size, test_size])\n",
    "\n",
    "print('Количество изображений в полном датасете:',len(full_dataset))\n",
    "print('Количество изображений в тренировочном датасете:',len(train_dataset))\n",
    "print('Количество изображений в валидационном датасете:',len(val_dataset))\n",
    "print('Количество изображений в тестовом датасете:',len(test_dataset))"
   ],
   "metadata": {
    "collapsed": false,
    "ExecuteTime": {
     "end_time": "2025-03-03T09:19:58.887195Z",
     "start_time": "2025-03-03T09:19:58.873150Z"
    }
   },
   "id": "27b6acfd3c226227",
   "execution_count": 17
  },
  {
   "cell_type": "markdown",
   "source": [
    "## Визуализируем изображение и маску"
   ],
   "metadata": {
    "collapsed": false
   },
   "id": "b5663728965965bf"
  },
  {
   "cell_type": "markdown",
   "source": [
    "## Обучение модели"
   ],
   "metadata": {
    "collapsed": false
   },
   "id": "d0fa9f0933763051"
  },
  {
   "cell_type": "code",
   "outputs": [],
   "source": [
    "CLASSES_NUM = 2\n",
    "\n",
    "LEARNING_RATE = 1e-4\n",
    "WEIGHT_DECAY = 1e-5\n",
    "BETAS = (0.9, 0.999)\n",
    "BATCH_SIZE = 4\n",
    "NUM_WORKERS = 4\n",
    "EPOCH_NUM = 75\n",
    "CHECKPOINTS_DIR = \"checkpoints\"\n",
    "TENSORBOARD_DIR = \"tensorboard\"\n",
    "RM_CHECKPOINTS_DIR = False\n",
    "\n",
    "DEVICE = \"cuda\" if torch.cuda.is_available() else \"cpu\""
   ],
   "metadata": {
    "collapsed": false,
    "ExecuteTime": {
     "end_time": "2025-03-03T09:20:34.232706Z",
     "start_time": "2025-03-03T09:20:34.229203Z"
    }
   },
   "id": "361f7be95d89900f",
   "execution_count": 29
  },
  {
   "cell_type": "code",
   "outputs": [
    {
     "ename": "ValueError",
     "evalue": "fp16 mixed precision requires a GPU (not 'mps').",
     "output_type": "error",
     "traceback": [
      "\u001B[31m---------------------------------------------------------------------------\u001B[39m",
      "\u001B[31mValueError\u001B[39m                                Traceback (most recent call last)",
      "\u001B[36mCell\u001B[39m\u001B[36m \u001B[39m\u001B[32mIn[30]\u001B[39m\u001B[32m, line 16\u001B[39m\n\u001B[32m      1\u001B[39m train_dataloader = DataLoader(\n\u001B[32m      2\u001B[39m     train_dataset,\n\u001B[32m      3\u001B[39m     batch_size=BATCH_SIZE,\n\u001B[32m   (...)\u001B[39m\u001B[32m      6\u001B[39m     drop_last=\u001B[38;5;28;01mTrue\u001B[39;00m,\n\u001B[32m      7\u001B[39m )\n\u001B[32m      8\u001B[39m val_dataloader = DataLoader(\n\u001B[32m      9\u001B[39m     val_dataset,\n\u001B[32m     10\u001B[39m     batch_size=BATCH_SIZE,\n\u001B[32m   (...)\u001B[39m\u001B[32m     13\u001B[39m     drop_last=\u001B[38;5;28;01mTrue\u001B[39;00m,\n\u001B[32m     14\u001B[39m )\n\u001B[32m---> \u001B[39m\u001B[32m16\u001B[39m accelerator = \u001B[43mAccelerator\u001B[49m\u001B[43m(\u001B[49m\u001B[43mcpu\u001B[49m\u001B[43m=\u001B[49m\u001B[38;5;28;43;01mFalse\u001B[39;49;00m\u001B[43m,\u001B[49m\u001B[43m \u001B[49m\u001B[43mmixed_precision\u001B[49m\u001B[43m=\u001B[49m\u001B[33;43m\"\u001B[39;49m\u001B[33;43mfp16\u001B[39;49m\u001B[33;43m\"\u001B[39;49m\u001B[43m)\u001B[49m\n\u001B[32m     17\u001B[39m model = UNet(n_channels=\u001B[32m3\u001B[39m, n_classes=CLASSES_NUM, bilinear=\u001B[38;5;28;01mFalse\u001B[39;00m)\n\u001B[32m     19\u001B[39m loss_fn = MulticlassCrossEntropyLoss(ignore_index=\u001B[32m255\u001B[39m, reduction=\u001B[33m\"\u001B[39m\u001B[33msum\u001B[39m\u001B[33m\"\u001B[39m)\n",
      "\u001B[36mFile \u001B[39m\u001B[32m~/Developer/PycharmProjects/CT-TMJ/.venv/lib/python3.13/site-packages/accelerate/accelerator.py:540\u001B[39m, in \u001B[36mAccelerator.__init__\u001B[39m\u001B[34m(self, device_placement, split_batches, mixed_precision, gradient_accumulation_steps, cpu, dataloader_config, deepspeed_plugin, fsdp_plugin, torch_tp_plugin, megatron_lm_plugin, rng_types, log_with, project_dir, project_config, gradient_accumulation_plugin, step_scheduler_with_optimizer, kwargs_handlers, dynamo_backend, dynamo_plugin, deepspeed_plugins)\u001B[39m\n\u001B[32m    536\u001B[39m \u001B[38;5;28mself\u001B[39m.native_amp = \u001B[38;5;28;01mTrue\u001B[39;00m\n\u001B[32m    537\u001B[39m \u001B[38;5;28;01mif\u001B[39;00m \u001B[38;5;28mself\u001B[39m.device.type \u001B[38;5;129;01mnot\u001B[39;00m \u001B[38;5;129;01min\u001B[39;00m (\u001B[33m\"\u001B[39m\u001B[33mxpu\u001B[39m\u001B[33m\"\u001B[39m, \u001B[33m\"\u001B[39m\u001B[33mcuda\u001B[39m\u001B[33m\"\u001B[39m, \u001B[33m\"\u001B[39m\u001B[33mnpu\u001B[39m\u001B[33m\"\u001B[39m, \u001B[33m\"\u001B[39m\u001B[33mxla\u001B[39m\u001B[33m\"\u001B[39m, \u001B[33m\"\u001B[39m\u001B[33mmlu\u001B[39m\u001B[33m\"\u001B[39m, \u001B[33m\"\u001B[39m\u001B[33mmusa\u001B[39m\u001B[33m\"\u001B[39m) \u001B[38;5;129;01mor\u001B[39;00m is_torch_xla_available(\n\u001B[32m    538\u001B[39m     check_is_tpu=\u001B[38;5;28;01mTrue\u001B[39;00m\n\u001B[32m    539\u001B[39m ):\n\u001B[32m--> \u001B[39m\u001B[32m540\u001B[39m     \u001B[38;5;28;01mraise\u001B[39;00m \u001B[38;5;167;01mValueError\u001B[39;00m(\u001B[33mf\u001B[39m\u001B[33m\"\u001B[39m\u001B[33mfp16 mixed precision requires a GPU (not \u001B[39m\u001B[38;5;132;01m{\u001B[39;00m\u001B[38;5;28mself\u001B[39m.device.type\u001B[38;5;132;01m!r}\u001B[39;00m\u001B[33m).\u001B[39m\u001B[33m\"\u001B[39m)\n\u001B[32m    541\u001B[39m kwargs = \u001B[38;5;28mself\u001B[39m.scaler_handler.to_kwargs() \u001B[38;5;28;01mif\u001B[39;00m \u001B[38;5;28mself\u001B[39m.scaler_handler \u001B[38;5;129;01mis\u001B[39;00m \u001B[38;5;129;01mnot\u001B[39;00m \u001B[38;5;28;01mNone\u001B[39;00m \u001B[38;5;28;01melse\u001B[39;00m {}\n\u001B[32m    542\u001B[39m \u001B[38;5;28mself\u001B[39m.scaler = get_grad_scaler(\u001B[38;5;28mself\u001B[39m.distributed_type, **kwargs)\n",
      "\u001B[31mValueError\u001B[39m: fp16 mixed precision requires a GPU (not 'mps')."
     ]
    }
   ],
   "source": [
    "train_dataloader = DataLoader(\n",
    "    train_dataset,\n",
    "    batch_size=BATCH_SIZE,\n",
    "    num_workers=NUM_WORKERS,\n",
    "    shuffle=True,\n",
    "    drop_last=True,\n",
    ")\n",
    "val_dataloader = DataLoader(\n",
    "    val_dataset,\n",
    "    batch_size=BATCH_SIZE,\n",
    "    num_workers=NUM_WORKERS,\n",
    "    shuffle=True,\n",
    "    drop_last=True,\n",
    ")\n",
    "\n",
    "accelerator = Accelerator(cpu=False, mixed_precision=\"fp16\")\n",
    "model = UNet(n_channels=3, n_classes=CLASSES_NUM, bilinear=False)\n",
    "\n",
    "loss_fn = MulticlassCrossEntropyLoss(ignore_index=255, reduction=\"sum\")\n",
    "metric_fn = IoUMetric(classes_num=CLASSES_NUM, reduction=\"macro\")\n",
    "\n",
    "optimizer = torch.optim.AdamW(\n",
    "    model.parameters(), lr=LEARNING_RATE, weight_decay=WEIGHT_DECAY, betas=BETAS\n",
    ")\n",
    "lr_scheduler = torch.optim.lr_scheduler.StepLR(\n",
    "    optimizer=optimizer, step_size=10, gamma=0.85\n",
    ")\n",
    "\n",
    "os.makedirs(CHECKPOINTS_DIR, exist_ok=True)\n",
    "checkpointer = CheckpointSaver(\n",
    "    accelerator=accelerator,\n",
    "    model=model,\n",
    "    metric_name=\"mIoU\",\n",
    "    save_dir=CHECKPOINTS_DIR,\n",
    "    rm_save_dir=RM_CHECKPOINTS_DIR,\n",
    "    max_history=5,\n",
    "    should_minimize=False,\n",
    ")"
   ],
   "metadata": {
    "collapsed": false,
    "ExecuteTime": {
     "end_time": "2025-03-03T09:20:39.389891Z",
     "start_time": "2025-03-03T09:20:39.269608Z"
    }
   },
   "id": "60124c0e599b1246",
   "execution_count": 30
  },
  {
   "cell_type": "code",
   "outputs": [],
   "source": [
    "os.makedirs(TENSORBOARD_DIR, exist_ok=True)\n",
    "tensorboard_logger = torch.utils.tensorboard.SummaryWriter(log_dir=TENSORBOARD_DIR)"
   ],
   "metadata": {
    "collapsed": false,
    "ExecuteTime": {
     "end_time": "2025-03-03T09:21:09.013912Z",
     "start_time": "2025-03-03T09:21:08.999802Z"
    }
   },
   "id": "46e885d317fc2963",
   "execution_count": 31
  },
  {
   "cell_type": "code",
   "outputs": [
    {
     "ename": "NameError",
     "evalue": "name 'accelerator' is not defined",
     "output_type": "error",
     "traceback": [
      "\u001B[31m---------------------------------------------------------------------------\u001B[39m",
      "\u001B[31mNameError\u001B[39m                                 Traceback (most recent call last)",
      "\u001B[36mCell\u001B[39m\u001B[36m \u001B[39m\u001B[32mIn[32]\u001B[39m\u001B[32m, line 2\u001B[39m\n\u001B[32m      1\u001B[39m \u001B[38;5;66;03m# акселерируем\u001B[39;00m\n\u001B[32m----> \u001B[39m\u001B[32m2\u001B[39m model, optimizer, train_dataloader, val_dataloader, lr_scheduler = \u001B[43maccelerator\u001B[49m.prepare(\n\u001B[32m      3\u001B[39m     model, optimizer, train_dataloader, val_dataloader, lr_scheduler\n\u001B[32m      4\u001B[39m )\n",
      "\u001B[31mNameError\u001B[39m: name 'accelerator' is not defined"
     ]
    }
   ],
   "source": [
    "# акселерируем\n",
    "model, optimizer, train_dataloader, val_dataloader, lr_scheduler = accelerator.prepare(\n",
    "    model, optimizer, train_dataloader, val_dataloader, lr_scheduler\n",
    ")"
   ],
   "metadata": {
    "collapsed": false,
    "ExecuteTime": {
     "end_time": "2025-03-03T09:21:10.703221Z",
     "start_time": "2025-03-03T09:21:10.663869Z"
    }
   },
   "id": "399a85338fd09875",
   "execution_count": 32
  },
  {
   "cell_type": "code",
   "outputs": [],
   "source": [
    "train(\n",
    "    model=model,\n",
    "    optimizer=optimizer,\n",
    "    train_dataloader=train_dataloader,\n",
    "    val_dataloader=val_dataloader,\n",
    "    loss_function=loss_fn,\n",
    "    metric_function=metric_fn,\n",
    "    lr_scheduler=lr_scheduler,\n",
    "    accelerator=accelerator,\n",
    "    epoch_num=EPOCH_NUM,\n",
    "    checkpointer=checkpointer,\n",
    "    tb_logger=tensorboard_logger,\n",
    "    save_on_val=True,\n",
    "    show_every_x_batch=15,\n",
    ")"
   ],
   "metadata": {
    "collapsed": false,
    "ExecuteTime": {
     "end_time": "2025-03-03T09:15:20.171230Z",
     "start_time": "2025-03-03T09:15:20.171074Z"
    }
   },
   "id": "abf113ff8c8635ce",
   "execution_count": null
  },
  {
   "cell_type": "code",
   "outputs": [],
   "source": [],
   "metadata": {
    "collapsed": false,
    "ExecuteTime": {
     "start_time": "2025-03-03T09:15:20.171678Z"
    }
   },
   "id": "21b2562d6e2b0c5f"
  }
 ],
 "metadata": {
  "kernelspec": {
   "display_name": "Python 3",
   "language": "python",
   "name": "python3"
  },
  "language_info": {
   "codemirror_mode": {
    "name": "ipython",
    "version": 2
   },
   "file_extension": ".py",
   "mimetype": "text/x-python",
   "name": "python",
   "nbconvert_exporter": "python",
   "pygments_lexer": "ipython2",
   "version": "2.7.6"
  }
 },
 "nbformat": 4,
 "nbformat_minor": 5
}
