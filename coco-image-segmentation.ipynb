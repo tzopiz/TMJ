{
 "cells": [
  {
   "source": [
    "<a href=\"https://www.kaggle.com/code/armanasgharpoor1993/coco-image-segmentation?scriptVersionId=138553552\" target=\"_blank\"><img align=\"left\" alt=\"Kaggle\" title=\"Open in Kaggle\" src=\"https://kaggle.com/static/images/open-in-kaggle.svg\"></a>"
   ],
   "metadata": {},
   "cell_type": "markdown",
   "id": "40c0a48d5fc08979"
  },
  {
   "cell_type": "markdown",
   "id": "4d25de99",
   "metadata": {
    "papermill": {
     "duration": 0.007724,
     "end_time": "2023-08-01T08:10:16.903022",
     "exception": false,
     "start_time": "2023-08-01T08:10:16.895298",
     "status": "completed"
    },
    "tags": []
   },
   "source": [
    "# **Тutorial по сегментации изображений с использованием глубокого обучения**\n",
    "\n",
    "В этом уроке мы исследуем тему сегментации изображений с использованием глубокого обучения. Сегментация изображений — это важная задача компьютерного зрения, которая заключается в разделении изображения на несколько сегментов или областей для облегчения анализа и понимания. Техники глубокого обучения, особенно свёрточные нейронные сети (CNN), продемонстрировали выдающиеся результаты в задачах сегментации изображений, благодаря своей способности обучаться сложным визуальным представлениям непосредственно из данных.\n",
    "\n",
    "## Введение в сегментацию изображений\n",
    "\n",
    "Сегментация изображений играет ключевую роль в различных приложениях компьютерного зрения, включая детекцию объектов, семантическое понимание, медицинскую визуализацию и автономное вождение. Цель сегментации — идентифицировать и очертить значимые области на изображении, что позволяет проводить детальный анализ и понимать визуальное содержание. Присваивая метки или маски отдельным пикселям или группам пикселей, сегментация изображений предоставляет подробное понимание объектов, границ и контекста на изображении.\n",
    "\n",
    "### Типы сегментации изображений\n",
    "\n",
    "Существует несколько типов техник сегментации изображений, каждая из которых решает разные аспекты задачи сегментации:\n",
    "\n",
    "1. **Семантическая сегментация**: Семантическая сегментация присваивает каждому пикселю на изображении метку класса, эффективно классифицируя его в значимые объектные классы. Например, в сценарии автономного вождения пиксели могут быть классифицированы как «автомобиль», «человек» или «фон». Семантическая сегментация предоставляет общее понимание содержания изображения.\n",
    "\n",
    "2. **Сегментация объектов (instance segmentation)**: Сегментация объектов идет дальше семантической сегментации, не только классифицируя пиксели по классам объектов, но и различая отдельные экземпляры объектов на изображении. Например, в сцене с несколькими автомобилями сегментация объектов может разделить каждый автомобиль и присвоить ему уникальную метку.\n",
    "\n",
    "3. **Обнаружение границ**: Обнаружение границ фокусируется на нахождении и выделении границ или краев между различными объектами или областями на изображении. Эта техника помогает точно очертить контуры объектов, что важно для задач, таких как распознавание объектов и анализ формы.\n",
    "\n",
    "4. **Паноптическая сегментация**: Паноптическая сегментация объединяет как семантическую, так и сегментацию объектов, чтобы предоставить более полное понимание изображения. Она присваивает уникальные метки каждому экземпляру, а также выполняет семантическую сегментацию для фоновых областей. Паноптическая сегментация стремится соединить распознавание объектов и понимание общей сцены.\n",
    "\n",
    "### Глубокое обучение для сегментации изображений\n",
    "\n",
    "Техники глубокого обучения произвели революцию в сегментации изображений, автоматически обучая модели извлекать сложные признаки и паттерны непосредственно из данных. Свёрточные нейронные сети (CNN) зарекомендовали себя как особенно эффективные в захвате пространственных зависимостей и иерархических представлений в изображениях, что делает их идеальными для задач сегментации изображений.\n",
    "\n",
    "В последние годы такие архитектуры, как U-Net, PSPNet и Mask R-CNN, достигли передовых результатов в сегментации изображений. Эти архитектуры используют различные техники для улучшения точности сегментации:\n",
    "\n",
    "- **Пропуски соединений**: Пропуски соединений устанавливают прямые связи между слоями энкодера и декодера, что позволяет интегрировать низкоуровневые и высокоуровневые признаки. Это помогает сохранять детализированные данные в процессе увеличения разрешения.\n",
    "\n",
    "- **Дилатированные свёртки**: Дилатированные свёртки (или атрусные свёртки) увеличивают воспринимаемое поле свёрточных слоёв, не теряя пространственного разрешения. Это позволяет моделям захватывать более широкий контекст, сохраняя при этом детализированную информацию.\n",
    "\n",
    "- **Агрегация контекста на нескольких масштабах**: Техники, такие как пулинг, пирамидальная агрегация пулинга и атрусная пирамидальная агрегация (ASPP), используются для агрегации признаков на разных масштабах. Это позволяет модели захватывать как локальный, так и глобальный контекст, улучшая производительность сегментации.\n",
    "\n",
    "Архитектура U-Net, в частности, приобрела большую популярность благодаря своей эффективности в задачах сегментации медицинских изображений. Она использует структуру энкодер-декодер с пропусками соединений, что позволяет точно локализовать и сегментировать объекты. В этом уроке мы сосредоточимся на создании модели U-Net для сегментации изображений.\n",
    "\n",
    "В следующих разделах мы подробно рассмотрим реализацию модели сегментации изображений с использованием архитектуры U-Net. Мы охватим подготовку датасета, построение модели, стратегии обучения, метрики оценки и передовые техники сегментации изображений. В конце этого урока у вас будет полное понимание сегментации изображений с использованием глубокого обучения, и вы сможете применить эти знания для решения сложных задач сегментации в ваших проектах.\n",
    "\n",
    "---\n",
    "\n",
    "Я использовал ту же модель, что и [здесь](https://github.com/H-arshit/UNET-On-COCO/blob/master/Keras_COCO_UNET.ipynb)"
   ]
  },
  {
   "cell_type": "code",
   "execution_count": 1,
   "id": "bd27ffe1",
   "metadata": {
    "_cell_guid": "b1076dfc-b9ad-4769-8c92-a6c4dae69d19",
    "_uuid": "8f2839f25d086af736a60e9eeb907d3b93b6e0e5",
    "execution": {
     "iopub.execute_input": "2023-08-01T08:10:16.918855Z",
     "iopub.status.busy": "2023-08-01T08:10:16.917616Z",
     "iopub.status.idle": "2023-08-01T08:11:25.040266Z",
     "shell.execute_reply": "2023-08-01T08:11:25.03909Z"
    },
    "papermill": {
     "duration": 68.1332,
     "end_time": "2023-08-01T08:11:25.043126",
     "exception": false,
     "start_time": "2023-08-01T08:10:16.909926",
     "status": "completed"
    },
    "tags": [],
    "ExecuteTime": {
     "end_time": "2025-02-26T10:04:30.395749Z",
     "start_time": "2025-02-26T10:04:30.359747Z"
    }
   },
   "outputs": [],
   "source": [
    "#!pip install pycocotools\n",
    "#!pip install --upgrade scikit-image scipy\n",
    "#!pip install numpy"
   ]
  },
  {
   "cell_type": "markdown",
   "id": "6d5a86c1",
   "metadata": {
    "papermill": {
     "duration": 0.009927,
     "end_time": "2023-08-01T08:11:25.063166",
     "exception": false,
     "start_time": "2023-08-01T08:11:25.053239",
     "status": "completed"
    },
    "tags": []
   },
   "source": [
    "## 2. Setting up the Environment\n",
    "\n",
    "Before we begin, let's set up the environment by installing the necessary libraries and importing the required modules.\n",
    "\n",
    "\n",
    "In this code snippet, we install the `pycocotools` library, which is a Python API for the Microsoft Common Objects in Context (COCO) dataset. We also import various modules and libraries that we will use throughout the tutorial.\n",
    "\n"
   ]
  },
  {
   "cell_type": "code",
   "execution_count": 2,
   "id": "98cf3da1",
   "metadata": {
    "execution": {
     "iopub.execute_input": "2023-08-01T08:11:25.085098Z",
     "iopub.status.busy": "2023-08-01T08:11:25.084779Z",
     "iopub.status.idle": "2023-08-01T08:11:26.356635Z",
     "shell.execute_reply": "2023-08-01T08:11:26.355653Z"
    },
    "papermill": {
     "duration": 1.285437,
     "end_time": "2023-08-01T08:11:26.359137",
     "exception": false,
     "start_time": "2023-08-01T08:11:25.0737",
     "status": "completed"
    },
    "tags": [],
    "ExecuteTime": {
     "end_time": "2025-02-26T10:04:33.319510Z",
     "start_time": "2025-02-26T10:04:30.398433Z"
    }
   },
   "outputs": [],
   "source": [
    "import os\n",
    "import matplotlib\n",
    "import matplotlib.pyplot as plt\n",
    "import matplotlib.patches as patches\n",
    "import matplotlib.colors as colors\n",
    "import seaborn as sns\n",
    "import numpy as np\n",
    "\n",
    "from random import shuffle\n",
    "from PIL import Image\n",
    "from pycocotools.coco import COCO\n",
    "from tensorflow import keras\n",
    "\n",
    "from CustomDataGenerator import CustomDataGenerator\n",
    "from helpy import rename_files_and_update_annotations"
   ]
  },
  {
   "cell_type": "markdown",
   "id": "e75f7e12",
   "metadata": {
    "papermill": {
     "duration": 0.009507,
     "end_time": "2023-08-01T08:11:26.378553",
     "exception": false,
     "start_time": "2023-08-01T08:11:26.369046",
     "status": "completed"
    },
    "tags": []
   },
   "source": [
    "Install proper tensorflow-io version"
   ]
  },
  {
   "cell_type": "code",
   "execution_count": 3,
   "id": "be90c2c4",
   "metadata": {
    "execution": {
     "iopub.execute_input": "2023-08-01T08:11:26.400669Z",
     "iopub.status.busy": "2023-08-01T08:11:26.399216Z",
     "iopub.status.idle": "2023-08-01T08:11:41.683603Z",
     "shell.execute_reply": "2023-08-01T08:11:41.682382Z"
    },
    "papermill": {
     "duration": 15.297681,
     "end_time": "2023-08-01T08:11:41.686256",
     "exception": false,
     "start_time": "2023-08-01T08:11:26.388575",
     "status": "completed"
    },
    "tags": [],
    "ExecuteTime": {
     "end_time": "2025-02-26T10:04:33.321309Z",
     "start_time": "2025-02-26T10:04:33.319523Z"
    }
   },
   "outputs": [],
   "source": [
    "#!pip uninstall -y tensorflow-io\n",
    "#!pip install tensorflow-io"
   ]
  },
  {
   "cell_type": "markdown",
   "id": "4d0b4ac8",
   "metadata": {
    "papermill": {
     "duration": 0.011401,
     "end_time": "2023-08-01T08:11:41.709498",
     "exception": false,
     "start_time": "2023-08-01T08:11:41.698097",
     "status": "completed"
    },
    "tags": []
   },
   "source": [
    "## 3. Загрузка и подготовка датасета\n",
    "\n",
    "Для обучения и оценки модели сегментации изображений нам нужен датасет с аннотированными масками. В этом уроке мы будем использовать датасет COCO, который является крупномасштабным датасетом для детекции объектов, сегментации и генерации подписей.\n",
    "\n",
    "Нам нужно загрузить файлы аннотаций для датасета COCO, которые содержат информацию об экземплярах объектов и их соответствующих масках.\n",
    "\n",
    "В приведённом выше коде мы загружаем файлы аннотаций COCO для обучающего и валидационного наборов данных. Мы указываем интересующие нас классы объектов (в данном случае, только \"человек\"). Мы извлекаем идентификаторы изображений и категорий, соответствующие указанным классам. Также мы загружаем словари изображений для обоих наборов данных — обучающего и валидационного.\n",
    "\n",
    "После загрузки необходимых данных мы выводим количество изображений для обучения и валидации, а также количество категорий. Мы перемешиваем идентификаторы изображений, чтобы в процессе обучения была введена случайность. Кроме того, мы выбираем подмножество идентификаторов изображений для валидации, чтобы ускорить процесс оценки."
   ]
  },
  {
   "cell_type": "code",
   "outputs": [
    {
     "name": "stdout",
     "output_type": "stream",
     "text": [
      "305_png_jpg.rf.0088a3d40e8af021dc4e89822da83c85.jpg -> train_000000000000.jpg\n",
      "283_png_jpg.rf.01adbe5d0a6b0bcd954b287b164d0700.jpg -> train_000000000001.jpg\n",
      "319_png_jpg.rf.03e9a85e282c48cc34550a9beb466551.jpg -> train_000000000002.jpg\n",
      "464_png_jpg.rf.011489431c68528dd0dd000603b04f7e.jpg -> train_000000000003.jpg\n",
      "318_png_jpg.rf.096d0d5a1052f0b3423f8674ff972e74.jpg -> train_000000000004.jpg\n",
      "BeeSnapshot_2025-02-25_23_54_44_png.rf.04d8f4c369a036a9f62f282d16919572.jpg -> train_000000000005.jpg\n",
      "461_png_jpg.rf.093ab9a1855e3707b753e209551c6e86.jpg -> train_000000000006.jpg\n",
      "266_png_jpg.rf.01b94f30c18cc5b9bdf97224763eb7c2.jpg -> train_000000000007.jpg\n",
      "298_png_jpg.rf.0b1887e79fe033095d8b5a4b913a6b88.jpg -> train_000000000008.jpg\n",
      "472_png_jpg.rf.0d03a711251216eb8620bc1d9961f1c1.jpg -> train_000000000009.jpg\n",
      "447_png_jpg.rf.0d3eabafcfd8734794c6a48b97449109.jpg -> train_000000000010.jpg\n",
      "270_png_jpg.rf.150044106de6192ad72d77f10413826e.jpg -> train_000000000011.jpg\n",
      "459_png_jpg.rf.1b0eabe119521c7bc378e77bb48580a3.jpg -> train_000000000012.jpg\n",
      "BeeSnapshot_2025-02-26_00_03_51_png.rf.1c92e4ae70b107e2f72a8410fee4a172.jpg -> train_000000000013.jpg\n",
      "271_png_jpg.rf.199d516e4368463feca6a22fec1e194f.jpg -> train_000000000014.jpg\n",
      "530_png_jpg.rf.1bf392de77d240f2e04907f5cc8835e5.jpg -> train_000000000015.jpg\n",
      "280_png_jpg.rf.2198d2c56fb1a7f4c0b90869d7021974.jpg -> train_000000000016.jpg\n",
      "517_png_jpg.rf.13c5164c74f7c38315a590f1cb61d795.jpg -> train_000000000017.jpg\n",
      "322_png_jpg.rf.31a1011f11d225ef2292c46d7a299cc4.jpg -> train_000000000018.jpg\n",
      "323_png_jpg.rf.21a969ae78d46ac6cba7642b200b116b.jpg -> train_000000000019.jpg\n",
      "436_png_jpg.rf.276c22f4445db58724ab458af2a6c4c0.jpg -> train_000000000020.jpg\n",
      "263_png_jpg.rf.1fff2d81785659c744349dd4970069bd.jpg -> train_000000000021.jpg\n",
      "263_png_jpg.rf.28bbfe7d4c65ad6af8e407c1fbbffa48.jpg -> train_000000000022.jpg\n",
      "535_png_jpg.rf.42e4ce89593aacaaa2073f913cab4f2e.jpg -> train_000000000023.jpg\n",
      "308_png_jpg.rf.25319b707ce182358a03f09d830cf9fa.jpg -> train_000000000024.jpg\n",
      "456_png_jpg.rf.45aa2a04c884e87b1f97becc8a4fae38.jpg -> train_000000000025.jpg\n",
      "467_png_jpg.rf.10ff58e4ac6039ff923903f1b3a4f992.jpg -> train_000000000026.jpg\n",
      "467_png_jpg.rf.2facbb779231c00bcd7f20a157da5bb9.jpg -> train_000000000027.jpg\n",
      "422_png_jpg.rf.3789fca7d5d7dfd777a05b73cf8f471b.jpg -> train_000000000028.jpg\n",
      "516_png_jpg.rf.499ec2be922bcf2f619cb15c8e4fffe7.jpg -> train_000000000029.jpg\n",
      "270_png_jpg.rf.4a1213aa2ff0ba709caad2b471835a4e.jpg -> train_000000000030.jpg\n",
      "266_png_jpg.rf.35895ba5ba4778caa0c612d4733ed009.jpg -> train_000000000031.jpg\n",
      "471_png_jpg.rf.37e5a6b4ebc2ae9141eff41ac07432a6.jpg -> train_000000000032.jpg\n",
      "267_png_jpg.rf.52b5b5e9f831219e1101b9c28af1f246.jpg -> train_000000000033.jpg\n",
      "441_png_jpg.rf.419b65503413a76b76c1bd2faf294d99.jpg -> train_000000000034.jpg\n",
      "436_png_jpg.rf.438e7b05b4fce2cb6e730543321f5abd.jpg -> train_000000000035.jpg\n",
      "446_png_jpg.rf.566c7f6eb17be35b54fc4327ef507554.jpg -> train_000000000036.jpg\n",
      "464_png_jpg.rf.5b425d3b63003b955243866fb98f1945.jpg -> train_000000000037.jpg\n",
      "418_png_jpg.rf.613282a4af6bec77429553f97fac6aed.jpg -> train_000000000038.jpg\n",
      "440_png_jpg.rf.57501acc1f99b74f9a6f92f9c6b660fa.jpg -> train_000000000039.jpg\n",
      "BeeSnapshot_2025-02-25_23_54_28_png.rf.57676cdd58999bda2becb44da19185d8.jpg -> train_000000000040.jpg\n",
      "454_png_jpg.rf.537ff5982acf615eb0cea306f1ef4d5e.jpg -> train_000000000041.jpg\n",
      "439_png_jpg.rf.28464b828e140a448b6ec922bfb3d6d7.jpg -> train_000000000042.jpg\n",
      "339_png_jpg.rf.2c6edb5cf7d05d727c0e627c0d8b0cb2.jpg -> train_000000000043.jpg\n",
      "319_png_jpg.rf.618d9e0a632a1239e4a509be0f99b54a.jpg -> train_000000000044.jpg\n",
      "340_png_jpg.rf.54aa77ce7d611e76d8351cc1a247f34b.jpg -> train_000000000045.jpg\n",
      "537_png_jpg.rf.645f82facb512791b21b328fe041355c.jpg -> train_000000000046.jpg\n",
      "291_png_jpg.rf.6d0c69b9d6b4ec64b62c23a704008a7b.jpg -> train_000000000047.jpg\n",
      "470_png_jpg.rf.6aac84b1fcf7fd7dec1b7de3111d9980.jpg -> train_000000000048.jpg\n",
      "525_png_jpg.rf.6da3800d6328d8a24bfa761ad25e77d9.jpg -> train_000000000049.jpg\n",
      "267_png_jpg.rf.645911e1096dd440325313e4b777c9d0.jpg -> train_000000000050.jpg\n",
      "457_png_jpg.rf.641a368ff749d1edf044336d25d87a21.jpg -> train_000000000051.jpg\n",
      "321_png_jpg.rf.33bcd08c89cc4d67f34a6518301d2aea.jpg -> train_000000000052.jpg\n",
      "466_png_jpg.rf.726e07f9bbfd886b58ab0dab0f913475.jpg -> train_000000000053.jpg\n",
      "431_png_jpg.rf.6c2401973b03047d6c8651e1668979a4.jpg -> train_000000000054.jpg\n",
      "524_png_jpg.rf.6ae05fe5227145f67b17bcc5626146bd.jpg -> train_000000000055.jpg\n",
      "289_png_jpg.rf.740281ce9484080d3d2974b5eed00825.jpg -> train_000000000056.jpg\n",
      "472_png_jpg.rf.7a01a196d2ab7038e6740b6c4e3a044d.jpg -> train_000000000057.jpg\n",
      "519_png_jpg.rf.723738a017776cd1cf65e6f1b2bcedf6.jpg -> train_000000000058.jpg\n",
      "533_png_jpg.rf.841d81b287f69f8515c694efd88fe42f.jpg -> train_000000000059.jpg\n",
      "464_png_jpg.rf.78f74963169f425453553875ab8a6120.jpg -> train_000000000060.jpg\n",
      "449_png_jpg.rf.9097d494650d7b792edd06faf91c9442.jpg -> train_000000000061.jpg\n",
      "263_png_jpg.rf.70cee2580c4a674c21d2be45be23dcdb.jpg -> train_000000000062.jpg\n",
      "527_png_jpg.rf.8e8a03c827019781ea4f856b8f8375da.jpg -> train_000000000063.jpg\n",
      "318_png_jpg.rf.85fc8e6b7d3c812ad1e47e6397c27691.jpg -> train_000000000064.jpg\n",
      "476_png_jpg.rf.79ddf090e79557fadfc9ea35d41399f6.jpg -> train_000000000065.jpg\n",
      "BeeSnapshot_2025-02-26_00_03_38_png.rf.76fb9119ad7dbc4eab2868268d2de4a8.jpg -> train_000000000066.jpg\n",
      "319_png_jpg.rf.764baeabde9ea54e119f07143bed3019.jpg -> train_000000000067.jpg\n",
      "417_png_jpg.rf.a196a92e36ed7a2e3d303985151a4fe9.jpg -> train_000000000068.jpg\n",
      "287_png_jpg.rf.a0412f51d4c4cf29c3288ddc6caf6c8d.jpg -> train_000000000069.jpg\n",
      "320_png_jpg.rf.86b699d0b3682a0ca84ba1f38d92d0bc.jpg -> train_000000000070.jpg\n",
      "272_png_jpg.rf.b7a9dd8fe5b96b264163ddd1bf94be32.jpg -> train_000000000071.jpg\n",
      "269_png_jpg.rf.9a78d18e7646d095ce87db925438fbf2.jpg -> train_000000000072.jpg\n",
      "320_png_jpg.rf.c39072988fa527f9d3bb6f78d46b4879.jpg -> train_000000000073.jpg\n",
      "324_png_jpg.rf.bed4ae8d76156a7397852a275f052e47.jpg -> train_000000000074.jpg\n",
      "325_png_jpg.rf.9889ab8e9116ea217aade7020f5ab4f7.jpg -> train_000000000075.jpg\n",
      "513_png_jpg.rf.a82ecf9db292661955744893b1ed4737.jpg -> train_000000000076.jpg\n",
      "277_png_jpg.rf.92ac73fcff75bec0204d5bdac0dfe7b4.jpg -> train_000000000077.jpg\n",
      "454_png_jpg.rf.9d544b8278e10fa2f8c08379842b970f.jpg -> train_000000000078.jpg\n",
      "529_png_jpg.rf.a286bb392468bb23331f20e408b40f9b.jpg -> train_000000000079.jpg\n",
      "BeeSnapshot_2025-02-25_23_54_35_png.rf.b6715a3409683860707ada77902f3048.jpg -> train_000000000080.jpg\n",
      "321_png_jpg.rf.c26e98a52fe35905a82251b55e7e56e0.jpg -> train_000000000081.jpg\n",
      "515_png_jpg.rf.c44e18c317e155f6b9dc632540c44233.jpg -> train_000000000082.jpg\n",
      "518_png_jpg.rf.c48552d2ebbd2fb2cc2f04e5e68d2c43.jpg -> train_000000000083.jpg\n",
      "333_png_jpg.rf.d260a63dac20056d5024ed48f5d6e512.jpg -> train_000000000084.jpg\n",
      "477_png_jpg.rf.c433a48b5a781eb25e7e840f3bbf370c.jpg -> train_000000000085.jpg\n",
      "437_png_jpg.rf.d4164f59b2c3fd52ec79eabc18f150a4.jpg -> train_000000000086.jpg\n",
      "478_png_jpg.rf.b1ea925ac7d0a98d9aaea6976389ae32.jpg -> train_000000000087.jpg\n",
      "441_png_jpg.rf.c3e9e954d548fefda584a9e6e46d8ad0.jpg -> train_000000000088.jpg\n",
      "444_png_jpg.rf.b349c44d247479aefd3a24e5cb55cc1f.jpg -> train_000000000089.jpg\n",
      "322_png_jpg.rf.d6be52a6a11a43f9858dfb2c6e7049a5.jpg -> train_000000000090.jpg\n",
      "BeeSnapshot_2025-02-26_00_03_47_png.rf.af87d6c25d9f2fc9bee7939dc79a5d54.jpg -> train_000000000091.jpg\n",
      "536_png_jpg.rf.e33f97a1ef951839845a75098502fb6d.jpg -> train_000000000092.jpg\n",
      "290_png_jpg.rf.f31310a6258b9be80762455eff51dc24.jpg -> train_000000000093.jpg\n",
      "307_png_jpg.rf.d9119b9952c1c26814878233a4a3e8dd.jpg -> train_000000000094.jpg\n",
      "442_png_jpg.rf.ee0ddecd874f7388cd5fb22044c0d1da.jpg -> train_000000000095.jpg\n",
      "334_png_jpg.rf.b41139663950c19a427d75d6f4612c72.jpg -> train_000000000096.jpg\n",
      "452_png_jpg.rf.e7ce45d4ba555fad9776d8d0a1541498.jpg -> train_000000000097.jpg\n",
      "264_png_jpg.rf.dad1fcfbbd01ade861aaedf88324ca91.jpg -> train_000000000098.jpg\n",
      "470_png_jpg.rf.f3be3d3b1e66cabeb2cf53cf8db2f61f.jpg -> train_000000000099.jpg\n",
      "266_png_jpg.rf.ec9404bd58a59722a50132d06253c6b1.jpg -> train_000000000100.jpg\n",
      "321_png_jpg.rf.f600cfd3d0b8f712b441d3638eb5c274.jpg -> train_000000000101.jpg\n",
      "538_png_jpg.rf.ddd3487a84071f55a904e4af44dc0e8f.jpg -> train_000000000102.jpg\n",
      "323_png_jpg.rf.bcc941be94cb98d1780eafc6f38e7136.jpg -> train_000000000103.jpg\n",
      "428_png_jpg.rf.f552976ab18a2fc45175b6d9999af035.jpg -> train_000000000104.jpg\n",
      "260_png_jpg.rf.f53c287c4d84e432b71df45d233184c3.jpg -> train_000000000105.jpg\n",
      "318_png_jpg.rf.de54c1143670f0b185aa2850b059dc3c.jpg -> train_000000000106.jpg\n",
      "324_png_jpg.rf.f86bed85b3a559f419bb0eab6f69035f.jpg -> train_000000000107.jpg\n",
      "471_png_jpg.rf.f8ce971078d5661ac8fc62746e14ab2c.jpg -> train_000000000108.jpg\n",
      "306_png_jpg.rf.f7a31923726b83ae7b8f134b395f75d2.jpg -> train_000000000109.jpg\n",
      "509_png_jpg.rf.fa65afc7a9cb821a5eb71128db7f0881.jpg -> train_000000000110.jpg\n",
      "265_png_jpg.rf.ee02ffa0462a7d3193fabcd1452367f4.jpg -> train_000000000111.jpg\n",
      "320_png_jpg.rf.ef796b57c1be0ab7ce8a708f945df473.jpg -> train_000000000112.jpg\n",
      "482_png_jpg.rf.07e75fc6397538b9bc18fb24d539df8c.jpg -> valid_000000000000.jpg\n",
      "469_png_jpg.rf.0f3f560af3e87c7a0bf8cc19152ea168.jpg -> valid_000000000001.jpg\n",
      "481_png_jpg.rf.07b62095b436e30bf1ee1d8cbdfaf738.jpg -> valid_000000000002.jpg\n",
      "287_png_jpg.rf.21774507bfcc3bd6b34a26ff5f265d8b.jpg -> valid_000000000003.jpg\n",
      "337_png_jpg.rf.35e2c6116427d858eebd0a928bf889c0.jpg -> valid_000000000004.jpg\n",
      "323_png_jpg.rf.45c2ce9754c39022dce6b84d573b7112.jpg -> valid_000000000005.jpg\n",
      "324_png_jpg.rf.226717c748704fb58a59d33e2b79f3df.jpg -> valid_000000000006.jpg\n",
      "474_png_jpg.rf.634a54c99138ea2081f78c1358b8cab1.jpg -> valid_000000000007.jpg\n",
      "453_png_jpg.rf.050052ca2b6d7117009d8ffa283b0e12.jpg -> valid_000000000008.jpg\n",
      "480_png_jpg.rf.3bdc4964de7bd5a492b89df5890e07f1.jpg -> valid_000000000009.jpg\n",
      "304_png_jpg.rf.32f27c07faeb3a59fa52603ca80d633a.jpg -> valid_000000000010.jpg\n",
      "261_png_jpg.rf.2be225f6dfb7d129674db533aa25cec1.jpg -> valid_000000000011.jpg\n",
      "445_png_jpg.rf.5f90908d6c5c08a4e18f6b4427a6ccb4.jpg -> valid_000000000012.jpg\n",
      "473_png_jpg.rf.67db774d5928fe27339c5074b635fea7.jpg -> valid_000000000013.jpg\n",
      "539_png_jpg.rf.8094aca926a2e7051ae2812a8d345d7b.jpg -> valid_000000000014.jpg\n",
      "265_png_jpg.rf.2f3b4925ebe94516949017c0f9ec3a26.jpg -> valid_000000000015.jpg\n",
      "469_png_jpg.rf.6f0138abb1f6664cff3769cc99ed7dbd.jpg -> valid_000000000016.jpg\n",
      "320_png_jpg.rf.649ea35d723a52b7da9defeb6e931527.jpg -> valid_000000000017.jpg\n",
      "301_png_jpg.rf.6ed93a9c39d572dc49f1d410552c7ed0.jpg -> valid_000000000018.jpg\n",
      "432_png_jpg.rf.2353d8d245e63809c6281f7afb9a8afd.jpg -> valid_000000000019.jpg\n",
      "326_png_jpg.rf.807366957a895353f2d044738e2c47a0.jpg -> valid_000000000020.jpg\n",
      "341_png_jpg.rf.9493d68370555eccc7f3948f489d5c35.jpg -> valid_000000000021.jpg\n",
      "286_png_jpg.rf.82098578f0d9236b69353e34dda356ee.jpg -> valid_000000000022.jpg\n",
      "268_png_jpg.rf.9c23cb0dca22b926ea9af441514dc389.jpg -> valid_000000000023.jpg\n",
      "264_png_jpg.rf.971c63992ffed026135e9476de330689.jpg -> valid_000000000024.jpg\n",
      "416_png_jpg.rf.7ffb2052b62e14f14bf79cddffc99293.jpg -> valid_000000000025.jpg\n",
      "315_png_jpg.rf.9ba483bce92c2bde33143d8ad1a8e7ff.jpg -> valid_000000000026.jpg\n",
      "458_png_jpg.rf.891107255f5c633aab08a9bdcf9eaf52.jpg -> valid_000000000027.jpg\n",
      "466_png_jpg.rf.9fa2548da135c56c6b2479263ce82136.jpg -> valid_000000000028.jpg\n",
      "460_png_jpg.rf.be833d2a122b869bd0f7279a17f4d440.jpg -> valid_000000000029.jpg\n",
      "273_png_jpg.rf.df991409ec5fe9e6dc7f549b51d22a1f.jpg -> valid_000000000030.jpg\n",
      "465_png_jpg.rf.b23b98a77b2055f693e12b6315a6a9b4.jpg -> valid_000000000031.jpg\n",
      "264_png_jpg.rf.adcfc46d9b7bf20d4791e8e129b3d813.jpg -> valid_000000000032.jpg\n",
      "510_png_jpg.rf.c14c5fed8e74e57078170736cce35238.jpg -> valid_000000000033.jpg\n",
      "484_png_jpg.rf.c2000f2d06ffdb2ab082b68dcb1abd10.jpg -> valid_000000000034.jpg\n",
      "288_png_jpg.rf.c61eef15fd74de1939214961cbe40b23.jpg -> valid_000000000035.jpg\n",
      "526_png_jpg.rf.dbc049dc60bed05d55403f55b10ea8fa.jpg -> valid_000000000036.jpg\n",
      "420_png_jpg.rf.95697f902e6d3fc836b48b643b9cc9b1.jpg -> valid_000000000037.jpg\n",
      "462_png_jpg.rf.9bfa3b2143128f16c3e539294d1df4e3.jpg -> valid_000000000038.jpg\n",
      "307_png_jpg.rf.9ddcff3272db744922e552a27a56aced.jpg -> valid_000000000039.jpg\n",
      "473_png_jpg.rf.b89b3a430fde52bd8506d8978fcfff95.jpg -> valid_000000000040.jpg\n",
      "282_png_jpg.rf.f93ab997bddf7dc82f7b0b8011a7ff4b.jpg -> valid_000000000041.jpg\n",
      "479_png_jpg.rf.39279339d29444925e678675c212910e.jpg -> valid_000000000042.jpg\n",
      "452_png_jpg.rf.450a8c2214b06c75c7110f8e6ecf6eba.jpg -> valid_000000000043.jpg\n",
      "449_png_jpg.rf.f741d6623568ea8e9c178157612f2a4b.jpg -> valid_000000000044.jpg\n",
      "421_png_jpg.rf.e08f96641f792c24acc4601d77063160.jpg -> valid_000000000045.jpg\n",
      "473_png_jpg.rf.b98467177db34351c4cb53dcb594a7e8.jpg -> valid_000000000046.jpg\n",
      "317_png_jpg.rf.ec60d90f5381b00044b6035f29743668.jpg -> valid_000000000047.jpg\n",
      "271_png_jpg.rf.98ab8457c777a52edfe0a1c2856af546.jpg -> valid_000000000048.jpg\n",
      "479_png_jpg.rf.932bebedbdc2501c7f46ec6e5c5402fb.jpg -> valid_000000000049.jpg\n"
     ]
    }
   ],
   "source": [
    "folder_path_train = 'coco-instance-segmentation-tmj-dataset/images/train'\n",
    "folder_path_valid = 'coco-instance-segmentation-tmj-dataset/images/valid'\n",
    "\n",
    "rename_files_and_update_annotations(folder_path_train)\n",
    "rename_files_and_update_annotations(folder_path_valid)"
   ],
   "metadata": {
    "collapsed": false,
    "ExecuteTime": {
     "end_time": "2025-02-26T10:04:33.356814Z",
     "start_time": "2025-02-26T10:04:33.322090Z"
    }
   },
   "id": "ad34a23865b983b5",
   "execution_count": 4
  },
  {
   "cell_type": "code",
   "execution_count": 5,
   "id": "11175d62",
   "metadata": {
    "execution": {
     "iopub.execute_input": "2023-08-01T08:11:41.734086Z",
     "iopub.status.busy": "2023-08-01T08:11:41.733704Z",
     "iopub.status.idle": "2023-08-01T08:15:08.345587Z",
     "shell.execute_reply": "2023-08-01T08:15:08.344136Z"
    },
    "papermill": {
     "duration": 206.628162,
     "end_time": "2023-08-01T08:15:08.348769",
     "exception": false,
     "start_time": "2023-08-01T08:11:41.720607",
     "status": "completed"
    },
    "tags": [],
    "ExecuteTime": {
     "end_time": "2025-02-26T10:04:33.367648Z",
     "start_time": "2025-02-26T10:04:33.358071Z"
    }
   },
   "outputs": [
    {
     "name": "stdout",
     "output_type": "stream",
     "text": [
      "loading annotations into memory...\n",
      "Done (t=0.00s)\n",
      "creating index...\n",
      "index created!\n",
      "loading annotations into memory...\n",
      "Done (t=0.00s)\n",
      "creating index...\n",
      "index created!\n",
      "113 2\n",
      "50 2\n",
      "113 50\n"
     ]
    },
    {
     "data": {
      "text/plain": "51"
     },
     "execution_count": 5,
     "metadata": {},
     "output_type": "execute_result"
    }
   ],
   "source": [
    "# Load paths for the COCO dataset annotation files\n",
    "ANNOTATION_FILE_TRAIN = 'coco-instance-segmentation-tmj-dataset/images/train/_annotations.coco.json'\n",
    "ANNOTATION_FILE_VAL = 'coco-instance-segmentation-tmj-dataset/images/valid/_annotations.coco.json'\n",
    "\n",
    "# Define the object classes of interest\n",
    "classes = ['head', 'pit']\n",
    "\n",
    "# Initialize COCO instances for training set and load relevant data\n",
    "coco_train = COCO(ANNOTATION_FILE_TRAIN)\n",
    "catIds_train = coco_train.getCatIds(catNms=classes)\n",
    "imgIds_train = coco_train.getImgIds(catIds=catIds_train)\n",
    "imgDict_train = coco_train.loadImgs(imgIds_train)\n",
    "\n",
    "# Initialize COCO instances for validation set and load relevant data\n",
    "coco_val = COCO(ANNOTATION_FILE_VAL)\n",
    "catIds_val = coco_val.getCatIds(catNms=classes)\n",
    "imgIds_val = coco_val.getImgIds(catIds=catIds_val)\n",
    "imgDict_val = coco_val.loadImgs(imgIds_val)\n",
    "\n",
    "# Print the number of training and validation images and categories\n",
    "print(len(imgIds_train), len(catIds_train))\n",
    "print(len(imgIds_val), len(catIds_val))\n",
    "\n",
    "# Shuffle the training and validation image IDs\n",
    "shuffle(imgIds_train)\n",
    "shuffle(imgIds_val)\n",
    "\n",
    "# Select a subset of validation image IDs\n",
    "imgIds_val = imgIds_val[0:100]\n",
    "imgIds_train = imgIds_train[0:500]\n",
    "\n",
    "# Generate the list of file names for training and validation person images\n",
    "train_images_person = [\"train_{0:012d}.jpg\".format(ids) for ids in imgIds_train]\n",
    "val_images_person = [\"valid_{0:012d}.jpg\".format(ids) for ids in imgIds_val]\n",
    "\n",
    "# Print the number of training and validation person images\n",
    "print(len(train_images_person), len(val_images_person))\n",
    "\n",
    "# Generate the list of file names for training person images\n",
    "train_images_person = [\"train_{0:012d}.jpg\".format(ids) for ids in imgIds_train]\n",
    "\n",
    "# Generate the list of file names for validation person images\n",
    "val_images_person = [\"valid_{0:012d}.jpg\".format(ids) for ids in imgIds_val]\n",
    "\n",
    "# Check the number of files in the validation images directory\n",
    "len(os.listdir(\"coco-instance-segmentation-tmj-dataset/images/valid\"))"
   ]
  },
  {
   "cell_type": "markdown",
   "source": [
    "### Generate the masks for training images"
   ],
   "metadata": {
    "collapsed": false
   },
   "id": "fcd0891164b9bc08"
  },
  {
   "cell_type": "code",
   "outputs": [
    {
     "name": "stdout",
     "output_type": "stream",
     "text": [
      "Created 113 masks\n"
     ]
    }
   ],
   "source": [
    "# Initialize a count variable\n",
    "count = 0 \n",
    "os.makedirs(\"coco-instance-segmentation-tmj-dataset/masks/train\", exist_ok=True)\n",
    "\n",
    "for ID in imgIds_train:\n",
    "\n",
    "    # Set the file path for the mask\n",
    "    file_path = \"coco-instance-segmentation-tmj-dataset/masks/train/train_{0:012d}.jpg\".format(ID)\n",
    "\n",
    "    # Retrieve a random image ID from the training set\n",
    "    sampleImgIds = coco_train.getImgIds(imgIds=[ID])\n",
    "    sampleImgDict = coco_train.loadImgs(sampleImgIds[np.random.randint(0, len(sampleImgIds))])[0]\n",
    "\n",
    "    # Retrieve the annotation IDs and annotations for the image\n",
    "    annIds = coco_train.getAnnIds(imgIds=sampleImgDict['id'], catIds=catIds_train, iscrowd=0)\n",
    "    anns = coco_train.loadAnns(annIds)\n",
    "\n",
    "    # Generate the mask by combining the individual instance masks\n",
    "    mask = coco_train.annToMask(anns[0])\n",
    "    for i in range(len(anns)):\n",
    "        mask = mask | coco_train.annToMask(anns[i])\n",
    "\n",
    "    # Convert the mask to an image and save it\n",
    "    mask = Image.fromarray(mask * 255, mode=\"L\")\n",
    "    mask.save(file_path)\n",
    "    count = count + 1\n",
    "\n",
    "print(\"Created\", count, \"masks\")"
   ],
   "metadata": {
    "collapsed": false,
    "ExecuteTime": {
     "end_time": "2025-02-26T10:04:33.554678Z",
     "start_time": "2025-02-26T10:04:33.366565Z"
    }
   },
   "id": "c449ff02c34d50d1",
   "execution_count": 6
  },
  {
   "cell_type": "markdown",
   "source": [
    "### Generate the masks for validation images"
   ],
   "metadata": {
    "collapsed": false
   },
   "id": "3b6ed4599fcfed0a"
  },
  {
   "cell_type": "code",
   "outputs": [
    {
     "name": "stdout",
     "output_type": "stream",
     "text": [
      "Created 50 masks\n"
     ]
    }
   ],
   "source": [
    "# Reset the count variable\n",
    "count = 0\n",
    "os.makedirs(\"coco-instance-segmentation-tmj-dataset/masks/valid\", exist_ok=True)\n",
    "\n",
    "for ID in imgIds_val:\n",
    "\n",
    "    file_path = \"coco-instance-segmentation-tmj-dataset/masks/valid/valid_{0:012d}.jpg\".format(ID)\n",
    "\n",
    "    # Retrieve a random image ID from the validation set\n",
    "    sampleImgIds = coco_val.getImgIds(imgIds=[ID])\n",
    "    sampleImgDict = coco_val.loadImgs(sampleImgIds[np.random.randint(0, len(sampleImgIds))])[0]\n",
    "\n",
    "    # Retrieve the annotation IDs and annotations for the image\n",
    "    annIds = coco_val.getAnnIds(imgIds=sampleImgDict['id'], catIds=catIds_val, iscrowd=0)\n",
    "    anns = coco_val.loadAnns(annIds)\n",
    "\n",
    "    # Generate the mask by combining the individual instance masks\n",
    "    mask = coco_val.annToMask(anns[0])\n",
    "    for i in range(len(anns)):\n",
    "        mask = mask | coco_val.annToMask(anns[i])\n",
    "\n",
    "    # Convert the mask to an image and save it\n",
    "    mask = Image.fromarray(mask * 255, mode=\"L\")\n",
    "    mask.save(file_path)\n",
    "\n",
    "    count = count + 1\n",
    "\n",
    "print(\"Created\", count, \"masks\")"
   ],
   "metadata": {
    "collapsed": false,
    "ExecuteTime": {
     "end_time": "2025-02-26T10:04:33.637655Z",
     "start_time": "2025-02-26T10:04:33.553504Z"
    }
   },
   "id": "fdf8318aba3ad836",
   "execution_count": 7
  },
  {
   "cell_type": "markdown",
   "id": "e8252e88",
   "metadata": {
    "papermill": {
     "duration": 0.011535,
     "end_time": "2023-08-01T08:15:08.372744",
     "exception": false,
     "start_time": "2023-08-01T08:15:08.361209",
     "status": "completed"
    },
    "tags": []
   },
   "source": [
    "## 4. Custom Data Generator\n",
    "\n",
    "To efficiently handle the large amount of image and mask data, we create a custom data generator class. This class will generate batches of preprocessed images and masks for training the UNet model.\n",
    "\n",
    "In the code above, we define a `CustomDataGenerator` class that extends the `keras.utils.Sequence` class. This allows us to use the data generator with the Keras model's training functions.\n",
    "\n",
    "The `CustomDataGenerator` class takes the paths to the directories containing the original images and corresponding masks, as well as the batch size as input. It has attributes to store the image and mask filenames and methods to retrieve the matching filenames between images and masks.\n",
    "\n",
    "The `__len__` method returns the number of batches in the generator, and the `__getitem__` method generates a batch of preprocessed images and masks. Inside the `__getitem__` method, we load the images and masks, resize them to a desired size (128x128 in this case), and convert them to numpy arrays. We also perform normalization by dividing the pixel values by 255.0.\n",
    "\n"
   ]
  },
  {
   "cell_type": "code",
   "execution_count": 8,
   "id": "27712f00",
   "metadata": {
    "execution": {
     "iopub.execute_input": "2023-08-01T08:15:08.440107Z",
     "iopub.status.busy": "2023-08-01T08:15:08.439842Z",
     "iopub.status.idle": "2023-08-01T08:15:12.574303Z",
     "shell.execute_reply": "2023-08-01T08:15:12.573208Z"
    },
    "papermill": {
     "duration": 4.149116,
     "end_time": "2023-08-01T08:15:12.576833",
     "exception": false,
     "start_time": "2023-08-01T08:15:08.427717",
     "status": "completed"
    },
    "tags": [],
    "ExecuteTime": {
     "end_time": "2025-02-26T10:04:33.641107Z",
     "start_time": "2025-02-26T10:04:33.635030Z"
    }
   },
   "outputs": [],
   "source": [
    "# Usage\n",
    "images_path = 'coco-instance-segmentation-tmj-dataset/images/train'\n",
    "masks_path = 'coco-instance-segmentation-tmj-dataset/masks/train'\n",
    "batch_size = 4\n",
    "\n",
    "# Create an instance of the CustomDataGenerator\n",
    "train_generator = CustomDataGenerator(images_path, masks_path, batch_size)"
   ]
  },
  {
   "cell_type": "code",
   "execution_count": 9,
   "id": "08859b0d",
   "metadata": {
    "execution": {
     "iopub.execute_input": "2023-08-01T08:15:12.602296Z",
     "iopub.status.busy": "2023-08-01T08:15:12.600786Z",
     "iopub.status.idle": "2023-08-01T08:15:12.690542Z",
     "shell.execute_reply": "2023-08-01T08:15:12.689454Z"
    },
    "papermill": {
     "duration": 0.10453,
     "end_time": "2023-08-01T08:15:12.692873",
     "exception": false,
     "start_time": "2023-08-01T08:15:12.588343",
     "status": "completed"
    },
    "tags": [],
    "ExecuteTime": {
     "end_time": "2025-02-26T10:04:33.642197Z",
     "start_time": "2025-02-26T10:04:33.638558Z"
    }
   },
   "outputs": [
    {
     "name": "stdout",
     "output_type": "stream",
     "text": [
      "115\n",
      "113\n",
      "51\n",
      "50\n"
     ]
    }
   ],
   "source": [
    "# Print the number of files in the train directory containing original images\n",
    "print(len(os.listdir(\"coco-instance-segmentation-tmj-dataset/images/train\")))\n",
    "\n",
    "# Print the number of files in the mask_train directory containing generated masks\n",
    "print(len(os.listdir(\"coco-instance-segmentation-tmj-dataset/masks/train\")))\n",
    "\n",
    "# Print the number of files in the valid directory containing original images\n",
    "print(len(os.listdir(\"coco-instance-segmentation-tmj-dataset/images/valid\")))\n",
    "\n",
    "# Print the number of files in the mask_valid directory containing generated masks\n",
    "print(len(os.listdir(\"coco-instance-segmentation-tmj-dataset/masks/valid\")))"
   ]
  },
  {
   "cell_type": "code",
   "outputs": [],
   "source": [
    "# Get the list of mask filenames\n",
    "mask_filenames = [filename for filename in os.listdir(masks_path) if filename.endswith('.jpg')]"
   ],
   "metadata": {
    "collapsed": false,
    "ExecuteTime": {
     "end_time": "2025-02-26T10:04:33.643868Z",
     "start_time": "2025-02-26T10:04:33.641413Z"
    }
   },
   "id": "28dc2a68d998a1f5",
   "execution_count": 10
  },
  {
   "cell_type": "code",
   "outputs": [
    {
     "data": {
      "text/plain": "['train_000000000046.jpg',\n 'train_000000000052.jpg',\n 'train_000000000085.jpg',\n 'train_000000000091.jpg',\n 'train_000000000090.jpg',\n 'train_000000000084.jpg',\n 'train_000000000053.jpg',\n 'train_000000000047.jpg',\n 'train_000000000051.jpg',\n 'train_000000000045.jpg',\n 'train_000000000079.jpg',\n 'train_000000000092.jpg',\n 'train_000000000086.jpg',\n 'train_000000000087.jpg',\n 'train_000000000093.jpg',\n 'train_000000000078.jpg',\n 'train_000000000044.jpg',\n 'train_000000000050.jpg',\n 'train_000000000068.jpg',\n 'train_000000000054.jpg',\n 'train_000000000040.jpg',\n 'train_000000000097.jpg',\n 'train_000000000083.jpg',\n 'train_000000000108.jpg',\n 'train_000000000109.jpg',\n 'train_000000000082.jpg',\n 'train_000000000096.jpg',\n 'train_000000000041.jpg',\n 'train_000000000055.jpg',\n 'train_000000000069.jpg',\n 'train_000000000043.jpg',\n 'train_000000000057.jpg',\n 'train_000000000080.jpg',\n 'train_000000000094.jpg',\n 'train_000000000095.jpg',\n 'train_000000000081.jpg',\n 'train_000000000056.jpg',\n 'train_000000000042.jpg',\n 'train_000000000025.jpg',\n 'train_000000000031.jpg',\n 'train_000000000019.jpg',\n 'train_000000000018.jpg',\n 'train_000000000030.jpg',\n 'train_000000000024.jpg',\n 'train_000000000032.jpg',\n 'train_000000000026.jpg',\n 'train_000000000027.jpg',\n 'train_000000000033.jpg',\n 'train_000000000037.jpg',\n 'train_000000000023.jpg',\n 'train_000000000022.jpg',\n 'train_000000000036.jpg',\n 'train_000000000008.jpg',\n 'train_000000000020.jpg',\n 'train_000000000034.jpg',\n 'train_000000000035.jpg',\n 'train_000000000021.jpg',\n 'train_000000000009.jpg',\n 'train_000000000004.jpg',\n 'train_000000000010.jpg',\n 'train_000000000038.jpg',\n 'train_000000000039.jpg',\n 'train_000000000011.jpg',\n 'train_000000000005.jpg',\n 'train_000000000013.jpg',\n 'train_000000000007.jpg',\n 'train_000000000006.jpg',\n 'train_000000000012.jpg',\n 'train_000000000016.jpg',\n 'train_000000000002.jpg',\n 'train_000000000003.jpg',\n 'train_000000000017.jpg',\n 'train_000000000029.jpg',\n 'train_000000000001.jpg',\n 'train_000000000015.jpg',\n 'train_000000000014.jpg',\n 'train_000000000000.jpg',\n 'train_000000000028.jpg',\n 'train_000000000067.jpg',\n 'train_000000000073.jpg',\n 'train_000000000098.jpg',\n 'train_000000000107.jpg',\n 'train_000000000106.jpg',\n 'train_000000000112.jpg',\n 'train_000000000099.jpg',\n 'train_000000000072.jpg',\n 'train_000000000066.jpg',\n 'train_000000000070.jpg',\n 'train_000000000064.jpg',\n 'train_000000000058.jpg',\n 'train_000000000104.jpg',\n 'train_000000000110.jpg',\n 'train_000000000111.jpg',\n 'train_000000000105.jpg',\n 'train_000000000059.jpg',\n 'train_000000000065.jpg',\n 'train_000000000071.jpg',\n 'train_000000000049.jpg',\n 'train_000000000075.jpg',\n 'train_000000000061.jpg',\n 'train_000000000101.jpg',\n 'train_000000000100.jpg',\n 'train_000000000060.jpg',\n 'train_000000000074.jpg',\n 'train_000000000048.jpg',\n 'train_000000000062.jpg',\n 'train_000000000076.jpg',\n 'train_000000000089.jpg',\n 'train_000000000102.jpg',\n 'train_000000000103.jpg',\n 'train_000000000088.jpg',\n 'train_000000000077.jpg',\n 'train_000000000063.jpg']"
     },
     "execution_count": 11,
     "metadata": {},
     "output_type": "execute_result"
    }
   ],
   "source": [
    "mask_filenames"
   ],
   "metadata": {
    "collapsed": false,
    "ExecuteTime": {
     "end_time": "2025-02-26T10:04:33.650218Z",
     "start_time": "2025-02-26T10:04:33.646099Z"
    }
   },
   "id": "52cdd17712aef478",
   "execution_count": 11
  },
  {
   "cell_type": "code",
   "execution_count": 16,
   "id": "a5a8dd21",
   "metadata": {
    "execution": {
     "iopub.execute_input": "2023-08-01T08:15:12.718569Z",
     "iopub.status.busy": "2023-08-01T08:15:12.716879Z",
     "iopub.status.idle": "2023-08-01T08:15:13.218587Z",
     "shell.execute_reply": "2023-08-01T08:15:13.217727Z"
    },
    "papermill": {
     "duration": 0.519261,
     "end_time": "2023-08-01T08:15:13.223712",
     "exception": false,
     "start_time": "2023-08-01T08:15:12.704451",
     "status": "completed"
    },
    "tags": [],
    "ExecuteTime": {
     "end_time": "2025-02-26T10:04:59.651079Z",
     "start_time": "2025-02-26T10:04:59.519718Z"
    }
   },
   "outputs": [
    {
     "name": "stdout",
     "output_type": "stream",
     "text": [
      "Mask Image Shape: (512, 512)\n",
      "Main Image Shape: (512, 512, 3)\n"
     ]
    },
    {
     "data": {
      "text/plain": "<Figure size 640x480 with 2 Axes>",
      "image/png": "[encoded data removed]"
     },
     "metadata": {},
     "output_type": "display_data"
    }
   ],
   "source": [
    "indexOfImage = 5\n",
    "# Assuming the first image in the mask folder is the one to plot\n",
    "first_mask_filename = mask_filenames[indexOfImage]\n",
    "image_filename = os.path.splitext(first_mask_filename)[0] + '.jpg'\n",
    "\n",
    "# Load and plot the mask image\n",
    "mask_image = Image.open(os.path.join(masks_path, first_mask_filename))\n",
    "plt.subplot(1, 2, 1)\n",
    "plt.imshow(mask_image)\n",
    "plt.title('Mask Image')\n",
    "plt.axis('off')\n",
    "\n",
    "# Load and plot the corresponding main image\n",
    "main_image = Image.open(os.path.join(images_path, image_filename))\n",
    "plt.subplot(1, 2, 2)\n",
    "plt.imshow(main_image)\n",
    "plt.title('Main Image')\n",
    "plt.axis('off')\n",
    "\n",
    "# Print the shapes of the images\n",
    "print('Mask Image Shape:', np.array(mask_image).shape)\n",
    "print('Main Image Shape:', np.array(main_image).shape)\n",
    "\n",
    "plt.tight_layout()\n",
    "plt.show()"
   ]
  },
  {
   "cell_type": "markdown",
   "id": "7c4c54d0",
   "metadata": {
    "papermill": {
     "duration": 0.015824,
     "end_time": "2023-08-01T08:15:13.255439",
     "exception": false,
     "start_time": "2023-08-01T08:15:13.239615",
     "status": "completed"
    },
    "tags": []
   },
   "source": [
    "## 5. Построение модели UNet\n",
    "\n",
    "Далее мы определяем архитектуру модели UNet. Архитектура UNet является популярным выбором для задач сегментации изображений благодаря своей способности захватывать как низкоуровневые, так и высокоуровневые признаки.\n",
    "\n",
    "В приведенном коде мы определяем несколько функций для построения модели UNet. Эти функции используются для создания различных блоков модели: блоков сужения (down blocks), блока узкой части (bottleneck block), блоков расширения (up blocks) и блока выхода (output block).\n",
    "\n",
    "Функция `down_block` принимает входной тензор, количество фильтров, размер ядра, шаги, паддинг, инициализатор ядра и параметры для максимального пулинга. Она применяет два свертки с батч-нормализацией и активационными функциями, а затем выполняет максимальный пулинг. Выходом этой функции является обработанный тензор и пулинговый тензор для пропускающих соединений.\n",
    "\n",
    "Функция `bottle_neck` принимает входной тензор, количество фильтров, размер ядра, шаги, паддинг и инициализатор ядра. Она применяет два свертки с батч-нормализацией и активационными функциями. Выходом этой функции является обработанный тензор.\n",
    "\n",
    "Функция `up_block` принимает входной тензор, количество фильтров, тензор пропускающего соединения из соответствующего блока сужения, размер ядра, шаги, коэффициент апсемплинга, окно для максимального пулинга, паддинг и инициализатор ядра. Она выполняет апсемплинг на входном тензоре, конкатенирует его с тензором пропускающего соединения и применяет два свертки с батч-нормализацией и активационными функциями. Выходом этой функции является обработанный тензор.\n",
    "\n",
    "Функция `output_block` принимает входной тензор, паддинг и инициализатор ядра. Она применяет два свертки, первая с 2 фильтрами и вторая с 1 фильтром, обе с активационными функциями. Выходом этой функции является финальный выходной тензор.\n",
    "\n",
    "Наконец, мы определяем функцию `UNet`, которая создает всю модель UNet, используя ранее определенные блоки. Она принимает форму входных данных как аргумент и возвращает модель.\n",
    "\n",
    "Я использовал похожую модель U-Net, как [здесь](https://github.com/H-arshit/UNET-On-COCO/blob/master/Keras_COCO_UNET.ipynb)."
   ]
  },
  {
   "cell_type": "code",
   "execution_count": 13,
   "id": "071daf59",
   "metadata": {
    "execution": {
     "iopub.execute_input": "2023-08-01T08:15:13.288188Z",
     "iopub.status.busy": "2023-08-01T08:15:13.287876Z",
     "iopub.status.idle": "2023-08-01T08:15:13.320744Z",
     "shell.execute_reply": "2023-08-01T08:15:13.319848Z"
    },
    "papermill": {
     "duration": 0.051876,
     "end_time": "2023-08-01T08:15:13.322788",
     "exception": false,
     "start_time": "2023-08-01T08:15:13.270912",
     "status": "completed"
    },
    "tags": [],
    "ExecuteTime": {
     "end_time": "2025-02-26T10:04:34.114881Z",
     "start_time": "2025-02-26T10:04:33.771055Z"
    }
   },
   "outputs": [
    {
     "ename": "ImportError",
     "evalue": "cannot import name 'UNet1' from 'Unet' (/Users/dmitry/Developer/PycharmProjects/TMJ/Unet.py)",
     "output_type": "error",
     "traceback": [
      "\u001B[0;31m---------------------------------------------------------------------------\u001B[0m",
      "\u001B[0;31mImportError\u001B[0m                               Traceback (most recent call last)",
      "Cell \u001B[0;32mIn[13], line 1\u001B[0m\n\u001B[0;32m----> 1\u001B[0m \u001B[38;5;28;01mfrom\u001B[39;00m\u001B[38;5;250m \u001B[39m\u001B[38;5;21;01mUnet\u001B[39;00m\u001B[38;5;250m \u001B[39m\u001B[38;5;28;01mimport\u001B[39;00m UNet1\n",
      "\u001B[0;31mImportError\u001B[0m: cannot import name 'UNet1' from 'Unet' (/Users/dmitry/Developer/PycharmProjects/TMJ/Unet.py)"
     ]
    }
   ],
   "source": [
    "from Unet import UNet1"
   ]
  },
  {
   "cell_type": "markdown",
   "id": "ab966131",
   "metadata": {
    "papermill": {
     "duration": 0.01522,
     "end_time": "2023-08-01T08:15:13.353408",
     "exception": false,
     "start_time": "2023-08-01T08:15:13.338188",
     "status": "completed"
    },
    "tags": []
   },
   "source": [
    "## 6. Компиляция и обучение модели\n",
    "\n",
    "В этом разделе мы скомпилируем и обучим модель UNet для сегментации изображений с использованием TensorFlow и Keras. Мы настроим модель с подходящими функциями потерь, метриками оценки и параметрами оптимизации, чтобы добиться точных результатов сегментации.\n",
    "\n",
    "### 6.1 Компиляция модели\n",
    "\n",
    "Сначала мы создаем экземпляр модели UNet с формой входных данных (128, 128, 3) с помощью функции `UNet`, которую мы определили ранее. Модель будет использоваться для сегментации изображений.\n",
    "\n",
    "Затем мы компилируем модель, используя оптимизатор Adam с коэффициентом обучения 1e-4 и функцией потерь бинарной кросс-энтропии. Функция потерь бинарной кросс-энтропии обычно используется для задач бинарной сегментации, где каждый пиксель классифицируется как принадлежащий целевому объекту или нет.\n",
    "\n",
    "Мы также включаем набор метрик для оценки производительности модели во время обучения. Метрики включают Среднее пересечение (MeanIoU), Точность (Precision), Отзывчивость (Recall), Площадь под кривой (AUC) и Точность (Accuracy). Эти метрики предоставляют ценную информацию о качестве предсказаний сегментации модели.\n",
    "\n",
    "### 6.2 Обучение модели\n",
    "\n",
    "Перед обучением модели мы создаем генератор для валидационных данных с использованием класса `CustomDataGenerator`. Этот генератор будет загружать и подготавливать валидационные изображения и маски в пакетах, что делает процесс оценки во время обучения эффективным.\n",
    "\n",
    "Чтобы определить количество шагов на эпоху для обучения, мы вычисляем общее количество файлов масок для обучения и делим его на размер пакета.\n",
    "\n",
    "Во время обучения мы используем несколько функций обратного вызова для улучшения процесса обучения модели. Обратные вызовы включают:\n",
    "\n",
    "- **Early Stopping (Раннее прекращение)**: Этот обратный вызов следит за потерями на валидации и останавливает процесс обучения, если потери не улучшаются в течение определенного числа эпох (параметр patience). Модель восстановит веса из лучшей эпохи с наименьшими потерями на валидации.\n",
    "- **Model Checkpoint (Контрольная точка модели)**: Этот обратный вызов сохраняет веса модели после каждой эпохи, если потери на валидации улучшаются. Это помогает отслеживать наилучшую модель в процессе обучения.\n",
    "- **Reduce Learning Rate on Plateau (Снижение коэффициента обучения на плато)**: Этот обратный вызов снижает коэффициент обучения на 0.7, если потери на валидации не улучшаются в течение определенного числа эпох (параметр patience). Это помогает точнее настроить модель, когда прогресс замедляется.\n",
    "\n",
    "Наконец, мы обучаем модель с помощью функции `fit`, передавая генератор для обучения, генератор для валидации, количество шагов на эпоху и желаемое количество эпох. Модель будет обучаться на предоставленном датасете, и прогресс обучения будет отображаться.\n",
    "\n",
    "После завершения обучения мы сохраняем окончательную обученную модель в файл с именем \"final_model.h5\" для дальнейшего использования.\n",
    "\n",
    "Скомпилировав и обучив модель с подходящими настройками и метриками оценки, мы можем добиться точных результатов сегментации изображений и получить модель, способную идентифицировать границы объектов на изображениях."
   ]
  },
  {
   "cell_type": "code",
   "outputs": [],
   "source": [
    "from keras.src.optimizers import Adam\n",
    "from tensorflow.keras.losses import BinaryCrossentropy\n",
    "from keras.src.metrics import MeanIoU, Precision, Recall, AUC\n",
    "from keras.src.callbacks import EarlyStopping, ModelCheckpoint, ReduceLROnPlateau\n",
    "import datetime\n",
    "import math\n",
    "#import keras.backend as K\n",
    "\n",
    "from tensorflow.keras.losses import Loss"
   ],
   "metadata": {
    "collapsed": false,
    "ExecuteTime": {
     "end_time": "2025-02-26T10:04:34.121757Z",
     "start_time": "2025-02-26T10:04:34.117014Z"
    }
   },
   "id": "7f68b89be9be29b1",
   "execution_count": null
  },
  {
   "cell_type": "code",
   "execution_count": null,
   "id": "9faf9d13",
   "metadata": {
    "execution": {
     "iopub.execute_input": "2023-08-01T08:15:13.387036Z",
     "iopub.status.busy": "2023-08-01T08:15:13.38674Z",
     "iopub.status.idle": "2023-08-01T14:21:15.311198Z",
     "shell.execute_reply": "2023-08-01T14:21:15.308882Z"
    },
    "papermill": {
     "duration": 21972.060539,
     "end_time": "2023-08-01T14:21:25.430747",
     "exception": false,
     "start_time": "2023-08-01T08:15:13.370208",
     "status": "completed"
    },
    "tags": [],
    "ExecuteTime": {
     "start_time": "2025-02-26T10:04:34.119759Z"
    }
   },
   "outputs": [],
   "source": [
    "images_path = 'coco-instance-segmentation-tmj-dataset/images/valid'\n",
    "masks_path = 'coco-instance-segmentation-tmj-dataset/masks/valid'\n",
    "\n",
    "val_generator = CustomDataGenerator(images_path, masks_path, batch_size)\n",
    "\n",
    "# Fit the model with the training generator\n",
    "\n",
    "# Correcting the calculation of train_steps\n",
    "train_steps = math.ceil(len(os.listdir('coco-instance-segmentation-tmj-dataset/masks/train')) / batch_size)\n",
    "\n",
    "\n",
    "\n",
    "# Define the paths for saving model checkpoints and logs\n",
    "checkpoint_path = 'coco-instance-segmentation-tmj-dataset/checkpoints/model_checkpoint.h5'\n",
    "log_dir = 'coco-instance-segmentation-tmj-dataset/logs'\n",
    "\n",
    "# Define the number of epochs and batch size\n",
    "epochs = 50\n",
    "batch_size = 16\n",
    "\n",
    "# Define callbacks\n",
    "callbacks = [\n",
    "    EarlyStopping(patience=10, restore_best_weights=True),\n",
    "    ModelCheckpoint(checkpoint_path, save_best_only=True),\n",
    "    ReduceLROnPlateau(factor=0.7, patience=5)\n",
    "]\n",
    "\n",
    "# Create a timestamp for unique log directory\n",
    "current_time = datetime.datetime.now().strftime(\"%Y%m%d-%H%M%S\")\n",
    "log_dir = log_dir + current_time\n",
    "\n",
    "# Define loss function, metrics, and optimizer\n",
    "metrics = [\n",
    "    MeanIoU(num_classes=3),\n",
    "    Precision(),\n",
    "    Recall(),\n",
    "    AUC(),\n",
    "    'accuracy'\n",
    "]\n",
    "optimizer = Adam(learning_rate=1e-3)\n",
    "\n",
    "# Compile the model\n",
    "model = UNet(input_shape = (512,512,3))\n",
    "\n",
    "model.compile(optimizer=optimizer, loss='binary_crossentropy', metrics=metrics)\n",
    "\n",
    "# Fit the model with the training generator\n",
    "history = model.fit(\n",
    "    train_generator,\n",
    "    validation_data=val_generator,\n",
    "    steps_per_epoch=train_steps,\n",
    "    epochs=epochs,\n",
    "    batch_size=batch_size,\n",
    "    callbacks=callbacks,\n",
    "    verbose=1\n",
    ")\n",
    "\n",
    "# Save the final trained model\n",
    "model.save('coco-instance-segmentation-tmj-dataset/models/final_model.h5')"
   ]
  },
  {
   "cell_type": "markdown",
   "id": "5d1c733b",
   "metadata": {
    "papermill": {
     "duration": 10.738753,
     "end_time": "2023-08-01T14:21:46.962332",
     "exception": false,
     "start_time": "2023-08-01T14:21:36.223579",
     "status": "completed"
    },
    "tags": []
   },
   "source": [
    "## 7. Making Predictions and Visualizing Results\n",
    "\n",
    "After training the UNet model, we can now use it to make predictions on new images and visualize the segmentation results. In this section, we will load a sample batch of images from the validation data generator and generate predictions using the trained model.\n",
    "\n",
    "### 7.1 Making Predictions\n",
    "\n",
    "To start, we obtain a sample batch of images and their corresponding masks from the validation data generator. The `val_generator[0]` function call fetches a batch of images and masks.\n",
    "\n",
    "We then use the trained model to generate predictions on this sample batch of images. The `model.predict` function applies the model to the images and returns the predicted masks.\n",
    "\n",
    "### 7.2 Thresholding Predictions\n",
    "\n",
    "The model's predictions are usually represented as continuous probability maps. To convert these probabilities into binary masks, we apply a thresholding operation. In this case, we use a threshold of 0.7 (adjustable based on requirements). Pixels with probabilities greater than 0.7 will be considered as foreground (belonging to the target object), and pixels with probabilities less than or equal to 0.7 will be considered as background.\n",
    "\n",
    "### 7.3 Visualizing Results\n",
    "\n",
    "We randomly select an index from the batch to visualize the results for a single sample image. The selected sample image, ground truth mask, and the predicted mask (after thresholding) are plotted side by side for comparison.\n",
    "\n",
    "To achieve this, we create a figure with three subplots, displaying the sample image, ground truth mask, and predicted mask. Each subplot is annotated with its corresponding title for clarity.\n",
    "\n",
    "We adjust the spacing between the subplots to ensure they are well-organized in the figure. The final figure is displayed using `plt.show()`.\n",
    "\n",
    "By following these steps, we can easily visualize the model's segmentation performance on sample images and gain insights into how well it identifies the target objects within the images."
   ]
  },
  {
   "cell_type": "code",
   "execution_count": null,
   "id": "62b68e0f",
   "metadata": {
    "execution": {
     "iopub.execute_input": "2023-08-01T14:22:08.048175Z",
     "iopub.status.busy": "2023-08-01T14:22:08.047105Z",
     "iopub.status.idle": "2023-08-01T14:22:09.753781Z",
     "shell.execute_reply": "2023-08-01T14:22:09.75284Z"
    },
    "papermill": {
     "duration": 12.28274,
     "end_time": "2023-08-01T14:22:09.757545",
     "exception": false,
     "start_time": "2023-08-01T14:21:57.474805",
     "status": "completed"
    },
    "tags": [],
    "ExecuteTime": {
     "end_time": "2025-02-26T10:04:34.127363Z",
     "start_time": "2025-02-26T10:04:34.125381Z"
    }
   },
   "outputs": [],
   "source": [
    "# Get a sample batch from the validation data generator\n",
    "sample_images, sample_masks = val_generator[2]\n",
    "\n",
    "# Generate predictions on the sample batch\n",
    "predictions = model.predict(sample_images)\n",
    "\n",
    "# Threshold the predictions (if needed)\n",
    "threshold = 0.5  # Adjust the threshold as per your requirement\n",
    "thresholded_predictions = (predictions > threshold).astype(np.uint8)\n",
    "\n",
    "# Select a random index from the batch\n",
    "idx = np.random.randint(0, sample_images.shape[0])\n",
    "\n",
    "# Plot the sample image, ground truth mask, and predicted mask\n",
    "fig, axes = plt.subplots(1, 3, figsize=(12, 4))\n",
    "\n",
    "# Plot sample image\n",
    "axes[0].imshow(sample_images[idx])\n",
    "axes[0].set_title('Sample Image')\n",
    "\n",
    "# Plot ground truth mask\n",
    "axes[1].imshow(sample_masks[idx])\n",
    "axes[1].set_title('Ground Truth Mask')\n",
    "\n",
    "# Plot predicted mask\n",
    "axes[2].imshow(thresholded_predictions[idx])\n",
    "axes[2].set_title('Predicted Mask')\n",
    "\n",
    "# Set common title for the figure\n",
    "fig.suptitle('Sample Image, Ground Truth Mask, and Predicted Mask')\n",
    "\n",
    "# Adjust the spacing between subplots\n",
    "plt.tight_layout()\n",
    "\n",
    "# Show the figure\n",
    "plt.show()\n"
   ]
  },
  {
   "cell_type": "markdown",
   "id": "d69971d5",
   "metadata": {
    "papermill": {
     "duration": 10.586042,
     "end_time": "2023-08-01T14:22:31.294058",
     "exception": false,
     "start_time": "2023-08-01T14:22:20.708016",
     "status": "completed"
    },
    "tags": []
   },
   "source": [
    "## 8. Visualizing Segmentation Results with Overlaid Masks\n",
    "\n",
    "After obtaining predictions from the trained UNet model, we can visually compare the segmentation performance by overlaying the predicted masks on the sample images. This will allow us to see how well the model identifies the target objects and how closely the predicted masks align with the ground truth masks.\n",
    "\n",
    "### 8.1 Generating Predictions\n",
    "\n",
    "First, we fetch a sample batch of images and their corresponding masks from the validation data generator using `val_generator[0]`.\n",
    "\n",
    "Next, we use the trained model to generate predictions on this sample batch of images. The `model.predict` function applies the model to the images and returns the predicted masks.\n",
    "\n",
    "### 8.2 Thresholding Predictions\n",
    "\n",
    "Similar to the previous section, we apply a thresholding operation to convert the continuous probability maps into binary masks. This time, we use a lower threshold of 0.3 (adjustable based on requirements). Pixels with probabilities greater than 0.3 will be considered as foreground, and pixels with probabilities less than or equal to 0.3 will be considered as background.\n",
    "\n",
    "### 8.3 Visualizing Results with Overlaid Masks\n",
    "\n",
    "To visualize the results, we select a random index from the batch to focus on a single sample image. We then create a figure with three subplots: the sample image, the ground truth mask, and the predicted mask.\n",
    "\n",
    "For the ground truth mask subplot, we use `imshow` with the 'jet' colormap and set the alpha value to 0.7. This allows us to overlay the ground truth mask on the sample image with transparency, making it easy to compare the model's segmentation with the actual masks.\n",
    "\n",
    "Similarly, for the predicted mask subplot, we again use `imshow` with the 'jet' colormap and set the alpha value to 0.7 to overlay the predicted mask on the sample image.\n",
    "\n",
    "The figure is annotated with titles for each subplot, and a common title is set to summarize the purpose of the figure.\n",
    "\n",
    "We adjust the spacing between subplots to ensure a neat layout, and then display the figure using `plt.show()`.\n",
    "\n",
    "By following these steps, we can visually assess the quality of the model's segmentation by comparing the overlaid predicted masks with the ground truth masks and sample images. This visualization provides valuable insights into the model's performance and can help in fine-tuning the segmentation results if needed."
   ]
  },
  {
   "cell_type": "code",
   "execution_count": null,
   "id": "40c5e4bc",
   "metadata": {
    "execution": {
     "iopub.execute_input": "2023-08-01T14:22:52.576648Z",
     "iopub.status.busy": "2023-08-01T14:22:52.576228Z",
     "iopub.status.idle": "2023-08-01T14:23:03.597385Z",
     "shell.execute_reply": "2023-08-01T14:23:03.596497Z"
    },
    "papermill": {
     "duration": 21.788801,
     "end_time": "2023-08-01T14:23:03.602528",
     "exception": false,
     "start_time": "2023-08-01T14:22:41.813727",
     "status": "completed"
    },
    "tags": [],
    "ExecuteTime": {
     "start_time": "2025-02-26T10:04:34.128453Z"
    }
   },
   "outputs": [],
   "source": [
    "# Get a sample batch from the validation data generator\n",
    "for i in range(10):\n",
    "    sample_images, sample_masks = val_generator[i]\n",
    "\n",
    "    # Generate predictions on the sample batch\n",
    "    predictions = model.predict(sample_images)\n",
    "\n",
    "    # Threshold the predictions (if needed)\n",
    "    threshold = 0.5  # Adjust the threshold as per your requirement\n",
    "    thresholded_predictions = (predictions > threshold).astype(np.uint8)\n",
    "\n",
    "    # Select a random index from the batch\n",
    "    idx = np.random.randint(0, sample_images.shape[0])\n",
    "\n",
    "    # Plot the sample image, ground truth mask, and predicted mask\n",
    "    fig, axes = plt.subplots(1, 3, figsize=(12, 4))\n",
    "\n",
    "    # Plot sample image\n",
    "    axes[0].imshow(sample_images[idx])\n",
    "    axes[0].set_title('Sample Image')\n",
    "\n",
    "    # Plot ground truth mask\n",
    "    axes[1].imshow(sample_images[idx])\n",
    "    axes[1].imshow(sample_masks[idx], cmap='jet', alpha=0.7)\n",
    "    axes[1].set_title('Ground Truth Mask')\n",
    "\n",
    "    # Plot predicted mask\n",
    "    axes[2].imshow(sample_images[idx])\n",
    "    axes[2].imshow(thresholded_predictions[idx], cmap='jet', alpha=0.7)\n",
    "    axes[2].set_title('Predicted Mask')\n",
    "\n",
    "    # Set common title for the figure\n",
    "    fig.suptitle('Sample Image, Ground Truth Mask, and Predicted Mask')\n",
    "\n",
    "    # Adjust the spacing between subplots\n",
    "    plt.tight_layout()\n",
    "\n",
    "    # Show the figure\n",
    "    plt.show()\n"
   ]
  }
 ],
 "metadata": {
  "kernelspec": {
   "display_name": "Python 3",
   "language": "python",
   "name": "python3"
  },
  "language_info": {
   "codemirror_mode": {
    "name": "ipython",
    "version": 3
   },
   "file_extension": ".py",
   "mimetype": "text/x-python",
   "name": "python",
   "nbconvert_exporter": "python",
   "pygments_lexer": "ipython3",
   "version": "3.10.12"
  },
  "papermill": {
   "default_parameters": {},
   "duration": 22390.706743,
   "end_time": "2023-08-01T14:23:17.237027",
   "environment_variables": {},
   "exception": null,
   "input_path": "__notebook__.ipynb",
   "output_path": "__notebook__.ipynb",
   "parameters": {},
   "start_time": "2023-08-01T08:10:06.530284",
   "version": "2.4.0"
  }
 },
 "nbformat": 4,
 "nbformat_minor": 5
}
