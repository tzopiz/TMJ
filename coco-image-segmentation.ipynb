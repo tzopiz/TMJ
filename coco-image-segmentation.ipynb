{
  "cells": [
    {
      "source": [
        "<a href=\"https://www.kaggle.com/code/armanasgharpoor1993/coco-image-segmentation?scriptVersionId=138553552\" target=\"_blank\"><img align=\"left\" alt=\"Kaggle\" title=\"Open in Kaggle\" src=\"https://kaggle.com/static/images/open-in-kaggle.svg\"></a>"
      ],
      "metadata": {
        "id": "40c0a48d5fc08979"
      },
      "cell_type": "markdown",
      "id": "40c0a48d5fc08979"
    },
    {
      "cell_type": "markdown",
      "id": "4d25de99",
      "metadata": {
        "papermill": {
          "duration": 0.007724,
          "end_time": "2023-08-01T08:10:16.903022",
          "exception": false,
          "start_time": "2023-08-01T08:10:16.895298",
          "status": "completed"
        },
        "tags": [],
        "id": "4d25de99"
      },
      "source": [
        "# **Тutorial по сегментации изображений с использованием глубокого обучения**\n",
        "\n",
        "В этом уроке мы исследуем тему сегментации изображений с использованием глубокого обучения. Сегментация изображений — это важная задача компьютерного зрения, которая заключается в разделении изображения на несколько сегментов или областей для облегчения анализа и понимания. Техники глубокого обучения, особенно свёрточные нейронные сети (CNN), продемонстрировали выдающиеся результаты в задачах сегментации изображений, благодаря своей способности обучаться сложным визуальным представлениям непосредственно из данных.\n",
        "\n",
        "## Введение в сегментацию изображений\n",
        "\n",
        "Сегментация изображений играет ключевую роль в различных приложениях компьютерного зрения, включая детекцию объектов, семантическое понимание, медицинскую визуализацию и автономное вождение. Цель сегментации — идентифицировать и очертить значимые области на изображении, что позволяет проводить детальный анализ и понимать визуальное содержание. Присваивая метки или маски отдельным пикселям или группам пикселей, сегментация изображений предоставляет подробное понимание объектов, границ и контекста на изображении.\n",
        "\n",
        "### Типы сегментации изображений\n",
        "\n",
        "Существует несколько типов техник сегментации изображений, каждая из которых решает разные аспекты задачи сегментации:\n",
        "\n",
        "1. **Семантическая сегментация**: Семантическая сегментация присваивает каждому пикселю на изображении метку класса, эффективно классифицируя его в значимые объектные классы. Например, в сценарии автономного вождения пиксели могут быть классифицированы как «автомобиль», «человек» или «фон». Семантическая сегментация предоставляет общее понимание содержания изображения.\n",
        "\n",
        "2. **Сегментация объектов (instance segmentation)**: Сегментация объектов идет дальше семантической сегментации, не только классифицируя пиксели по классам объектов, но и различая отдельные экземпляры объектов на изображении. Например, в сцене с несколькими автомобилями сегментация объектов может разделить каждый автомобиль и присвоить ему уникальную метку.\n",
        "\n",
        "3. **Обнаружение границ**: Обнаружение границ фокусируется на нахождении и выделении границ или краев между различными объектами или областями на изображении. Эта техника помогает точно очертить контуры объектов, что важно для задач, таких как распознавание объектов и анализ формы.\n",
        "\n",
        "4. **Паноптическая сегментация**: Паноптическая сегментация объединяет как семантическую, так и сегментацию объектов, чтобы предоставить более полное понимание изображения. Она присваивает уникальные метки каждому экземпляру, а также выполняет семантическую сегментацию для фоновых областей. Паноптическая сегментация стремится соединить распознавание объектов и понимание общей сцены.\n",
        "\n",
        "### Глубокое обучение для сегментации изображений\n",
        "\n",
        "Техники глубокого обучения произвели революцию в сегментации изображений, автоматически обучая модели извлекать сложные признаки и паттерны непосредственно из данных. Свёрточные нейронные сети (CNN) зарекомендовали себя как особенно эффективные в захвате пространственных зависимостей и иерархических представлений в изображениях, что делает их идеальными для задач сегментации изображений.\n",
        "\n",
        "В последние годы такие архитектуры, как U-Net, PSPNet и Mask R-CNN, достигли передовых результатов в сегментации изображений. Эти архитектуры используют различные техники для улучшения точности сегментации:\n",
        "\n",
        "- **Пропуски соединений**: Пропуски соединений устанавливают прямые связи между слоями энкодера и декодера, что позволяет интегрировать низкоуровневые и высокоуровневые признаки. Это помогает сохранять детализированные данные в процессе увеличения разрешения.\n",
        "\n",
        "- **Дилатированные свёртки**: Дилатированные свёртки (или атрусные свёртки) увеличивают воспринимаемое поле свёрточных слоёв, не теряя пространственного разрешения. Это позволяет моделям захватывать более широкий контекст, сохраняя при этом детализированную информацию.\n",
        "\n",
        "- **Агрегация контекста на нескольких масштабах**: Техники, такие как пулинг, пирамидальная агрегация пулинга и атрусная пирамидальная агрегация (ASPP), используются для агрегации признаков на разных масштабах. Это позволяет модели захватывать как локальный, так и глобальный контекст, улучшая производительность сегментации.\n",
        "\n",
        "Архитектура U-Net, в частности, приобрела большую популярность благодаря своей эффективности в задачах сегментации медицинских изображений. Она использует структуру энкодер-декодер с пропусками соединений, что позволяет точно локализовать и сегментировать объекты. В этом уроке мы сосредоточимся на создании модели U-Net для сегментации изображений.\n",
        "\n",
        "В следующих разделах мы подробно рассмотрим реализацию модели сегментации изображений с использованием архитектуры U-Net. Мы охватим подготовку датасета, построение модели, стратегии обучения, метрики оценки и передовые техники сегментации изображений. В конце этого урока у вас будет полное понимание сегментации изображений с использованием глубокого обучения, и вы сможете применить эти знания для решения сложных задач сегментации в ваших проектах.\n",
        "\n",
        "---\n",
        "\n",
        "Я использовал ту же модель, что и [здесь](https://github.com/H-arshit/UNET-On-COCO/blob/master/Keras_COCO_UNET.ipynb)"
      ]
    },
    {
      "cell_type": "code",
      "execution_count": 1,
      "id": "bd27ffe1",
      "metadata": {
        "_cell_guid": "b1076dfc-b9ad-4769-8c92-a6c4dae69d19",
        "_uuid": "8f2839f25d086af736a60e9eeb907d3b93b6e0e5",
        "execution": {
          "iopub.execute_input": "2023-08-01T08:10:16.918855Z",
          "iopub.status.busy": "2023-08-01T08:10:16.917616Z",
          "iopub.status.idle": "2023-08-01T08:11:25.040266Z",
          "shell.execute_reply": "2023-08-01T08:11:25.03909Z"
        },
        "papermill": {
          "duration": 68.1332,
          "end_time": "2023-08-01T08:11:25.043126",
          "exception": false,
          "start_time": "2023-08-01T08:10:16.909926",
          "status": "completed"
        },
        "tags": [],
        "ExecuteTime": {
          "end_time": "2025-02-26T10:04:30.395749Z",
          "start_time": "2025-02-26T10:04:30.359747Z"
        },
        "id": "bd27ffe1",
        "outputId": "70702ff7-66c6-48c6-9d4f-15a3fbad3687",
        "colab": {
          "base_uri": "https://localhost:8080/"
        }
      },
      "outputs": [
        {
          "output_type": "stream",
          "name": "stdout",
          "text": [
            "Requirement already satisfied: pycocotools in /usr/local/lib/python3.11/dist-packages (2.0.8)\n",
            "Requirement already satisfied: matplotlib>=2.1.0 in /usr/local/lib/python3.11/dist-packages (from pycocotools) (3.10.0)\n",
            "Requirement already satisfied: numpy in /usr/local/lib/python3.11/dist-packages (from pycocotools) (1.26.4)\n",
            "Requirement already satisfied: contourpy>=1.0.1 in /usr/local/lib/python3.11/dist-packages (from matplotlib>=2.1.0->pycocotools) (1.3.1)\n",
            "Requirement already satisfied: cycler>=0.10 in /usr/local/lib/python3.11/dist-packages (from matplotlib>=2.1.0->pycocotools) (0.12.1)\n",
            "Requirement already satisfied: fonttools>=4.22.0 in /usr/local/lib/python3.11/dist-packages (from matplotlib>=2.1.0->pycocotools) (4.56.0)\n",
            "Requirement already satisfied: kiwisolver>=1.3.1 in /usr/local/lib/python3.11/dist-packages (from matplotlib>=2.1.0->pycocotools) (1.4.8)\n",
            "Requirement already satisfied: packaging>=20.0 in /usr/local/lib/python3.11/dist-packages (from matplotlib>=2.1.0->pycocotools) (24.2)\n",
            "Requirement already satisfied: pillow>=8 in /usr/local/lib/python3.11/dist-packages (from matplotlib>=2.1.0->pycocotools) (11.1.0)\n",
            "Requirement already satisfied: pyparsing>=2.3.1 in /usr/local/lib/python3.11/dist-packages (from matplotlib>=2.1.0->pycocotools) (3.2.1)\n",
            "Requirement already satisfied: python-dateutil>=2.7 in /usr/local/lib/python3.11/dist-packages (from matplotlib>=2.1.0->pycocotools) (2.9.0.post0)\n",
            "Requirement already satisfied: six>=1.5 in /usr/local/lib/python3.11/dist-packages (from python-dateutil>=2.7->matplotlib>=2.1.0->pycocotools) (1.17.0)\n",
            "Requirement already satisfied: scikit-image in /usr/local/lib/python3.11/dist-packages (0.25.2)\n",
            "Requirement already satisfied: scipy in /usr/local/lib/python3.11/dist-packages (1.15.2)\n",
            "Requirement already satisfied: numpy>=1.24 in /usr/local/lib/python3.11/dist-packages (from scikit-image) (1.26.4)\n",
            "Requirement already satisfied: networkx>=3.0 in /usr/local/lib/python3.11/dist-packages (from scikit-image) (3.4.2)\n",
            "Requirement already satisfied: pillow>=10.1 in /usr/local/lib/python3.11/dist-packages (from scikit-image) (11.1.0)\n",
            "Requirement already satisfied: imageio!=2.35.0,>=2.33 in /usr/local/lib/python3.11/dist-packages (from scikit-image) (2.37.0)\n",
            "Requirement already satisfied: tifffile>=2022.8.12 in /usr/local/lib/python3.11/dist-packages (from scikit-image) (2025.2.18)\n",
            "Requirement already satisfied: packaging>=21 in /usr/local/lib/python3.11/dist-packages (from scikit-image) (24.2)\n",
            "Requirement already satisfied: lazy-loader>=0.4 in /usr/local/lib/python3.11/dist-packages (from scikit-image) (0.4)\n",
            "Requirement already satisfied: numpy in /usr/local/lib/python3.11/dist-packages (1.26.4)\n",
            "Requirement already satisfied: tensorflow-io in /usr/local/lib/python3.11/dist-packages (0.37.1)\n",
            "Requirement already satisfied: tensorflow-io-gcs-filesystem==0.37.1 in /usr/local/lib/python3.11/dist-packages (from tensorflow-io) (0.37.1)\n"
          ]
        }
      ],
      "source": [
        "!pip install pycocotools\n",
        "!pip install --upgrade scikit-image scipy\n",
        "!pip install numpy\n",
        "!pip install tensorflow-io"
      ]
    },
    {
      "cell_type": "markdown",
      "id": "6d5a86c1",
      "metadata": {
        "papermill": {
          "duration": 0.009927,
          "end_time": "2023-08-01T08:11:25.063166",
          "exception": false,
          "start_time": "2023-08-01T08:11:25.053239",
          "status": "completed"
        },
        "tags": [],
        "id": "6d5a86c1"
      },
      "source": [
        "## 2. Setting up the Environment\n",
        "\n",
        "Before we begin, let's set up the environment by installing the necessary libraries and importing the required modules.\n",
        "\n",
        "\n",
        "In this code snippet, we install the `pycocotools` library, which is a Python API for the Microsoft Common Objects in Context (COCO) dataset. We also import various modules and libraries that we will use throughout the tutorial.\n",
        "\n"
      ]
    },
    {
      "cell_type": "code",
      "execution_count": 2,
      "id": "98cf3da1",
      "metadata": {
        "execution": {
          "iopub.execute_input": "2023-08-01T08:11:25.085098Z",
          "iopub.status.busy": "2023-08-01T08:11:25.084779Z",
          "iopub.status.idle": "2023-08-01T08:11:26.356635Z",
          "shell.execute_reply": "2023-08-01T08:11:26.355653Z"
        },
        "papermill": {
          "duration": 1.285437,
          "end_time": "2023-08-01T08:11:26.359137",
          "exception": false,
          "start_time": "2023-08-01T08:11:25.0737",
          "status": "completed"
        },
        "tags": [],
        "ExecuteTime": {
          "end_time": "2025-02-26T10:04:33.319510Z",
          "start_time": "2025-02-26T10:04:30.398433Z"
        },
        "id": "98cf3da1"
      },
      "outputs": [],
      "source": [
        "import os\n",
        "import matplotlib\n",
        "import matplotlib.pyplot as plt\n",
        "import matplotlib.patches as patches\n",
        "import matplotlib.colors as colors\n",
        "import seaborn as sns\n",
        "import numpy as np\n",
        "\n",
        "from random import shuffle\n",
        "from PIL import Image\n",
        "from pycocotools.coco import COCO\n",
        "from tensorflow import keras\n",
        "\n",
        "from CustomDataGenerator import CustomDataGenerator\n",
        "from helpy import rename_files_and_update_annotations"
      ]
    },
    {
      "cell_type": "markdown",
      "id": "e75f7e12",
      "metadata": {
        "papermill": {
          "duration": 0.009507,
          "end_time": "2023-08-01T08:11:26.378553",
          "exception": false,
          "start_time": "2023-08-01T08:11:26.369046",
          "status": "completed"
        },
        "tags": [],
        "id": "e75f7e12"
      },
      "source": [
        "Install proper tensorflow-io version"
      ]
    },
    {
      "cell_type": "markdown",
      "id": "4d0b4ac8",
      "metadata": {
        "papermill": {
          "duration": 0.011401,
          "end_time": "2023-08-01T08:11:41.709498",
          "exception": false,
          "start_time": "2023-08-01T08:11:41.698097",
          "status": "completed"
        },
        "tags": [],
        "id": "4d0b4ac8"
      },
      "source": [
        "## 3. Загрузка и подготовка датасета\n",
        "\n",
        "Для обучения и оценки модели сегментации изображений нам нужен датасет с аннотированными масками. В этом уроке мы будем использовать датасет COCO, который является крупномасштабным датасетом для детекции объектов, сегментации и генерации подписей.\n",
        "\n",
        "Нам нужно загрузить файлы аннотаций для датасета COCO, которые содержат информацию об экземплярах объектов и их соответствующих масках.\n",
        "\n",
        "В приведённом выше коде мы загружаем файлы аннотаций COCO для обучающего и валидационного наборов данных. Мы указываем интересующие нас классы объектов (в данном случае, только \"человек\"). Мы извлекаем идентификаторы изображений и категорий, соответствующие указанным классам. Также мы загружаем словари изображений для обоих наборов данных — обучающего и валидационного.\n",
        "\n",
        "После загрузки необходимых данных мы выводим количество изображений для обучения и валидации, а также количество категорий. Мы перемешиваем идентификаторы изображений, чтобы в процессе обучения была введена случайность. Кроме того, мы выбираем подмножество идентификаторов изображений для валидации, чтобы ускорить процесс оценки."
      ]
    },
    {
      "cell_type": "code",
      "outputs": [
        {
          "output_type": "stream",
          "name": "stdout",
          "text": [
            "train_000000000000.jpg -> train_000000000000.jpg\n",
            "train_000000000001.jpg -> train_000000000001.jpg\n",
            "train_000000000002.jpg -> train_000000000002.jpg\n",
            "train_000000000003.jpg -> train_000000000003.jpg\n",
            "train_000000000004.jpg -> train_000000000004.jpg\n",
            "train_000000000005.jpg -> train_000000000005.jpg\n",
            "train_000000000006.jpg -> train_000000000006.jpg\n",
            "train_000000000007.jpg -> train_000000000007.jpg\n",
            "train_000000000008.jpg -> train_000000000008.jpg\n",
            "train_000000000009.jpg -> train_000000000009.jpg\n",
            "train_000000000010.jpg -> train_000000000010.jpg\n",
            "train_000000000011.jpg -> train_000000000011.jpg\n",
            "train_000000000012.jpg -> train_000000000012.jpg\n",
            "train_000000000013.jpg -> train_000000000013.jpg\n",
            "train_000000000014.jpg -> train_000000000014.jpg\n",
            "train_000000000015.jpg -> train_000000000015.jpg\n",
            "train_000000000016.jpg -> train_000000000016.jpg\n",
            "train_000000000017.jpg -> train_000000000017.jpg\n",
            "train_000000000018.jpg -> train_000000000018.jpg\n",
            "train_000000000019.jpg -> train_000000000019.jpg\n",
            "train_000000000020.jpg -> train_000000000020.jpg\n",
            "train_000000000021.jpg -> train_000000000021.jpg\n",
            "train_000000000022.jpg -> train_000000000022.jpg\n",
            "train_000000000023.jpg -> train_000000000023.jpg\n",
            "train_000000000024.jpg -> train_000000000024.jpg\n",
            "train_000000000025.jpg -> train_000000000025.jpg\n",
            "train_000000000026.jpg -> train_000000000026.jpg\n",
            "train_000000000027.jpg -> train_000000000027.jpg\n",
            "train_000000000028.jpg -> train_000000000028.jpg\n",
            "train_000000000029.jpg -> train_000000000029.jpg\n",
            "train_000000000030.jpg -> train_000000000030.jpg\n",
            "train_000000000031.jpg -> train_000000000031.jpg\n",
            "train_000000000032.jpg -> train_000000000032.jpg\n",
            "train_000000000033.jpg -> train_000000000033.jpg\n",
            "train_000000000034.jpg -> train_000000000034.jpg\n",
            "train_000000000035.jpg -> train_000000000035.jpg\n",
            "train_000000000036.jpg -> train_000000000036.jpg\n",
            "train_000000000037.jpg -> train_000000000037.jpg\n",
            "train_000000000038.jpg -> train_000000000038.jpg\n",
            "train_000000000039.jpg -> train_000000000039.jpg\n",
            "train_000000000040.jpg -> train_000000000040.jpg\n",
            "train_000000000041.jpg -> train_000000000041.jpg\n",
            "train_000000000042.jpg -> train_000000000042.jpg\n",
            "train_000000000043.jpg -> train_000000000043.jpg\n",
            "train_000000000044.jpg -> train_000000000044.jpg\n",
            "train_000000000045.jpg -> train_000000000045.jpg\n",
            "train_000000000046.jpg -> train_000000000046.jpg\n",
            "train_000000000047.jpg -> train_000000000047.jpg\n",
            "train_000000000048.jpg -> train_000000000048.jpg\n",
            "train_000000000049.jpg -> train_000000000049.jpg\n",
            "train_000000000050.jpg -> train_000000000050.jpg\n",
            "train_000000000051.jpg -> train_000000000051.jpg\n",
            "train_000000000052.jpg -> train_000000000052.jpg\n",
            "train_000000000053.jpg -> train_000000000053.jpg\n",
            "train_000000000054.jpg -> train_000000000054.jpg\n",
            "train_000000000055.jpg -> train_000000000055.jpg\n",
            "train_000000000056.jpg -> train_000000000056.jpg\n",
            "train_000000000057.jpg -> train_000000000057.jpg\n",
            "train_000000000058.jpg -> train_000000000058.jpg\n",
            "train_000000000059.jpg -> train_000000000059.jpg\n",
            "train_000000000060.jpg -> train_000000000060.jpg\n",
            "train_000000000061.jpg -> train_000000000061.jpg\n",
            "train_000000000062.jpg -> train_000000000062.jpg\n",
            "train_000000000063.jpg -> train_000000000063.jpg\n",
            "train_000000000064.jpg -> train_000000000064.jpg\n",
            "train_000000000065.jpg -> train_000000000065.jpg\n",
            "train_000000000066.jpg -> train_000000000066.jpg\n",
            "train_000000000067.jpg -> train_000000000067.jpg\n",
            "train_000000000068.jpg -> train_000000000068.jpg\n",
            "train_000000000069.jpg -> train_000000000069.jpg\n",
            "train_000000000070.jpg -> train_000000000070.jpg\n",
            "train_000000000071.jpg -> train_000000000071.jpg\n",
            "train_000000000072.jpg -> train_000000000072.jpg\n",
            "train_000000000073.jpg -> train_000000000073.jpg\n",
            "train_000000000074.jpg -> train_000000000074.jpg\n",
            "train_000000000075.jpg -> train_000000000075.jpg\n",
            "train_000000000076.jpg -> train_000000000076.jpg\n",
            "train_000000000077.jpg -> train_000000000077.jpg\n",
            "train_000000000078.jpg -> train_000000000078.jpg\n",
            "train_000000000079.jpg -> train_000000000079.jpg\n",
            "train_000000000080.jpg -> train_000000000080.jpg\n",
            "train_000000000081.jpg -> train_000000000081.jpg\n",
            "train_000000000082.jpg -> train_000000000082.jpg\n",
            "train_000000000083.jpg -> train_000000000083.jpg\n",
            "train_000000000084.jpg -> train_000000000084.jpg\n",
            "train_000000000085.jpg -> train_000000000085.jpg\n",
            "train_000000000086.jpg -> train_000000000086.jpg\n",
            "train_000000000087.jpg -> train_000000000087.jpg\n",
            "train_000000000088.jpg -> train_000000000088.jpg\n",
            "train_000000000089.jpg -> train_000000000089.jpg\n",
            "train_000000000090.jpg -> train_000000000090.jpg\n",
            "train_000000000091.jpg -> train_000000000091.jpg\n",
            "train_000000000092.jpg -> train_000000000092.jpg\n",
            "train_000000000093.jpg -> train_000000000093.jpg\n",
            "train_000000000094.jpg -> train_000000000094.jpg\n",
            "train_000000000095.jpg -> train_000000000095.jpg\n",
            "train_000000000096.jpg -> train_000000000096.jpg\n",
            "train_000000000097.jpg -> train_000000000097.jpg\n",
            "train_000000000098.jpg -> train_000000000098.jpg\n",
            "train_000000000099.jpg -> train_000000000099.jpg\n",
            "train_000000000100.jpg -> train_000000000100.jpg\n",
            "train_000000000101.jpg -> train_000000000101.jpg\n",
            "train_000000000102.jpg -> train_000000000102.jpg\n",
            "train_000000000103.jpg -> train_000000000103.jpg\n",
            "train_000000000104.jpg -> train_000000000104.jpg\n",
            "train_000000000105.jpg -> train_000000000105.jpg\n",
            "train_000000000106.jpg -> train_000000000106.jpg\n",
            "train_000000000107.jpg -> train_000000000107.jpg\n",
            "train_000000000108.jpg -> train_000000000108.jpg\n",
            "train_000000000109.jpg -> train_000000000109.jpg\n",
            "train_000000000110.jpg -> train_000000000110.jpg\n",
            "train_000000000111.jpg -> train_000000000111.jpg\n",
            "train_000000000112.jpg -> train_000000000112.jpg\n",
            "valid_000000000000.jpg -> valid_000000000000.jpg\n",
            "valid_000000000001.jpg -> valid_000000000001.jpg\n",
            "valid_000000000002.jpg -> valid_000000000002.jpg\n",
            "valid_000000000003.jpg -> valid_000000000003.jpg\n",
            "valid_000000000004.jpg -> valid_000000000004.jpg\n",
            "valid_000000000005.jpg -> valid_000000000005.jpg\n",
            "valid_000000000006.jpg -> valid_000000000006.jpg\n",
            "valid_000000000007.jpg -> valid_000000000007.jpg\n",
            "valid_000000000008.jpg -> valid_000000000008.jpg\n",
            "valid_000000000009.jpg -> valid_000000000009.jpg\n",
            "valid_000000000010.jpg -> valid_000000000010.jpg\n",
            "valid_000000000011.jpg -> valid_000000000011.jpg\n",
            "valid_000000000012.jpg -> valid_000000000012.jpg\n",
            "valid_000000000013.jpg -> valid_000000000013.jpg\n",
            "valid_000000000014.jpg -> valid_000000000014.jpg\n",
            "valid_000000000015.jpg -> valid_000000000015.jpg\n",
            "valid_000000000016.jpg -> valid_000000000016.jpg\n",
            "valid_000000000017.jpg -> valid_000000000017.jpg\n",
            "valid_000000000018.jpg -> valid_000000000018.jpg\n",
            "valid_000000000019.jpg -> valid_000000000019.jpg\n",
            "valid_000000000020.jpg -> valid_000000000020.jpg\n",
            "valid_000000000021.jpg -> valid_000000000021.jpg\n",
            "valid_000000000022.jpg -> valid_000000000022.jpg\n",
            "valid_000000000023.jpg -> valid_000000000023.jpg\n",
            "valid_000000000024.jpg -> valid_000000000024.jpg\n",
            "valid_000000000025.jpg -> valid_000000000025.jpg\n",
            "valid_000000000026.jpg -> valid_000000000026.jpg\n",
            "valid_000000000027.jpg -> valid_000000000027.jpg\n",
            "valid_000000000028.jpg -> valid_000000000028.jpg\n",
            "valid_000000000029.jpg -> valid_000000000029.jpg\n",
            "valid_000000000030.jpg -> valid_000000000030.jpg\n",
            "valid_000000000031.jpg -> valid_000000000031.jpg\n",
            "valid_000000000032.jpg -> valid_000000000032.jpg\n",
            "valid_000000000033.jpg -> valid_000000000033.jpg\n",
            "valid_000000000034.jpg -> valid_000000000034.jpg\n",
            "valid_000000000035.jpg -> valid_000000000035.jpg\n",
            "valid_000000000036.jpg -> valid_000000000036.jpg\n",
            "valid_000000000037.jpg -> valid_000000000037.jpg\n",
            "valid_000000000038.jpg -> valid_000000000038.jpg\n",
            "valid_000000000039.jpg -> valid_000000000039.jpg\n",
            "valid_000000000040.jpg -> valid_000000000040.jpg\n",
            "valid_000000000041.jpg -> valid_000000000041.jpg\n",
            "valid_000000000042.jpg -> valid_000000000042.jpg\n",
            "valid_000000000043.jpg -> valid_000000000043.jpg\n",
            "valid_000000000044.jpg -> valid_000000000044.jpg\n",
            "valid_000000000045.jpg -> valid_000000000045.jpg\n",
            "valid_000000000046.jpg -> valid_000000000046.jpg\n",
            "valid_000000000047.jpg -> valid_000000000047.jpg\n",
            "valid_000000000048.jpg -> valid_000000000048.jpg\n",
            "valid_000000000049.jpg -> valid_000000000049.jpg\n"
          ]
        }
      ],
      "source": [
        "folder_path_train = 'coco-instance-segmentation-tmj-dataset/images/train'\n",
        "folder_path_valid = 'coco-instance-segmentation-tmj-dataset/images/valid'\n",
        "\n",
        "rename_files_and_update_annotations(folder_path_train)\n",
        "rename_files_and_update_annotations(folder_path_valid)"
      ],
      "metadata": {
        "ExecuteTime": {
          "end_time": "2025-02-26T10:04:33.356814Z",
          "start_time": "2025-02-26T10:04:33.322090Z"
        },
        "id": "ad34a23865b983b5",
        "outputId": "65a4a03b-6a01-470f-ec77-70a0b7140db5",
        "colab": {
          "base_uri": "https://localhost:8080/"
        }
      },
      "id": "ad34a23865b983b5",
      "execution_count": 3
    },
    {
      "cell_type": "code",
      "execution_count": 4,
      "id": "11175d62",
      "metadata": {
        "execution": {
          "iopub.execute_input": "2023-08-01T08:11:41.734086Z",
          "iopub.status.busy": "2023-08-01T08:11:41.733704Z",
          "iopub.status.idle": "2023-08-01T08:15:08.345587Z",
          "shell.execute_reply": "2023-08-01T08:15:08.344136Z"
        },
        "papermill": {
          "duration": 206.628162,
          "end_time": "2023-08-01T08:15:08.348769",
          "exception": false,
          "start_time": "2023-08-01T08:11:41.720607",
          "status": "completed"
        },
        "tags": [],
        "ExecuteTime": {
          "end_time": "2025-02-26T10:04:33.367648Z",
          "start_time": "2025-02-26T10:04:33.358071Z"
        },
        "id": "11175d62",
        "outputId": "13ff457b-a272-4813-e096-137fe7ba6543",
        "colab": {
          "base_uri": "https://localhost:8080/"
        }
      },
      "outputs": [
        {
          "output_type": "stream",
          "name": "stdout",
          "text": [
            "loading annotations into memory...\n",
            "Done (t=0.00s)\n",
            "creating index...\n",
            "index created!\n",
            "loading annotations into memory...\n",
            "Done (t=0.00s)\n",
            "creating index...\n",
            "index created!\n",
            "113 2\n",
            "50 2\n",
            "113 50\n"
          ]
        },
        {
          "output_type": "execute_result",
          "data": {
            "text/plain": [
              "51"
            ]
          },
          "metadata": {},
          "execution_count": 4
        }
      ],
      "source": [
        "# Load paths for the COCO dataset annotation files\n",
        "ANNOTATION_FILE_TRAIN = 'coco-instance-segmentation-tmj-dataset/images/train/_annotations.coco.json'\n",
        "ANNOTATION_FILE_VAL = 'coco-instance-segmentation-tmj-dataset/images/valid/_annotations.coco.json'\n",
        "\n",
        "# Define the object classes of interest\n",
        "classes = ['head', 'pit']\n",
        "\n",
        "# Initialize COCO instances for training set and load relevant data\n",
        "coco_train = COCO(ANNOTATION_FILE_TRAIN)\n",
        "catIds_train = coco_train.getCatIds(catNms=classes)\n",
        "imgIds_train = coco_train.getImgIds(catIds=catIds_train)\n",
        "imgDict_train = coco_train.loadImgs(imgIds_train)\n",
        "\n",
        "# Initialize COCO instances for validation set and load relevant data\n",
        "coco_val = COCO(ANNOTATION_FILE_VAL)\n",
        "catIds_val = coco_val.getCatIds(catNms=classes)\n",
        "imgIds_val = coco_val.getImgIds(catIds=catIds_val)\n",
        "imgDict_val = coco_val.loadImgs(imgIds_val)\n",
        "\n",
        "# Print the number of training and validation images and categories\n",
        "print(len(imgIds_train), len(catIds_train))\n",
        "print(len(imgIds_val), len(catIds_val))\n",
        "\n",
        "# Shuffle the training and validation image IDs\n",
        "shuffle(imgIds_train)\n",
        "shuffle(imgIds_val)\n",
        "\n",
        "# Select a subset of validation image IDs\n",
        "imgIds_val = imgIds_val[0:100]\n",
        "imgIds_train = imgIds_train[0:500]\n",
        "\n",
        "# Generate the list of file names for training and validation person images\n",
        "train_images_person = [\"train_{0:012d}.jpg\".format(ids) for ids in imgIds_train]\n",
        "val_images_person = [\"valid_{0:012d}.jpg\".format(ids) for ids in imgIds_val]\n",
        "\n",
        "# Print the number of training and validation person images\n",
        "print(len(train_images_person), len(val_images_person))\n",
        "\n",
        "# Generate the list of file names for training person images\n",
        "train_images_person = [\"train_{0:012d}.jpg\".format(ids) for ids in imgIds_train]\n",
        "\n",
        "# Generate the list of file names for validation person images\n",
        "val_images_person = [\"valid_{0:012d}.jpg\".format(ids) for ids in imgIds_val]\n",
        "\n",
        "# Check the number of files in the validation images directory\n",
        "len(os.listdir(\"coco-instance-segmentation-tmj-dataset/images/valid\"))"
      ]
    },
    {
      "cell_type": "markdown",
      "source": [
        "### Generate the masks for training images"
      ],
      "metadata": {
        "collapsed": false,
        "id": "fcd0891164b9bc08"
      },
      "id": "fcd0891164b9bc08"
    },
    {
      "cell_type": "code",
      "outputs": [
        {
          "output_type": "stream",
          "name": "stdout",
          "text": [
            "Created 113 masks\n"
          ]
        }
      ],
      "source": [
        "# Initialize a count variable\n",
        "count = 0\n",
        "os.makedirs(\"coco-instance-segmentation-tmj-dataset/masks/train\", exist_ok=True)\n",
        "\n",
        "for ID in imgIds_train:\n",
        "\n",
        "    # Set the file path for the mask\n",
        "    file_path = \"coco-instance-segmentation-tmj-dataset/masks/train/train_{0:012d}.jpg\".format(ID)\n",
        "\n",
        "    # Retrieve a random image ID from the training set\n",
        "    sampleImgIds = coco_train.getImgIds(imgIds=[ID])\n",
        "    sampleImgDict = coco_train.loadImgs(sampleImgIds[np.random.randint(0, len(sampleImgIds))])[0]\n",
        "\n",
        "    # Retrieve the annotation IDs and annotations for the image\n",
        "    annIds = coco_train.getAnnIds(imgIds=sampleImgDict['id'], catIds=catIds_train, iscrowd=0)\n",
        "    anns = coco_train.loadAnns(annIds)\n",
        "\n",
        "    # Generate the mask by combining the individual instance masks\n",
        "    mask = coco_train.annToMask(anns[0])\n",
        "    for i in range(len(anns)):\n",
        "        mask = mask | coco_train.annToMask(anns[i])\n",
        "\n",
        "    # Convert the mask to an image and save it\n",
        "    mask = Image.fromarray(mask * 255, mode=\"L\")\n",
        "    mask.save(file_path)\n",
        "    count = count + 1\n",
        "\n",
        "print(\"Created\", count, \"masks\")"
      ],
      "metadata": {
        "ExecuteTime": {
          "end_time": "2025-02-26T10:04:33.554678Z",
          "start_time": "2025-02-26T10:04:33.366565Z"
        },
        "id": "c449ff02c34d50d1",
        "outputId": "34a9836c-fd09-4ab2-e24e-c6a5668b30cd",
        "colab": {
          "base_uri": "https://localhost:8080/"
        }
      },
      "id": "c449ff02c34d50d1",
      "execution_count": 5
    },
    {
      "cell_type": "markdown",
      "source": [
        "### Generate the masks for validation images"
      ],
      "metadata": {
        "collapsed": false,
        "id": "3b6ed4599fcfed0a"
      },
      "id": "3b6ed4599fcfed0a"
    },
    {
      "cell_type": "code",
      "outputs": [
        {
          "output_type": "stream",
          "name": "stdout",
          "text": [
            "Created 50 masks\n"
          ]
        }
      ],
      "source": [
        "# Reset the count variable\n",
        "count = 0\n",
        "os.makedirs(\"coco-instance-segmentation-tmj-dataset/masks/valid\", exist_ok=True)\n",
        "\n",
        "for ID in imgIds_val:\n",
        "\n",
        "    file_path = \"coco-instance-segmentation-tmj-dataset/masks/valid/valid_{0:012d}.jpg\".format(ID)\n",
        "\n",
        "    # Retrieve a random image ID from the validation set\n",
        "    sampleImgIds = coco_val.getImgIds(imgIds=[ID])\n",
        "    sampleImgDict = coco_val.loadImgs(sampleImgIds[np.random.randint(0, len(sampleImgIds))])[0]\n",
        "\n",
        "    # Retrieve the annotation IDs and annotations for the image\n",
        "    annIds = coco_val.getAnnIds(imgIds=sampleImgDict['id'], catIds=catIds_val, iscrowd=0)\n",
        "    anns = coco_val.loadAnns(annIds)\n",
        "\n",
        "    # Generate the mask by combining the individual instance masks\n",
        "    mask = coco_val.annToMask(anns[0])\n",
        "    for i in range(len(anns)):\n",
        "        mask = mask | coco_val.annToMask(anns[i])\n",
        "\n",
        "    # Convert the mask to an image and save it\n",
        "    mask = Image.fromarray(mask * 255, mode=\"L\")\n",
        "    mask.save(file_path)\n",
        "\n",
        "    count = count + 1\n",
        "\n",
        "print(\"Created\", count, \"masks\")"
      ],
      "metadata": {
        "ExecuteTime": {
          "end_time": "2025-02-26T10:04:33.637655Z",
          "start_time": "2025-02-26T10:04:33.553504Z"
        },
        "id": "fdf8318aba3ad836",
        "outputId": "e1a85205-800f-46f4-9d71-71d86f6e0272",
        "colab": {
          "base_uri": "https://localhost:8080/"
        }
      },
      "id": "fdf8318aba3ad836",
      "execution_count": 6
    },
    {
      "cell_type": "markdown",
      "id": "e8252e88",
      "metadata": {
        "papermill": {
          "duration": 0.011535,
          "end_time": "2023-08-01T08:15:08.372744",
          "exception": false,
          "start_time": "2023-08-01T08:15:08.361209",
          "status": "completed"
        },
        "tags": [],
        "id": "e8252e88"
      },
      "source": [
        "## 4. Custom Data Generator\n",
        "\n",
        "To efficiently handle the large amount of image and mask data, we create a custom data generator class. This class will generate batches of preprocessed images and masks for training the UNet model.\n",
        "\n",
        "In the code above, we define a `CustomDataGenerator` class that extends the `keras.utils.Sequence` class. This allows us to use the data generator with the Keras model's training functions.\n",
        "\n",
        "The `CustomDataGenerator` class takes the paths to the directories containing the original images and corresponding masks, as well as the batch size as input. It has attributes to store the image and mask filenames and methods to retrieve the matching filenames between images and masks.\n",
        "\n",
        "The `__len__` method returns the number of batches in the generator, and the `__getitem__` method generates a batch of preprocessed images and masks. Inside the `__getitem__` method, we load the images and masks, resize them to a desired size (128x128 in this case), and convert them to numpy arrays. We also perform normalization by dividing the pixel values by 255.0.\n",
        "\n"
      ]
    },
    {
      "cell_type": "code",
      "execution_count": 7,
      "id": "27712f00",
      "metadata": {
        "execution": {
          "iopub.execute_input": "2023-08-01T08:15:08.440107Z",
          "iopub.status.busy": "2023-08-01T08:15:08.439842Z",
          "iopub.status.idle": "2023-08-01T08:15:12.574303Z",
          "shell.execute_reply": "2023-08-01T08:15:12.573208Z"
        },
        "papermill": {
          "duration": 4.149116,
          "end_time": "2023-08-01T08:15:12.576833",
          "exception": false,
          "start_time": "2023-08-01T08:15:08.427717",
          "status": "completed"
        },
        "tags": [],
        "ExecuteTime": {
          "end_time": "2025-02-26T10:04:33.641107Z",
          "start_time": "2025-02-26T10:04:33.635030Z"
        },
        "id": "27712f00"
      },
      "outputs": [],
      "source": [
        "# Usage\n",
        "images_path = 'coco-instance-segmentation-tmj-dataset/images/train'\n",
        "masks_path = 'coco-instance-segmentation-tmj-dataset/masks/train'\n",
        "batch_size = 4\n",
        "\n",
        "# Create an instance of the CustomDataGenerator\n",
        "train_generator = CustomDataGenerator(images_path, masks_path, batch_size)"
      ]
    },
    {
      "cell_type": "code",
      "execution_count": 8,
      "id": "08859b0d",
      "metadata": {
        "execution": {
          "iopub.execute_input": "2023-08-01T08:15:12.602296Z",
          "iopub.status.busy": "2023-08-01T08:15:12.600786Z",
          "iopub.status.idle": "2023-08-01T08:15:12.690542Z",
          "shell.execute_reply": "2023-08-01T08:15:12.689454Z"
        },
        "papermill": {
          "duration": 0.10453,
          "end_time": "2023-08-01T08:15:12.692873",
          "exception": false,
          "start_time": "2023-08-01T08:15:12.588343",
          "status": "completed"
        },
        "tags": [],
        "ExecuteTime": {
          "end_time": "2025-02-26T10:04:33.642197Z",
          "start_time": "2025-02-26T10:04:33.638558Z"
        },
        "id": "08859b0d",
        "outputId": "5ea6fd6f-a38d-4f0c-d82e-1dbb0e252bff",
        "colab": {
          "base_uri": "https://localhost:8080/"
        }
      },
      "outputs": [
        {
          "output_type": "stream",
          "name": "stdout",
          "text": [
            "114\n",
            "113\n",
            "51\n",
            "50\n"
          ]
        }
      ],
      "source": [
        "# Print the number of files in the train directory containing original images\n",
        "print(len(os.listdir(\"coco-instance-segmentation-tmj-dataset/images/train\")))\n",
        "\n",
        "# Print the number of files in the mask_train directory containing generated masks\n",
        "print(len(os.listdir(\"coco-instance-segmentation-tmj-dataset/masks/train\")))\n",
        "\n",
        "# Print the number of files in the valid directory containing original images\n",
        "print(len(os.listdir(\"coco-instance-segmentation-tmj-dataset/images/valid\")))\n",
        "\n",
        "# Print the number of files in the mask_valid directory containing generated masks\n",
        "print(len(os.listdir(\"coco-instance-segmentation-tmj-dataset/masks/valid\")))"
      ]
    },
    {
      "cell_type": "code",
      "outputs": [],
      "source": [
        "# Get the list of mask filenames\n",
        "mask_filenames = [filename for filename in os.listdir(masks_path) if filename.endswith('.jpg')]"
      ],
      "metadata": {
        "ExecuteTime": {
          "end_time": "2025-02-26T10:04:33.643868Z",
          "start_time": "2025-02-26T10:04:33.641413Z"
        },
        "id": "28dc2a68d998a1f5"
      },
      "id": "28dc2a68d998a1f5",
      "execution_count": 9
    },
    {
      "cell_type": "code",
      "outputs": [
        {
          "output_type": "execute_result",
          "data": {
            "text/plain": [
              "['train_000000000046.jpg',\n",
              " 'train_000000000059.jpg',\n",
              " 'train_000000000002.jpg',\n",
              " 'train_000000000060.jpg',\n",
              " 'train_000000000096.jpg',\n",
              " 'train_000000000093.jpg',\n",
              " 'train_000000000016.jpg',\n",
              " 'train_000000000024.jpg',\n",
              " 'train_000000000015.jpg',\n",
              " 'train_000000000055.jpg',\n",
              " 'train_000000000021.jpg',\n",
              " 'train_000000000077.jpg',\n",
              " 'train_000000000019.jpg',\n",
              " 'train_000000000088.jpg',\n",
              " 'train_000000000083.jpg',\n",
              " 'train_000000000027.jpg',\n",
              " 'train_000000000094.jpg',\n",
              " 'train_000000000092.jpg',\n",
              " 'train_000000000097.jpg',\n",
              " 'train_000000000032.jpg',\n",
              " 'train_000000000044.jpg',\n",
              " 'train_000000000017.jpg',\n",
              " 'train_000000000028.jpg',\n",
              " 'train_000000000048.jpg',\n",
              " 'train_000000000079.jpg',\n",
              " 'train_000000000069.jpg',\n",
              " 'train_000000000052.jpg',\n",
              " 'train_000000000045.jpg',\n",
              " 'train_000000000050.jpg',\n",
              " 'train_000000000034.jpg',\n",
              " 'train_000000000084.jpg',\n",
              " 'train_000000000075.jpg',\n",
              " 'train_000000000057.jpg',\n",
              " 'train_000000000076.jpg',\n",
              " 'train_000000000099.jpg',\n",
              " 'train_000000000067.jpg',\n",
              " 'train_000000000043.jpg',\n",
              " 'train_000000000111.jpg',\n",
              " 'train_000000000031.jpg',\n",
              " 'train_000000000023.jpg',\n",
              " 'train_000000000047.jpg',\n",
              " 'train_000000000073.jpg',\n",
              " 'train_000000000082.jpg',\n",
              " 'train_000000000072.jpg',\n",
              " 'train_000000000109.jpg',\n",
              " 'train_000000000005.jpg',\n",
              " 'train_000000000054.jpg',\n",
              " 'train_000000000104.jpg',\n",
              " 'train_000000000078.jpg',\n",
              " 'train_000000000026.jpg',\n",
              " 'train_000000000001.jpg',\n",
              " 'train_000000000029.jpg',\n",
              " 'train_000000000035.jpg',\n",
              " 'train_000000000098.jpg',\n",
              " 'train_000000000020.jpg',\n",
              " 'train_000000000070.jpg',\n",
              " 'train_000000000030.jpg',\n",
              " 'train_000000000041.jpg',\n",
              " 'train_000000000056.jpg',\n",
              " 'train_000000000091.jpg',\n",
              " 'train_000000000087.jpg',\n",
              " 'train_000000000003.jpg',\n",
              " 'train_000000000051.jpg',\n",
              " 'train_000000000012.jpg',\n",
              " 'train_000000000036.jpg',\n",
              " 'train_000000000038.jpg',\n",
              " 'train_000000000063.jpg',\n",
              " 'train_000000000074.jpg',\n",
              " 'train_000000000037.jpg',\n",
              " 'train_000000000095.jpg',\n",
              " 'train_000000000089.jpg',\n",
              " 'train_000000000090.jpg',\n",
              " 'train_000000000064.jpg',\n",
              " 'train_000000000112.jpg',\n",
              " 'train_000000000039.jpg',\n",
              " 'train_000000000101.jpg',\n",
              " 'train_000000000009.jpg',\n",
              " 'train_000000000004.jpg',\n",
              " 'train_000000000071.jpg',\n",
              " 'train_000000000049.jpg',\n",
              " 'train_000000000058.jpg',\n",
              " 'train_000000000100.jpg',\n",
              " 'train_000000000066.jpg',\n",
              " 'train_000000000086.jpg',\n",
              " 'train_000000000010.jpg',\n",
              " 'train_000000000061.jpg',\n",
              " 'train_000000000110.jpg',\n",
              " 'train_000000000018.jpg',\n",
              " 'train_000000000053.jpg',\n",
              " 'train_000000000106.jpg',\n",
              " 'train_000000000040.jpg',\n",
              " 'train_000000000007.jpg',\n",
              " 'train_000000000080.jpg',\n",
              " 'train_000000000006.jpg',\n",
              " 'train_000000000022.jpg',\n",
              " 'train_000000000102.jpg',\n",
              " 'train_000000000107.jpg',\n",
              " 'train_000000000081.jpg',\n",
              " 'train_000000000033.jpg',\n",
              " 'train_000000000011.jpg',\n",
              " 'train_000000000068.jpg',\n",
              " 'train_000000000014.jpg',\n",
              " 'train_000000000008.jpg',\n",
              " 'train_000000000085.jpg',\n",
              " 'train_000000000000.jpg',\n",
              " 'train_000000000105.jpg',\n",
              " 'train_000000000013.jpg',\n",
              " 'train_000000000062.jpg',\n",
              " 'train_000000000025.jpg',\n",
              " 'train_000000000103.jpg',\n",
              " 'train_000000000065.jpg',\n",
              " 'train_000000000042.jpg',\n",
              " 'train_000000000108.jpg']"
            ]
          },
          "metadata": {},
          "execution_count": 10
        }
      ],
      "source": [
        "mask_filenames"
      ],
      "metadata": {
        "ExecuteTime": {
          "end_time": "2025-02-26T10:04:33.650218Z",
          "start_time": "2025-02-26T10:04:33.646099Z"
        },
        "id": "52cdd17712aef478",
        "outputId": "d908d6ec-2cf9-4339-cc8a-1d8757db014a",
        "colab": {
          "base_uri": "https://localhost:8080/"
        }
      },
      "id": "52cdd17712aef478",
      "execution_count": 10
    },
    {
      "cell_type": "code",
      "execution_count": 11,
      "id": "a5a8dd21",
      "metadata": {
        "execution": {
          "iopub.execute_input": "2023-08-01T08:15:12.718569Z",
          "iopub.status.busy": "2023-08-01T08:15:12.716879Z",
          "iopub.status.idle": "2023-08-01T08:15:13.218587Z",
          "shell.execute_reply": "2023-08-01T08:15:13.217727Z"
        },
        "papermill": {
          "duration": 0.519261,
          "end_time": "2023-08-01T08:15:13.223712",
          "exception": false,
          "start_time": "2023-08-01T08:15:12.704451",
          "status": "completed"
        },
        "tags": [],
        "ExecuteTime": {
          "end_time": "2025-02-26T10:04:59.651079Z",
          "start_time": "2025-02-26T10:04:59.519718Z"
        },
        "id": "a5a8dd21",
        "outputId": "12720c78-87b7-4e89-92ad-efb595edd8ff",
        "colab": {
          "base_uri": "https://localhost:8080/",
          "height": 391
        }
      },
      "outputs": [
        {
          "output_type": "stream",
          "name": "stdout",
          "text": [
            "Mask Image Shape: (512, 512)\n",
            "Main Image Shape: (512, 512, 3)\n"
          ]
        },
        {
          "output_type": "display_data",
          "data": {
            "text/plain": [
              "<Figure size 640x480 with 2 Axes>"
            ],
            "image/png": "[encoded data removed]"
          },
          "metadata": {}
        }
      ],
      "source": [
        "indexOfImage = 5\n",
        "# Assuming the first image in the mask folder is the one to plot\n",
        "first_mask_filename = mask_filenames[indexOfImage]\n",
        "image_filename = os.path.splitext(first_mask_filename)[0] + '.jpg'\n",
        "\n",
        "# Load and plot the mask image\n",
        "mask_image = Image.open(os.path.join(masks_path, first_mask_filename))\n",
        "plt.subplot(1, 2, 1)\n",
        "plt.imshow(mask_image)\n",
        "plt.title('Mask Image')\n",
        "plt.axis('off')\n",
        "\n",
        "# Load and plot the corresponding main image\n",
        "main_image = Image.open(os.path.join(images_path, image_filename))\n",
        "plt.subplot(1, 2, 2)\n",
        "plt.imshow(main_image)\n",
        "plt.title('Main Image')\n",
        "plt.axis('off')\n",
        "\n",
        "# Print the shapes of the images\n",
        "print('Mask Image Shape:', np.array(mask_image).shape)\n",
        "print('Main Image Shape:', np.array(main_image).shape)\n",
        "\n",
        "plt.tight_layout()\n",
        "plt.show()"
      ]
    },
    {
      "cell_type": "markdown",
      "id": "7c4c54d0",
      "metadata": {
        "papermill": {
          "duration": 0.015824,
          "end_time": "2023-08-01T08:15:13.255439",
          "exception": false,
          "start_time": "2023-08-01T08:15:13.239615",
          "status": "completed"
        },
        "tags": [],
        "id": "7c4c54d0"
      },
      "source": [
        "## 5. Построение модели UNet\n",
        "\n",
        "Далее мы определяем архитектуру модели UNet. Архитектура UNet является популярным выбором для задач сегментации изображений благодаря своей способности захватывать как низкоуровневые, так и высокоуровневые признаки.\n",
        "\n",
        "В приведенном коде мы определяем несколько функций для построения модели UNet. Эти функции используются для создания различных блоков модели: блоков сужения (down blocks), блока узкой части (bottleneck block), блоков расширения (up blocks) и блока выхода (output block).\n",
        "\n",
        "Функция `down_block` принимает входной тензор, количество фильтров, размер ядра, шаги, паддинг, инициализатор ядра и параметры для максимального пулинга. Она применяет два свертки с батч-нормализацией и активационными функциями, а затем выполняет максимальный пулинг. Выходом этой функции является обработанный тензор и пулинговый тензор для пропускающих соединений.\n",
        "\n",
        "Функция `bottle_neck` принимает входной тензор, количество фильтров, размер ядра, шаги, паддинг и инициализатор ядра. Она применяет два свертки с батч-нормализацией и активационными функциями. Выходом этой функции является обработанный тензор.\n",
        "\n",
        "Функция `up_block` принимает входной тензор, количество фильтров, тензор пропускающего соединения из соответствующего блока сужения, размер ядра, шаги, коэффициент апсемплинга, окно для максимального пулинга, паддинг и инициализатор ядра. Она выполняет апсемплинг на входном тензоре, конкатенирует его с тензором пропускающего соединения и применяет два свертки с батч-нормализацией и активационными функциями. Выходом этой функции является обработанный тензор.\n",
        "\n",
        "Функция `output_block` принимает входной тензор, паддинг и инициализатор ядра. Она применяет два свертки, первая с 2 фильтрами и вторая с 1 фильтром, обе с активационными функциями. Выходом этой функции является финальный выходной тензор.\n",
        "\n",
        "Наконец, мы определяем функцию `UNet`, которая создает всю модель UNet, используя ранее определенные блоки. Она принимает форму входных данных как аргумент и возвращает модель.\n",
        "\n",
        "Я использовал похожую модель U-Net, как [здесь](https://github.com/H-arshit/UNET-On-COCO/blob/master/Keras_COCO_UNET.ipynb)."
      ]
    },
    {
      "cell_type": "code",
      "execution_count": 12,
      "id": "071daf59",
      "metadata": {
        "execution": {
          "iopub.execute_input": "2023-08-01T08:15:13.288188Z",
          "iopub.status.busy": "2023-08-01T08:15:13.287876Z",
          "iopub.status.idle": "2023-08-01T08:15:13.320744Z",
          "shell.execute_reply": "2023-08-01T08:15:13.319848Z"
        },
        "papermill": {
          "duration": 0.051876,
          "end_time": "2023-08-01T08:15:13.322788",
          "exception": false,
          "start_time": "2023-08-01T08:15:13.270912",
          "status": "completed"
        },
        "tags": [],
        "ExecuteTime": {
          "end_time": "2025-02-26T10:04:34.114881Z",
          "start_time": "2025-02-26T10:04:33.771055Z"
        },
        "id": "071daf59"
      },
      "outputs": [],
      "source": [
        "from Unet import UNet"
      ]
    },
    {
      "cell_type": "markdown",
      "id": "ab966131",
      "metadata": {
        "papermill": {
          "duration": 0.01522,
          "end_time": "2023-08-01T08:15:13.353408",
          "exception": false,
          "start_time": "2023-08-01T08:15:13.338188",
          "status": "completed"
        },
        "tags": [],
        "id": "ab966131"
      },
      "source": [
        "## 6. Компиляция и обучение модели\n",
        "\n",
        "В этом разделе мы скомпилируем и обучим модель UNet для сегментации изображений с использованием TensorFlow и Keras. Мы настроим модель с подходящими функциями потерь, метриками оценки и параметрами оптимизации, чтобы добиться точных результатов сегментации.\n",
        "\n",
        "### 6.1 Компиляция модели\n",
        "\n",
        "Сначала мы создаем экземпляр модели UNet с формой входных данных (128, 128, 3) с помощью функции `UNet`, которую мы определили ранее. Модель будет использоваться для сегментации изображений.\n",
        "\n",
        "Затем мы компилируем модель, используя оптимизатор Adam с коэффициентом обучения 1e-4 и функцией потерь бинарной кросс-энтропии. Функция потерь бинарной кросс-энтропии обычно используется для задач бинарной сегментации, где каждый пиксель классифицируется как принадлежащий целевому объекту или нет.\n",
        "\n",
        "Мы также включаем набор метрик для оценки производительности модели во время обучения. Метрики включают Среднее пересечение (MeanIoU), Точность (Precision), Отзывчивость (Recall), Площадь под кривой (AUC) и Точность (Accuracy). Эти метрики предоставляют ценную информацию о качестве предсказаний сегментации модели.\n",
        "\n",
        "### 6.2 Обучение модели\n",
        "\n",
        "Перед обучением модели мы создаем генератор для валидационных данных с использованием класса `CustomDataGenerator`. Этот генератор будет загружать и подготавливать валидационные изображения и маски в пакетах, что делает процесс оценки во время обучения эффективным.\n",
        "\n",
        "Чтобы определить количество шагов на эпоху для обучения, мы вычисляем общее количество файлов масок для обучения и делим его на размер пакета.\n",
        "\n",
        "Во время обучения мы используем несколько функций обратного вызова для улучшения процесса обучения модели. Обратные вызовы включают:\n",
        "\n",
        "- **Early Stopping (Раннее прекращение)**: Этот обратный вызов следит за потерями на валидации и останавливает процесс обучения, если потери не улучшаются в течение определенного числа эпох (параметр patience). Модель восстановит веса из лучшей эпохи с наименьшими потерями на валидации.\n",
        "- **Model Checkpoint (Контрольная точка модели)**: Этот обратный вызов сохраняет веса модели после каждой эпохи, если потери на валидации улучшаются. Это помогает отслеживать наилучшую модель в процессе обучения.\n",
        "- **Reduce Learning Rate on Plateau (Снижение коэффициента обучения на плато)**: Этот обратный вызов снижает коэффициент обучения на 0.7, если потери на валидации не улучшаются в течение определенного числа эпох (параметр patience). Это помогает точнее настроить модель, когда прогресс замедляется.\n",
        "\n",
        "Наконец, мы обучаем модель с помощью функции `fit`, передавая генератор для обучения, генератор для валидации, количество шагов на эпоху и желаемое количество эпох. Модель будет обучаться на предоставленном датасете, и прогресс обучения будет отображаться.\n",
        "\n",
        "После завершения обучения мы сохраняем окончательную обученную модель в файл с именем \"final_model.h5\" для дальнейшего использования.\n",
        "\n",
        "Скомпилировав и обучив модель с подходящими настройками и метриками оценки, мы можем добиться точных результатов сегментации изображений и получить модель, способную идентифицировать границы объектов на изображениях."
      ]
    },
    {
      "cell_type": "code",
      "outputs": [],
      "source": [
        "from keras.src.optimizers import Adam\n",
        "from tensorflow.keras.losses import BinaryCrossentropy\n",
        "from keras.src.metrics import MeanIoU, Precision, Recall, AUC\n",
        "from keras.src.callbacks import EarlyStopping, ModelCheckpoint, ReduceLROnPlateau\n",
        "import datetime\n",
        "import math\n",
        "#import keras.backend as K\n",
        "\n",
        "from tensorflow.keras.losses import Loss"
      ],
      "metadata": {
        "ExecuteTime": {
          "end_time": "2025-02-26T10:04:34.121757Z",
          "start_time": "2025-02-26T10:04:34.117014Z"
        },
        "id": "7f68b89be9be29b1"
      },
      "id": "7f68b89be9be29b1",
      "execution_count": 13
    },
    {
      "cell_type": "code",
      "execution_count": 14,
      "id": "9faf9d13",
      "metadata": {
        "execution": {
          "iopub.execute_input": "2023-08-01T08:15:13.387036Z",
          "iopub.status.busy": "2023-08-01T08:15:13.38674Z",
          "iopub.status.idle": "2023-08-01T14:21:15.311198Z",
          "shell.execute_reply": "2023-08-01T14:21:15.308882Z"
        },
        "papermill": {
          "duration": 21972.060539,
          "end_time": "2023-08-01T14:21:25.430747",
          "exception": false,
          "start_time": "2023-08-01T08:15:13.370208",
          "status": "completed"
        },
        "tags": [],
        "ExecuteTime": {
          "start_time": "2025-02-26T10:04:34.119759Z"
        },
        "id": "9faf9d13",
        "outputId": "3333bbc1-338d-4a3d-eaf2-6a2c110ee3f3",
        "colab": {
          "base_uri": "https://localhost:8080/",
          "height": 1000
        }
      },
      "outputs": [
        {
          "output_type": "stream",
          "name": "stdout",
          "text": [
            "Epoch 1/50\n"
          ]
        },
        {
          "output_type": "stream",
          "name": "stderr",
          "text": [
            "/usr/local/lib/python3.11/dist-packages/keras/src/trainers/data_adapters/py_dataset_adapter.py:121: UserWarning: Your `PyDataset` class should call `super().__init__(**kwargs)` in its constructor. `**kwargs` can include `workers`, `use_multiprocessing`, `max_queue_size`. Do not pass these arguments to `fit()`, as they will be ignored.\n",
            "  self._warn_if_super_not_called()\n"
          ]
        },
        {
          "output_type": "error",
          "ename": "NotFoundError",
          "evalue": "Graph execution error:\n\nDetected at node StatefulPartitionedCall defined at (most recent call last):\n  File \"<frozen runpy>\", line 198, in _run_module_as_main\n\n  File \"<frozen runpy>\", line 88, in _run_code\n\n  File \"/usr/local/lib/python3.11/dist-packages/colab_kernel_launcher.py\", line 37, in <module>\n\n  File \"/usr/local/lib/python3.11/dist-packages/traitlets/config/application.py\", line 992, in launch_instance\n\n  File \"/usr/local/lib/python3.11/dist-packages/ipykernel/kernelapp.py\", line 712, in start\n\n  File \"/usr/local/lib/python3.11/dist-packages/tornado/platform/asyncio.py\", line 205, in start\n\n  File \"/usr/lib/python3.11/asyncio/base_events.py\", line 608, in run_forever\n\n  File \"/usr/lib/python3.11/asyncio/base_events.py\", line 1936, in _run_once\n\n  File \"/usr/lib/python3.11/asyncio/events.py\", line 84, in _run\n\n  File \"/usr/local/lib/python3.11/dist-packages/ipykernel/kernelbase.py\", line 510, in dispatch_queue\n\n  File \"/usr/local/lib/python3.11/dist-packages/ipykernel/kernelbase.py\", line 499, in process_one\n\n  File \"/usr/local/lib/python3.11/dist-packages/ipykernel/kernelbase.py\", line 406, in dispatch_shell\n\n  File \"/usr/local/lib/python3.11/dist-packages/ipykernel/kernelbase.py\", line 730, in execute_request\n\n  File \"/usr/local/lib/python3.11/dist-packages/ipykernel/ipkernel.py\", line 383, in do_execute\n\n  File \"/usr/local/lib/python3.11/dist-packages/ipykernel/zmqshell.py\", line 528, in run_cell\n\n  File \"/usr/local/lib/python3.11/dist-packages/IPython/core/interactiveshell.py\", line 2975, in run_cell\n\n  File \"/usr/local/lib/python3.11/dist-packages/IPython/core/interactiveshell.py\", line 3030, in _run_cell\n\n  File \"/usr/local/lib/python3.11/dist-packages/IPython/core/async_helpers.py\", line 78, in _pseudo_sync_runner\n\n  File \"/usr/local/lib/python3.11/dist-packages/IPython/core/interactiveshell.py\", line 3257, in run_cell_async\n\n  File \"/usr/local/lib/python3.11/dist-packages/IPython/core/interactiveshell.py\", line 3473, in run_ast_nodes\n\n  File \"/usr/local/lib/python3.11/dist-packages/IPython/core/interactiveshell.py\", line 3553, in run_code\n\n  File \"<ipython-input-14-724c33ac1066>\", line 48, in <cell line: 0>\n\n  File \"/usr/local/lib/python3.11/dist-packages/keras/src/utils/traceback_utils.py\", line 117, in error_handler\n\n  File \"/usr/local/lib/python3.11/dist-packages/keras/src/backend/tensorflow/trainer.py\", line 371, in fit\n\n  File \"/usr/local/lib/python3.11/dist-packages/keras/src/backend/tensorflow/trainer.py\", line 219, in function\n\n  File \"/usr/local/lib/python3.11/dist-packages/keras/src/backend/tensorflow/trainer.py\", line 132, in multi_step_on_iterator\n\ncould not find registered transfer manager for platform Host -- check target linkage\n\t [[{{node StatefulPartitionedCall}}]] [Op:__inference_multi_step_on_iterator_20320]",
          "traceback": [
            "\u001b[0;31m---------------------------------------------------------------------------\u001b[0m",
            "\u001b[0;31mNotFoundError\u001b[0m                             Traceback (most recent call last)",
            "\u001b[0;32m<ipython-input-14-724c33ac1066>\u001b[0m in \u001b[0;36m<cell line: 0>\u001b[0;34m()\u001b[0m\n\u001b[1;32m     46\u001b[0m \u001b[0;34m\u001b[0m\u001b[0m\n\u001b[1;32m     47\u001b[0m \u001b[0;31m# Fit the model with the training generator\u001b[0m\u001b[0;34m\u001b[0m\u001b[0;34m\u001b[0m\u001b[0m\n\u001b[0;32m---> 48\u001b[0;31m history = model.fit(\n\u001b[0m\u001b[1;32m     49\u001b[0m     \u001b[0mtrain_generator\u001b[0m\u001b[0;34m,\u001b[0m\u001b[0;34m\u001b[0m\u001b[0;34m\u001b[0m\u001b[0m\n\u001b[1;32m     50\u001b[0m     \u001b[0mvalidation_data\u001b[0m\u001b[0;34m=\u001b[0m\u001b[0mval_generator\u001b[0m\u001b[0;34m,\u001b[0m\u001b[0;34m\u001b[0m\u001b[0;34m\u001b[0m\u001b[0m\n",
            "\u001b[0;32m/usr/local/lib/python3.11/dist-packages/keras/src/utils/traceback_utils.py\u001b[0m in \u001b[0;36merror_handler\u001b[0;34m(*args, **kwargs)\u001b[0m\n\u001b[1;32m    120\u001b[0m             \u001b[0;31m# To get the full stack trace, call:\u001b[0m\u001b[0;34m\u001b[0m\u001b[0;34m\u001b[0m\u001b[0m\n\u001b[1;32m    121\u001b[0m             \u001b[0;31m# `keras.config.disable_traceback_filtering()`\u001b[0m\u001b[0;34m\u001b[0m\u001b[0;34m\u001b[0m\u001b[0m\n\u001b[0;32m--> 122\u001b[0;31m             \u001b[0;32mraise\u001b[0m \u001b[0me\u001b[0m\u001b[0;34m.\u001b[0m\u001b[0mwith_traceback\u001b[0m\u001b[0;34m(\u001b[0m\u001b[0mfiltered_tb\u001b[0m\u001b[0;34m)\u001b[0m \u001b[0;32mfrom\u001b[0m \u001b[0;32mNone\u001b[0m\u001b[0;34m\u001b[0m\u001b[0;34m\u001b[0m\u001b[0m\n\u001b[0m\u001b[1;32m    123\u001b[0m         \u001b[0;32mfinally\u001b[0m\u001b[0;34m:\u001b[0m\u001b[0;34m\u001b[0m\u001b[0;34m\u001b[0m\u001b[0m\n\u001b[1;32m    124\u001b[0m             \u001b[0;32mdel\u001b[0m \u001b[0mfiltered_tb\u001b[0m\u001b[0;34m\u001b[0m\u001b[0;34m\u001b[0m\u001b[0m\n",
            "\u001b[0;32m/usr/local/lib/python3.11/dist-packages/tensorflow/python/eager/execute.py\u001b[0m in \u001b[0;36mquick_execute\u001b[0;34m(op_name, num_outputs, inputs, attrs, ctx, name)\u001b[0m\n\u001b[1;32m     57\u001b[0m       \u001b[0me\u001b[0m\u001b[0;34m.\u001b[0m\u001b[0mmessage\u001b[0m \u001b[0;34m+=\u001b[0m \u001b[0;34m\" name: \"\u001b[0m \u001b[0;34m+\u001b[0m \u001b[0mname\u001b[0m\u001b[0;34m\u001b[0m\u001b[0;34m\u001b[0m\u001b[0m\n\u001b[1;32m     58\u001b[0m     \u001b[0;32mraise\u001b[0m \u001b[0mcore\u001b[0m\u001b[0;34m.\u001b[0m\u001b[0m_status_to_exception\u001b[0m\u001b[0;34m(\u001b[0m\u001b[0me\u001b[0m\u001b[0;34m)\u001b[0m \u001b[0;32mfrom\u001b[0m \u001b[0;32mNone\u001b[0m\u001b[0;34m\u001b[0m\u001b[0;34m\u001b[0m\u001b[0m\n\u001b[0;32m---> 59\u001b[0;31m   \u001b[0;32mexcept\u001b[0m \u001b[0mTypeError\u001b[0m \u001b[0;32mas\u001b[0m \u001b[0me\u001b[0m\u001b[0;34m:\u001b[0m\u001b[0;34m\u001b[0m\u001b[0;34m\u001b[0m\u001b[0m\n\u001b[0m\u001b[1;32m     60\u001b[0m     \u001b[0mkeras_symbolic_tensors\u001b[0m \u001b[0;34m=\u001b[0m \u001b[0;34m[\u001b[0m\u001b[0mx\u001b[0m \u001b[0;32mfor\u001b[0m \u001b[0mx\u001b[0m \u001b[0;32min\u001b[0m \u001b[0minputs\u001b[0m \u001b[0;32mif\u001b[0m \u001b[0m_is_keras_symbolic_tensor\u001b[0m\u001b[0;34m(\u001b[0m\u001b[0mx\u001b[0m\u001b[0;34m)\u001b[0m\u001b[0;34m]\u001b[0m\u001b[0;34m\u001b[0m\u001b[0;34m\u001b[0m\u001b[0m\n\u001b[1;32m     61\u001b[0m     \u001b[0;32mif\u001b[0m \u001b[0mkeras_symbolic_tensors\u001b[0m\u001b[0;34m:\u001b[0m\u001b[0;34m\u001b[0m\u001b[0;34m\u001b[0m\u001b[0m\n",
            "\u001b[0;31mNotFoundError\u001b[0m: Graph execution error:\n\nDetected at node StatefulPartitionedCall defined at (most recent call last):\n  File \"<frozen runpy>\", line 198, in _run_module_as_main\n\n  File \"<frozen runpy>\", line 88, in _run_code\n\n  File \"/usr/local/lib/python3.11/dist-packages/colab_kernel_launcher.py\", line 37, in <module>\n\n  File \"/usr/local/lib/python3.11/dist-packages/traitlets/config/application.py\", line 992, in launch_instance\n\n  File \"/usr/local/lib/python3.11/dist-packages/ipykernel/kernelapp.py\", line 712, in start\n\n  File \"/usr/local/lib/python3.11/dist-packages/tornado/platform/asyncio.py\", line 205, in start\n\n  File \"/usr/lib/python3.11/asyncio/base_events.py\", line 608, in run_forever\n\n  File \"/usr/lib/python3.11/asyncio/base_events.py\", line 1936, in _run_once\n\n  File \"/usr/lib/python3.11/asyncio/events.py\", line 84, in _run\n\n  File \"/usr/local/lib/python3.11/dist-packages/ipykernel/kernelbase.py\", line 510, in dispatch_queue\n\n  File \"/usr/local/lib/python3.11/dist-packages/ipykernel/kernelbase.py\", line 499, in process_one\n\n  File \"/usr/local/lib/python3.11/dist-packages/ipykernel/kernelbase.py\", line 406, in dispatch_shell\n\n  File \"/usr/local/lib/python3.11/dist-packages/ipykernel/kernelbase.py\", line 730, in execute_request\n\n  File \"/usr/local/lib/python3.11/dist-packages/ipykernel/ipkernel.py\", line 383, in do_execute\n\n  File \"/usr/local/lib/python3.11/dist-packages/ipykernel/zmqshell.py\", line 528, in run_cell\n\n  File \"/usr/local/lib/python3.11/dist-packages/IPython/core/interactiveshell.py\", line 2975, in run_cell\n\n  File \"/usr/local/lib/python3.11/dist-packages/IPython/core/interactiveshell.py\", line 3030, in _run_cell\n\n  File \"/usr/local/lib/python3.11/dist-packages/IPython/core/async_helpers.py\", line 78, in _pseudo_sync_runner\n\n  File \"/usr/local/lib/python3.11/dist-packages/IPython/core/interactiveshell.py\", line 3257, in run_cell_async\n\n  File \"/usr/local/lib/python3.11/dist-packages/IPython/core/interactiveshell.py\", line 3473, in run_ast_nodes\n\n  File \"/usr/local/lib/python3.11/dist-packages/IPython/core/interactiveshell.py\", line 3553, in run_code\n\n  File \"<ipython-input-14-724c33ac1066>\", line 48, in <cell line: 0>\n\n  File \"/usr/local/lib/python3.11/dist-packages/keras/src/utils/traceback_utils.py\", line 117, in error_handler\n\n  File \"/usr/local/lib/python3.11/dist-packages/keras/src/backend/tensorflow/trainer.py\", line 371, in fit\n\n  File \"/usr/local/lib/python3.11/dist-packages/keras/src/backend/tensorflow/trainer.py\", line 219, in function\n\n  File \"/usr/local/lib/python3.11/dist-packages/keras/src/backend/tensorflow/trainer.py\", line 132, in multi_step_on_iterator\n\ncould not find registered transfer manager for platform Host -- check target linkage\n\t [[{{node StatefulPartitionedCall}}]] [Op:__inference_multi_step_on_iterator_20320]"
          ]
        }
      ],
      "source": [
        "images_path = 'coco-instance-segmentation-tmj-dataset/images/valid'\n",
        "masks_path = 'coco-instance-segmentation-tmj-dataset/masks/valid'\n",
        "\n",
        "val_generator = CustomDataGenerator(images_path, masks_path, batch_size)\n",
        "\n",
        "# Fit the model with the training generator\n",
        "\n",
        "# Correcting the calculation of train_steps\n",
        "train_steps = math.ceil(len(os.listdir('coco-instance-segmentation-tmj-dataset/masks/train')) / batch_size)\n",
        "\n",
        "\n",
        "\n",
        "# Define the paths for saving model checkpoints and logs\n",
        "checkpoint_path = 'coco-instance-segmentation-tmj-dataset/checkpoints/model_checkpoint.h5'\n",
        "log_dir = 'coco-instance-segmentation-tmj-dataset/logs'\n",
        "\n",
        "# Define the number of epochs and batch size\n",
        "epochs = 50\n",
        "batch_size = 16\n",
        "\n",
        "# Define callbacks\n",
        "callbacks = [\n",
        "    EarlyStopping(patience=10, restore_best_weights=True),\n",
        "    ModelCheckpoint(checkpoint_path, save_best_only=True),\n",
        "    ReduceLROnPlateau(factor=0.7, patience=5)\n",
        "]\n",
        "\n",
        "# Create a timestamp for unique log directory\n",
        "current_time = datetime.datetime.now().strftime(\"%Y%m%d-%H%M%S\")\n",
        "log_dir = log_dir + current_time\n",
        "\n",
        "# Define loss function, metrics, and optimizer\n",
        "metrics = [\n",
        "    MeanIoU(num_classes=3),\n",
        "    Precision(),\n",
        "    Recall(),\n",
        "    AUC(),\n",
        "    'accuracy'\n",
        "]\n",
        "optimizer = Adam(learning_rate=1e-3)\n",
        "\n",
        "# Compile the model\n",
        "model = UNet(input_shape = (512,512,3))\n",
        "\n",
        "model.compile(optimizer=optimizer, loss='binary_crossentropy', metrics=metrics)\n",
        "\n",
        "# Fit the model with the training generator\n",
        "history = model.fit(\n",
        "    train_generator,\n",
        "    validation_data=val_generator,\n",
        "    steps_per_epoch=train_steps,\n",
        "    epochs=epochs,\n",
        "    batch_size=batch_size,\n",
        "    callbacks=callbacks,\n",
        "    verbose=1\n",
        ")\n",
        "\n",
        "# Save the final trained model\n",
        "model.save('coco-instance-segmentation-tmj-dataset/models/final_model.h5')"
      ]
    },
    {
      "cell_type": "markdown",
      "id": "5d1c733b",
      "metadata": {
        "papermill": {
          "duration": 10.738753,
          "end_time": "2023-08-01T14:21:46.962332",
          "exception": false,
          "start_time": "2023-08-01T14:21:36.223579",
          "status": "completed"
        },
        "tags": [],
        "id": "5d1c733b"
      },
      "source": [
        "## 7. Making Predictions and Visualizing Results\n",
        "\n",
        "After training the UNet model, we can now use it to make predictions on new images and visualize the segmentation results. In this section, we will load a sample batch of images from the validation data generator and generate predictions using the trained model.\n",
        "\n",
        "### 7.1 Making Predictions\n",
        "\n",
        "To start, we obtain a sample batch of images and their corresponding masks from the validation data generator. The `val_generator[0]` function call fetches a batch of images and masks.\n",
        "\n",
        "We then use the trained model to generate predictions on this sample batch of images. The `model.predict` function applies the model to the images and returns the predicted masks.\n",
        "\n",
        "### 7.2 Thresholding Predictions\n",
        "\n",
        "The model's predictions are usually represented as continuous probability maps. To convert these probabilities into binary masks, we apply a thresholding operation. In this case, we use a threshold of 0.7 (adjustable based on requirements). Pixels with probabilities greater than 0.7 will be considered as foreground (belonging to the target object), and pixels with probabilities less than or equal to 0.7 will be considered as background.\n",
        "\n",
        "### 7.3 Visualizing Results\n",
        "\n",
        "We randomly select an index from the batch to visualize the results for a single sample image. The selected sample image, ground truth mask, and the predicted mask (after thresholding) are plotted side by side for comparison.\n",
        "\n",
        "To achieve this, we create a figure with three subplots, displaying the sample image, ground truth mask, and predicted mask. Each subplot is annotated with its corresponding title for clarity.\n",
        "\n",
        "We adjust the spacing between the subplots to ensure they are well-organized in the figure. The final figure is displayed using `plt.show()`.\n",
        "\n",
        "By following these steps, we can easily visualize the model's segmentation performance on sample images and gain insights into how well it identifies the target objects within the images."
      ]
    },
    {
      "cell_type": "code",
      "execution_count": null,
      "id": "62b68e0f",
      "metadata": {
        "execution": {
          "iopub.execute_input": "2023-08-01T14:22:08.048175Z",
          "iopub.status.busy": "2023-08-01T14:22:08.047105Z",
          "iopub.status.idle": "2023-08-01T14:22:09.753781Z",
          "shell.execute_reply": "2023-08-01T14:22:09.75284Z"
        },
        "papermill": {
          "duration": 12.28274,
          "end_time": "2023-08-01T14:22:09.757545",
          "exception": false,
          "start_time": "2023-08-01T14:21:57.474805",
          "status": "completed"
        },
        "tags": [],
        "ExecuteTime": {
          "end_time": "2025-02-26T10:04:34.127363Z",
          "start_time": "2025-02-26T10:04:34.125381Z"
        },
        "id": "62b68e0f"
      },
      "outputs": [],
      "source": [
        "# Get a sample batch from the validation data generator\n",
        "sample_images, sample_masks = val_generator[2]\n",
        "\n",
        "# Generate predictions on the sample batch\n",
        "predictions = model.predict(sample_images)\n",
        "\n",
        "# Threshold the predictions (if needed)\n",
        "threshold = 0.5  # Adjust the threshold as per your requirement\n",
        "thresholded_predictions = (predictions > threshold).astype(np.uint8)\n",
        "\n",
        "# Select a random index from the batch\n",
        "idx = np.random.randint(0, sample_images.shape[0])\n",
        "\n",
        "# Plot the sample image, ground truth mask, and predicted mask\n",
        "fig, axes = plt.subplots(1, 3, figsize=(12, 4))\n",
        "\n",
        "# Plot sample image\n",
        "axes[0].imshow(sample_images[idx])\n",
        "axes[0].set_title('Sample Image')\n",
        "\n",
        "# Plot ground truth mask\n",
        "axes[1].imshow(sample_masks[idx])\n",
        "axes[1].set_title('Ground Truth Mask')\n",
        "\n",
        "# Plot predicted mask\n",
        "axes[2].imshow(thresholded_predictions[idx])\n",
        "axes[2].set_title('Predicted Mask')\n",
        "\n",
        "# Set common title for the figure\n",
        "fig.suptitle('Sample Image, Ground Truth Mask, and Predicted Mask')\n",
        "\n",
        "# Adjust the spacing between subplots\n",
        "plt.tight_layout()\n",
        "\n",
        "# Show the figure\n",
        "plt.show()\n"
      ]
    },
    {
      "cell_type": "markdown",
      "id": "d69971d5",
      "metadata": {
        "papermill": {
          "duration": 10.586042,
          "end_time": "2023-08-01T14:22:31.294058",
          "exception": false,
          "start_time": "2023-08-01T14:22:20.708016",
          "status": "completed"
        },
        "tags": [],
        "id": "d69971d5"
      },
      "source": [
        "## 8. Visualizing Segmentation Results with Overlaid Masks\n",
        "\n",
        "After obtaining predictions from the trained UNet model, we can visually compare the segmentation performance by overlaying the predicted masks on the sample images. This will allow us to see how well the model identifies the target objects and how closely the predicted masks align with the ground truth masks.\n",
        "\n",
        "### 8.1 Generating Predictions\n",
        "\n",
        "First, we fetch a sample batch of images and their corresponding masks from the validation data generator using `val_generator[0]`.\n",
        "\n",
        "Next, we use the trained model to generate predictions on this sample batch of images. The `model.predict` function applies the model to the images and returns the predicted masks.\n",
        "\n",
        "### 8.2 Thresholding Predictions\n",
        "\n",
        "Similar to the previous section, we apply a thresholding operation to convert the continuous probability maps into binary masks. This time, we use a lower threshold of 0.3 (adjustable based on requirements). Pixels with probabilities greater than 0.3 will be considered as foreground, and pixels with probabilities less than or equal to 0.3 will be considered as background.\n",
        "\n",
        "### 8.3 Visualizing Results with Overlaid Masks\n",
        "\n",
        "To visualize the results, we select a random index from the batch to focus on a single sample image. We then create a figure with three subplots: the sample image, the ground truth mask, and the predicted mask.\n",
        "\n",
        "For the ground truth mask subplot, we use `imshow` with the 'jet' colormap and set the alpha value to 0.7. This allows us to overlay the ground truth mask on the sample image with transparency, making it easy to compare the model's segmentation with the actual masks.\n",
        "\n",
        "Similarly, for the predicted mask subplot, we again use `imshow` with the 'jet' colormap and set the alpha value to 0.7 to overlay the predicted mask on the sample image.\n",
        "\n",
        "The figure is annotated with titles for each subplot, and a common title is set to summarize the purpose of the figure.\n",
        "\n",
        "We adjust the spacing between subplots to ensure a neat layout, and then display the figure using `plt.show()`.\n",
        "\n",
        "By following these steps, we can visually assess the quality of the model's segmentation by comparing the overlaid predicted masks with the ground truth masks and sample images. This visualization provides valuable insights into the model's performance and can help in fine-tuning the segmentation results if needed."
      ]
    },
    {
      "cell_type": "code",
      "execution_count": null,
      "id": "40c5e4bc",
      "metadata": {
        "execution": {
          "iopub.execute_input": "2023-08-01T14:22:52.576648Z",
          "iopub.status.busy": "2023-08-01T14:22:52.576228Z",
          "iopub.status.idle": "2023-08-01T14:23:03.597385Z",
          "shell.execute_reply": "2023-08-01T14:23:03.596497Z"
        },
        "papermill": {
          "duration": 21.788801,
          "end_time": "2023-08-01T14:23:03.602528",
          "exception": false,
          "start_time": "2023-08-01T14:22:41.813727",
          "status": "completed"
        },
        "tags": [],
        "ExecuteTime": {
          "start_time": "2025-02-26T10:04:34.128453Z"
        },
        "id": "40c5e4bc"
      },
      "outputs": [],
      "source": [
        "# Get a sample batch from the validation data generator\n",
        "for i in range(10):\n",
        "    sample_images, sample_masks = val_generator[i]\n",
        "\n",
        "    # Generate predictions on the sample batch\n",
        "    predictions = model.predict(sample_images)\n",
        "\n",
        "    # Threshold the predictions (if needed)\n",
        "    threshold = 0.5  # Adjust the threshold as per your requirement\n",
        "    thresholded_predictions = (predictions > threshold).astype(np.uint8)\n",
        "\n",
        "    # Select a random index from the batch\n",
        "    idx = np.random.randint(0, sample_images.shape[0])\n",
        "\n",
        "    # Plot the sample image, ground truth mask, and predicted mask\n",
        "    fig, axes = plt.subplots(1, 3, figsize=(12, 4))\n",
        "\n",
        "    # Plot sample image\n",
        "    axes[0].imshow(sample_images[idx])\n",
        "    axes[0].set_title('Sample Image')\n",
        "\n",
        "    # Plot ground truth mask\n",
        "    axes[1].imshow(sample_images[idx])\n",
        "    axes[1].imshow(sample_masks[idx], cmap='jet', alpha=0.7)\n",
        "    axes[1].set_title('Ground Truth Mask')\n",
        "\n",
        "    # Plot predicted mask\n",
        "    axes[2].imshow(sample_images[idx])\n",
        "    axes[2].imshow(thresholded_predictions[idx], cmap='jet', alpha=0.7)\n",
        "    axes[2].set_title('Predicted Mask')\n",
        "\n",
        "    # Set common title for the figure\n",
        "    fig.suptitle('Sample Image, Ground Truth Mask, and Predicted Mask')\n",
        "\n",
        "    # Adjust the spacing between subplots\n",
        "    plt.tight_layout()\n",
        "\n",
        "    # Show the figure\n",
        "    plt.show()\n"
      ]
    }
  ],
  "metadata": {
    "kernelspec": {
      "display_name": "Python 3",
      "name": "python3"
    },
    "language_info": {
      "codemirror_mode": {
        "name": "ipython",
        "version": 3
      },
      "file_extension": ".py",
      "mimetype": "text/x-python",
      "name": "python",
      "nbconvert_exporter": "python",
      "pygments_lexer": "ipython3",
      "version": "3.10.12"
    },
    "papermill": {
      "default_parameters": {},
      "duration": 22390.706743,
      "end_time": "2023-08-01T14:23:17.237027",
      "environment_variables": {},
      "exception": null,
      "input_path": "__notebook__.ipynb",
      "output_path": "__notebook__.ipynb",
      "parameters": {},
      "start_time": "2023-08-01T08:10:06.530284",
      "version": "2.4.0"
    },
    "colab": {
      "provenance": [],
      "gpuType": "V28"
    },
    "accelerator": "TPU"
  },
  "nbformat": 4,
  "nbformat_minor": 5
}