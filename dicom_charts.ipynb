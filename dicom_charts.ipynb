{
 "cells": [
  {
   "cell_type": "code",
   "execution_count": 3,
   "id": "initial_id",
   "metadata": {
    "collapsed": true,
    "ExecuteTime": {
     "end_time": "2025-03-17T22:45:44.068240Z",
     "start_time": "2025-03-17T22:45:44.064437Z"
    }
   },
   "outputs": [],
   "source": [
    "import pydicom\n",
    "import matplotlib.pyplot as plt\n",
    "\n",
    "import os\n",
    "import numpy as np\n",
    "import vtk\n",
    "from vtk.util.numpy_support import numpy_to_vtk"
   ]
  },
  {
   "cell_type": "code",
   "outputs": [],
   "source": [
    "# Загрузка DICOM-файла\n",
    "dcm_path = \"files_dcm/0372.dcm\"\n",
    "dicom_data = pydicom.dcmread(dcm_path)\n",
    "\n",
    "# Получение массива пикселей\n",
    "image = dicom_data.pixel_array\n",
    "\n",
    "# Отображение изображения\n",
    "plt.imshow(image, cmap=\"gray\")  # DICOM обычно в градациях серого\n",
    "plt.axis(\"off\")  # Отключаем оси для удобства\n",
    "plt.show()"
   ],
   "metadata": {
    "collapsed": false
   },
   "id": "abbb0cd77cbe947",
   "execution_count": null
  },
  {
   "cell_type": "code",
   "outputs": [],
   "source": [
    "# Загружаем DICOM-файл\n",
    "dcm_path_true = \"files_dcm/0344.dcm\"\n",
    "dcm_path = \"files_dcm/0372.dcm\"\n",
    "dicom_data = pydicom.dcmread(dcm_path)\n",
    "\n",
    "if 'PixelRepresentation' not in dicom_data:\n",
    "    dicom_data.PixelRepresentation = 1\n",
    "\n",
    "# Получаем пиксельные данные\n",
    "image = dicom_data.pixel_array.astype(np.int16)\n",
    "\n",
    "# Корректируем HU\n",
    "intercept = dicom_data.RescaleIntercept if \"RescaleIntercept\" in dicom_data else 0\n",
    "slope = dicom_data.RescaleSlope if \"RescaleSlope\" in dicom_data else 1\n",
    "hu_image = image * slope + intercept\n",
    "\n",
    "# Определяем категории HU\n",
    "air_mask = (hu_image <= -500)  # Воздух (не учитываем в гистограмме)\n",
    "soft_tissue_mask = (hu_image > -500) & (hu_image < 300)  # Мягкие ткани\n",
    "soft_bone_mask = (hu_image >= 300) & (hu_image < 700)  # Мягкая кость\n",
    "hard_bone_mask = (hu_image >= 700) & (hu_image < 1200)  # Твёрдая кость\n",
    "very_hard_bone_mask = (hu_image >= 1200)  # Очень плотная кость (зубы)\n",
    "\n",
    "# Подсчитываем количество пикселей в каждой категории\n",
    "counts = [\n",
    "    np.sum(soft_tissue_mask), \n",
    "    np.sum(soft_bone_mask), \n",
    "    np.sum(hard_bone_mask), \n",
    "    np.sum(very_hard_bone_mask)\n",
    "]\n",
    "\n",
    "labels = [\"Мягкие ткани\", \"Мягкая кость\", \"Твёрдая кость\", \"Очень плотная кость (зубы)\"]\n",
    "colors = [\"blue\", \"green\", \"red\", \"purple\"]\n",
    "\n",
    "# Создаём цветное изображение\n",
    "colored_image = np.zeros((*hu_image.shape, 3), dtype=np.uint8)\n",
    "colored_image[air_mask] = [255, 255, 255]  # Фон\n",
    "colored_image[soft_tissue_mask] = [0, 0, 255]  # Синий (мягкие ткани)\n",
    "colored_image[soft_bone_mask] = [0, 255, 0]  # Зеленый (мягкая кость)\n",
    "colored_image[hard_bone_mask] = [255, 0, 0]  # Красный (твёрдая кость)\n",
    "colored_image[very_hard_bone_mask] = [128, 0, 128]  # Фиолетовый (очень плотная кость)\n",
    "\n",
    "# Построение графиков\n",
    "fig, axes = plt.subplots(1, 3, figsize=(18, 6))\n",
    "\n",
    "# Круговая диаграмма (без воздуха)\n",
    "axes[0].pie(counts, labels=labels, autopct=\"%1.1f%%\", colors=colors, startangle=90, wedgeprops={\"edgecolor\": \"black\"})\n",
    "axes[0].set_title(\"Распределение плотностей (HU) (без воздуха)\")\n",
    "\n",
    "# Цветное DICOM-изображение\n",
    "axes[1].imshow(colored_image)\n",
    "axes[1].set_title(\"DICOM с градацией костей (без воздуха)\")\n",
    "axes[1].axis(\"off\")  # Отключаем оси\n",
    "\n",
    "# Гистограмма HU (без воздуха)\n",
    "hu_image_no_air = hu_image[~air_mask]  # Убираем воздух из массива данных\n",
    "axes[2].hist(hu_image_no_air.flatten(), bins=1000, color=\"blue\", alpha=0.7, range=(-1000, 2000))\n",
    "axes[2].set_title(\"Гистограмма распределения HU (без воздуха)\")\n",
    "axes[2].set_xlabel(\"HU\")\n",
    "axes[2].set_ylabel(\"Количество пикселей\")\n",
    "axes[2].grid(True)\n",
    "\n",
    "plt.tight_layout()\n",
    "# fig.savefig(\"output_graphics.svg\", format='svg')\n",
    "plt.show()"
   ],
   "metadata": {
    "collapsed": false
   },
   "id": "9d18a3ad7559b871",
   "execution_count": null
  },
  {
   "cell_type": "code",
   "outputs": [],
   "source": [
    "dcm_dir = \"files_dcm\"\n",
    "\n",
    "# Загружаем файлы\n",
    "files = [pydicom.dcmread(os.path.join(dcm_dir, f)) for f in os.listdir(dcm_dir) if f.endswith(\".dcm\")]\n",
    "files.sort(key=lambda x: int(x.InstanceNumber))\n",
    "\n",
    "# Создаём 3D-массив\n",
    "volume = np.stack([f.pixel_array for f in files])\n",
    "\n",
    "# Преобразуем в VTK-объект\n",
    "data = vtk.vtkImageData()\n",
    "data.SetDimensions(volume.shape)\n",
    "data.SetSpacing(1, 1, 1)\n",
    "data.AllocateScalars(vtk.VTK_FLOAT, 1)\n",
    "vtk_array = numpy_to_vtk(volume.ravel(), deep=True)\n",
    "data.GetPointData().SetScalars(vtk_array)\n",
    "\n",
    "# Создаём рендер\n",
    "renderer = vtk.vtkRenderer()\n",
    "actor = vtk.vtkVolume()\n",
    "mapper = vtk.vtkSmartVolumeMapper()\n",
    "mapper.SetInputData(data)\n",
    "actor.SetMapper(mapper)\n",
    "renderer.AddViewProp(actor)\n",
    "\n",
    "# Окно\n",
    "render_window = vtk.vtkRenderWindow()\n",
    "render_window.AddRenderer(renderer)\n",
    "interactor = vtk.vtkRenderWindowInteractor()\n",
    "interactor.SetRenderWindow(render_window)\n",
    "\n",
    "# Запуск\n",
    "render_window.Render()\n",
    "interactor.Start()"
   ],
   "metadata": {
    "collapsed": false
   },
   "id": "20960c665916ed33",
   "execution_count": null
  },
  {
   "cell_type": "code",
   "outputs": [],
   "source": [
    "def visualize_tensor(tensor, title=\"Tensor Image\", cmap='gray'):\n",
    "    # Проверяем, является ли тензор 3D\n",
    "    if tensor.ndimension() == 3:\n",
    "        # Переводим в формат (H, W, C) для отображения с помощью matplotlib\n",
    "        tensor = tensor.permute(1, 2, 0)\n",
    "\n",
    "    # Преобразуем тензор в numpy для отображения\n",
    "    np_image = tensor.cpu().numpy()\n",
    "\n",
    "    # В случае черно-белого изображения (если у нас один канал), покажем через cmap\n",
    "    if np_image.shape[2] == 1:\n",
    "        np_image = np_image[:, :, 0]\n",
    "\n",
    "    # Отображаем изображение\n",
    "    plt.imshow(np_image, cmap=cmap)\n",
    "    plt.title(title)\n",
    "    plt.axis('off')  # Скрыть оси\n",
    "    plt.show()\n"
   ],
   "metadata": {
    "collapsed": false
   },
   "id": "8f2359941aff5118",
   "execution_count": null
  },
  {
   "cell_type": "code",
   "outputs": [
    {
     "data": {
      "text/plain": "((129, 4), (129, 4))"
     },
     "execution_count": 4,
     "metadata": {},
     "output_type": "execute_result"
    }
   ],
   "source": [
    "import pandas as pd\n",
    "\n",
    "# Пути к загруженным файлам\n",
    "file_potology = \"Table-potology.csv\"\n",
    "file_standard = \"Table-standard.csv\"\n",
    "\n",
    "# Загрузка данных\n",
    "df_potology = pd.read_csv(file_potology)\n",
    "df_standard = pd.read_csv(file_standard)\n",
    "\n",
    "# Проверим размеры и первые строки данных\n",
    "df_potology.shape, df_standard.shape"
   ],
   "metadata": {
    "collapsed": false,
    "ExecuteTime": {
     "end_time": "2025-03-17T22:45:50.782052Z",
     "start_time": "2025-03-17T22:45:50.365654Z"
    }
   },
   "id": "6a5a871fd2b46f3a",
   "execution_count": 4
  },
  {
   "cell_type": "code",
   "outputs": [
    {
     "data": {
      "text/plain": "(119,\n      Image type   Feature Class Feature Name  \\\n 7   diagnostics  Image-original         Hash   \n 9   diagnostics  Image-original      Spacing   \n 10  diagnostics  Image-original         Size   \n 11  diagnostics  Image-original         Mean   \n 13  diagnostics  Image-original      Maximum   \n \n           Segmentation_segment_head_potology  \\\n 7   1a607fc775d06fae38e5510d647dc44172215d12   \n 9                            (0.2, 0.2, 0.2)   \n 10                        (1003, 1003, 1003)   \n 11                        -558.4072434057805   \n 13                                    3095.0   \n \n                    Segmentation_segment_head_standard  \n 7            c6006e7bc4eb8057b1022f8d4854e57b1a0d64ed  \n 9   (0.30000000000000004, 0.30000000000000004, 0.3...  \n 10                                    (768, 768, 576)  \n 11                                 -757.5032671498664  \n 13                                            13056.0  )"
     },
     "execution_count": 5,
     "metadata": {},
     "output_type": "execute_result"
    }
   ],
   "source": [
    "# Переименуем последний столбец в df_false, чтобы он совпадал с df_true\n",
    "df_potology.rename(columns={df_potology.columns[-1]: \"Segmentation_segment_head\"}, inplace=True)\n",
    "\n",
    "# Объединим два датафрейма для удобного сравнения\n",
    "df_merged = df_potology.merge(df_standard, on=[\"Image type\", \"Feature Class\", \"Feature Name\"], suffixes=(\"_potology\", \"_standard\"))\n",
    "\n",
    "# Найдем строки, где значения отличаются\n",
    "df_diff = df_merged[df_merged[\"Segmentation_segment_head_potology\"] != df_merged[\"Segmentation_segment_head_standard\"]]\n",
    "\n",
    "# Выведем количество отличий и примеры\n",
    "df_diff.shape[0], df_diff.head()"
   ],
   "metadata": {
    "collapsed": false,
    "ExecuteTime": {
     "end_time": "2025-03-17T22:45:51.717508Z",
     "start_time": "2025-03-17T22:45:51.713222Z"
    }
   },
   "id": "ef790c47a517cdef",
   "execution_count": 5
  },
  {
   "cell_type": "code",
   "outputs": [
    {
     "name": "stderr",
     "output_type": "stream",
     "text": [
      "/var/folders/cs/dtsbgx152_5dvn59nv2l1dx80000gn/T/ipykernel_25701/736301444.py:8: SettingWithCopyWarning: \n",
      "A value is trying to be set on a copy of a slice from a DataFrame.\n",
      "Try using .loc[row_indexer,col_indexer] = value instead\n",
      "\n",
      "See the caveats in the documentation: https://pandas.pydata.org/pandas-docs/stable/user_guide/indexing.html#returning-a-view-versus-a-copy\n",
      "  df_diff[\"potology_values\"] = (df_diff[\"Segmentation_segment_head_potology\"]\n",
      "/var/folders/cs/dtsbgx152_5dvn59nv2l1dx80000gn/T/ipykernel_25701/736301444.py:10: SettingWithCopyWarning: \n",
      "A value is trying to be set on a copy of a slice from a DataFrame.\n",
      "Try using .loc[row_indexer,col_indexer] = value instead\n",
      "\n",
      "See the caveats in the documentation: https://pandas.pydata.org/pandas-docs/stable/user_guide/indexing.html#returning-a-view-versus-a-copy\n",
      "  df_diff[\"standard_values\"] = (df_diff[\"Segmentation_segment_head_standard\"]\n"
     ]
    }
   ],
   "source": [
    "# Преобразуем числовые значения в последнем столбце к float (где возможно)\n",
    "def try_convert(value):\n",
    "    try:\n",
    "        return float(value)\n",
    "    except:\n",
    "        return np.nan  # если не число, заменяем NaN\n",
    "\n",
    "df_diff[\"potology_values\"] = (df_diff[\"Segmentation_segment_head_potology\"]\n",
    "                           .apply(try_convert))\n",
    "df_diff[\"standard_values\"] = (df_diff[\"Segmentation_segment_head_standard\"]\n",
    "                          .apply(try_convert))\n",
    "\n",
    "df_numeric = df_diff.dropna(subset=[\"potology_values\", \"standard_values\"])"
   ],
   "metadata": {
    "collapsed": false,
    "ExecuteTime": {
     "end_time": "2025-03-17T22:45:53.766353Z",
     "start_time": "2025-03-17T22:45:53.762858Z"
    }
   },
   "id": "5d9468fab533e573",
   "execution_count": 6
  },
  {
   "cell_type": "code",
   "outputs": [
    {
     "name": "stderr",
     "output_type": "stream",
     "text": [
      "/var/folders/cs/dtsbgx152_5dvn59nv2l1dx80000gn/T/ipykernel_25701/1320083640.py:2: SettingWithCopyWarning: \n",
      "A value is trying to be set on a copy of a slice from a DataFrame.\n",
      "Try using .loc[row_indexer,col_indexer] = value instead\n",
      "\n",
      "See the caveats in the documentation: https://pandas.pydata.org/pandas-docs/stable/user_guide/indexing.html#returning-a-view-versus-a-copy\n",
      "  df_numeric[\"abs_difference\"] = abs(df_numeric[\"standard_values\"] - df_numeric[\"potology_values\"])\n"
     ]
    }
   ],
   "source": [
    "# Добавим новый столбец с абсолютной разницей (только для чисел)\n",
    "df_numeric[\"abs_difference\"] = abs(df_numeric[\"standard_values\"] - df_numeric[\"potology_values\"])\n",
    "\n",
    "# Отсортируем по наибольшим различиям\n",
    "df_numeric_sorted = df_numeric.sort_values(by=\"abs_difference\", ascending=False)\n",
    "\n",
    "# Выберем ключевые столбцы для вывода\n",
    "df_display = df_numeric_sorted[\n",
    "    [\n",
    "        \"Feature Name\",\n",
    "        \"Segmentation_segment_head_standard\",\n",
    "        \"Segmentation_segment_head_potology\",\n",
    "        \"abs_difference\"\n",
    "    ]\n",
    "]\n"
   ],
   "metadata": {
    "collapsed": false,
    "ExecuteTime": {
     "end_time": "2025-03-17T22:45:54.684723Z",
     "start_time": "2025-03-17T22:45:54.673063Z"
    }
   },
   "id": "a0482d592e5e6d71",
   "execution_count": 7
  },
  {
   "cell_type": "code",
   "outputs": [
    {
     "data": {
      "text/plain": "                         Feature Name Segmentation_segment_head_standard  \\\n38                             Energy                     347305063854.0   \n51                        TotalEnergy                  9377236724.058004   \n113    LargeAreaHighGrayLevelEmphasis                 1277799.3521061845   \n55                  ClusterProminence                 2087497.8236446003   \n18                           VoxelNum                             665915   \n..                                ...                                ...   \n103                     RunPercentage                 0.8983439212327284   \n93   GrayLevelNonUniformityNormalized               0.018199424069342253   \n52                         Uniformity               0.017872703057358878   \n65                               Idmn                 0.9946024970289961   \n98        LongRunLowGrayLevelEmphasis               0.001596391421213224   \n\n    Segmentation_segment_head_potology  abs_difference  \n38                     1618130912889.0    1.270826e+12  \n51                  12945047303.112003    3.567811e+09  \n113                 20918885.394256614    1.964109e+07  \n55                   5608665.668279499    3.521168e+06  \n18                             1885915    1.220000e+06  \n..                                 ...             ...  \n103                 0.8941214211669136    4.222500e-03  \n93                 0.01489749513617991    3.301929e-03  \n52                0.014943455444346325    2.929248e-03  \n65                  0.9968971580563484    2.294661e-03  \n98               0.0011943066020690695    4.020848e-04  \n\n[100 rows x 4 columns]",
      "text/html": "<div>\n<style scoped>\n    .dataframe tbody tr th:only-of-type {\n        vertical-align: middle;\n    }\n\n    .dataframe tbody tr th {\n        vertical-align: top;\n    }\n\n    .dataframe thead th {\n        text-align: right;\n    }\n</style>\n<table border=\"1\" class=\"dataframe\">\n  <thead>\n    <tr style=\"text-align: right;\">\n      <th></th>\n      <th>Feature Name</th>\n      <th>Segmentation_segment_head_standard</th>\n      <th>Segmentation_segment_head_potology</th>\n      <th>abs_difference</th>\n    </tr>\n  </thead>\n  <tbody>\n    <tr>\n      <th>38</th>\n      <td>Energy</td>\n      <td>347305063854.0</td>\n      <td>1618130912889.0</td>\n      <td>1.270826e+12</td>\n    </tr>\n    <tr>\n      <th>51</th>\n      <td>TotalEnergy</td>\n      <td>9377236724.058004</td>\n      <td>12945047303.112003</td>\n      <td>3.567811e+09</td>\n    </tr>\n    <tr>\n      <th>113</th>\n      <td>LargeAreaHighGrayLevelEmphasis</td>\n      <td>1277799.3521061845</td>\n      <td>20918885.394256614</td>\n      <td>1.964109e+07</td>\n    </tr>\n    <tr>\n      <th>55</th>\n      <td>ClusterProminence</td>\n      <td>2087497.8236446003</td>\n      <td>5608665.668279499</td>\n      <td>3.521168e+06</td>\n    </tr>\n    <tr>\n      <th>18</th>\n      <td>VoxelNum</td>\n      <td>665915</td>\n      <td>1885915</td>\n      <td>1.220000e+06</td>\n    </tr>\n    <tr>\n      <th>...</th>\n      <td>...</td>\n      <td>...</td>\n      <td>...</td>\n      <td>...</td>\n    </tr>\n    <tr>\n      <th>103</th>\n      <td>RunPercentage</td>\n      <td>0.8983439212327284</td>\n      <td>0.8941214211669136</td>\n      <td>4.222500e-03</td>\n    </tr>\n    <tr>\n      <th>93</th>\n      <td>GrayLevelNonUniformityNormalized</td>\n      <td>0.018199424069342253</td>\n      <td>0.01489749513617991</td>\n      <td>3.301929e-03</td>\n    </tr>\n    <tr>\n      <th>52</th>\n      <td>Uniformity</td>\n      <td>0.017872703057358878</td>\n      <td>0.014943455444346325</td>\n      <td>2.929248e-03</td>\n    </tr>\n    <tr>\n      <th>65</th>\n      <td>Idmn</td>\n      <td>0.9946024970289961</td>\n      <td>0.9968971580563484</td>\n      <td>2.294661e-03</td>\n    </tr>\n    <tr>\n      <th>98</th>\n      <td>LongRunLowGrayLevelEmphasis</td>\n      <td>0.001596391421213224</td>\n      <td>0.0011943066020690695</td>\n      <td>4.020848e-04</td>\n    </tr>\n  </tbody>\n</table>\n<p>100 rows × 4 columns</p>\n</div>"
     },
     "execution_count": 8,
     "metadata": {},
     "output_type": "execute_result"
    }
   ],
   "source": [
    "df_display.head(100)"
   ],
   "metadata": {
    "collapsed": false,
    "ExecuteTime": {
     "end_time": "2025-03-17T22:45:55.737275Z",
     "start_time": "2025-03-17T22:45:55.727084Z"
    }
   },
   "id": "e87d84d06fdb3bcf",
   "execution_count": 8
  },
  {
   "cell_type": "code",
   "outputs": [],
   "source": [
    "df_display.to_csv(\"differences.csv\", index=False)"
   ],
   "metadata": {
    "collapsed": false,
    "ExecuteTime": {
     "end_time": "2025-03-17T22:45:56.963251Z",
     "start_time": "2025-03-17T22:45:56.954608Z"
    }
   },
   "id": "4cad6fd490f499b",
   "execution_count": 9
  },
  {
   "cell_type": "code",
   "outputs": [
    {
     "name": "stderr",
     "output_type": "stream",
     "text": [
      "/var/folders/cs/dtsbgx152_5dvn59nv2l1dx80000gn/T/ipykernel_25701/3609893380.py:79: SettingWithCopyWarning: \n",
      "A value is trying to be set on a copy of a slice from a DataFrame.\n",
      "Try using .loc[row_indexer,col_indexer] = value instead\n",
      "\n",
      "See the caveats in the documentation: https://pandas.pydata.org/pandas-docs/stable/user_guide/indexing.html#returning-a-view-versus-a-copy\n",
      "  df_display[\"Feature Description\"] = df_display[\"Feature Name\"].map(radiomics_translations).fillna(\"Нет данных\")\n"
     ]
    }
   ],
   "source": [
    "# Дополняем словарь переводов и определений\n",
    "radiomics_translations = {\n",
    "    \"RunLengthNonUniformity\": \"Неоднородность длины пробега — мера вариативности длин последовательностей одинаковых значений\",\n",
    "    \"DependenceNonUniformity\": \"Неоднородность зависимости — вариативность размеров зависимых областей\",\n",
    "    \"Variance\": \"Дисперсия — среднеквадратичное отклонение интенсивностей\",\n",
    "    \"SizeZoneNonUniformity\": \"Неоднородность размеров зон — вариативность размеров областей с одинаковыми значениями\",\n",
    "    \"LargeDependenceHighGrayLevelEmphasis\": \"Выделение больших областей высокой интенсивности\",\n",
    "    \"GrayLevelNonUniformity\": \"Неоднородность уровней серого — вариативность интенсивностей в изображении\",\n",
    "    \"ClusterShade\": \"Кластерный оттенок — мера асимметрии текстурных кластеров\",\n",
    "    \"Maximum\": \"Максимум — наибольшее значение интенсивности\",\n",
    "    \"LargeAreaEmphasis\": \"Выделение больших областей — определяет значимость больших однородных зон\",\n",
    "    \"ZoneVariance\": \"Дисперсия зон — изменчивость размеров областей\",\n",
    "    \"MeshVolume\": \"Объём сетки — рассчитанный объём объекта на основе сеточной модели\",\n",
    "    \"VoxelVolume\": \"Объём вокселей — суммарный объём вокселей в зоне интереса\",\n",
    "    \"SurfaceArea\": \"Площадь поверхности — площадь границы сегментированной области\",\n",
    "    \"LongRunHighGrayLevelEmphasis\": \"Выделение длинных последовательностей с высокой интенсивностью\",\n",
    "    \"Complexity\": \"Сложность — мера сложности текстуры на основе различий между пикселями\",\n",
    "    \"HighGrayLevelEmphasis\": \"Выделение высоких уровней серого — оценивает преобладание ярких областей\",\n",
    "    \"HighGrayLevelRunEmphasis\": \"Выделение длинных ярких последовательностей пикселей\",\n",
    "    \"Autocorrelation\": \"Автокорреляция — мера повторяемости интенсивностей в изображении\",\n",
    "    \"HighGrayLevelZoneEmphasis\": \"Выделение ярких зон — оценивает вклад зон высокой интенсивности\",\n",
    "    \"ShortRunHighGrayLevelEmphasis\": \"Выделение коротких последовательностей с высокой интенсивностью\",\n",
    "    \"ClusterTendency\": \"Кластерная тенденция — склонность пикселей образовывать однородные кластеры\",\n",
    "    \"SmallAreaHighGrayLevelEmphasis\": \"Выделение маленьких ярких областей\",\n",
    "    \"90Percentile\": \"90-й перцентиль — значение интенсивности, ниже которого лежат 90% значений\",\n",
    "    \"InterquartileRange\": \"Межквартильный размах — разница между 75-м и 25-м процентилями\",\n",
    "    \"Range\": \"Диапазон — разница между максимальным и минимальным значением интенсивности\",\n",
    "    \"RootMeanSquared\": \"Среднеквадратичное значение — мера общего уровня интенсивности\",\n",
    "    \"SumSquares\": \"Сумма квадратов — мера разброса интенсивностей\",\n",
    "    \"Mean\": \"Среднее значение интенсивности\",\n",
    "    \"GrayLevelVariance\": \"Дисперсия уровней серого — изменчивость интенсивностей\",\n",
    "    \"MeanAbsoluteDeviation\": \"Среднее абсолютное отклонение — среднее отклонение интенсивностей от среднего\",\n",
    "    \"RobustMeanAbsoluteDeviation\": \"Устойчивое среднее абсолютное отклонение — аналог MAD, но устойчивый к выбросам\",\n",
    "    \"Median\": \"Медиана — значение, делящее распределение интенсивностей пополам\",\n",
    "    \"SmallDependenceHighGrayLevelEmphasis\": \"Выделение мелких зависимых областей высокой интенсивности\",\n",
    "    \"Minimum\": \"Минимум — наименьшее значение интенсивности\",\n",
    "    \"MajorAxisLength\": \"Длина главной оси — длина самой длинной оси эллипсоида, аппроксимирующего объект\",\n",
    "    \"Maximum3DDiameter\": \"Максимальный 3D диаметр — наибольшее расстояние между точками объекта\",\n",
    "    \"Maximum2DDiameterColumn\": \"Максимальный 2D диаметр (колонка) — наибольшая ширина объекта в одном измерении\",\n",
    "    \"SumAverage\": \"Среднее суммы — характеристика совместного распределения интенсивностей\",\n",
    "    \"Contrast\": \"Контраст — разница между соседними интенсивностями\",\n",
    "    \"Maximum2DDiameterSlice\": \"Максимальный 2D диаметр (срез) — наибольший размер в пределах одного среза\",\n",
    "    \"JointAverage\": \"Среднее совместного распределения интенсивностей\",\n",
    "    \"10Percentile\": \"10-й перцентиль — значение, ниже которого 10% значений интенсивности\",\n",
    "    \"Maximum2DDiameterRow\": \"Максимальный 2D диаметр (ряд) — ширина объекта по горизонтали\",\n",
    "    \"Busyness\": \"Загруженность — мера локальной неоднородности интенсивностей\",\n",
    "    \"DifferenceVariance\": \"Дисперсия разностей — мера вариативности разностей интенсивностей\",\n",
    "    \"DependenceVariance\": \"Дисперсия зависимостей — мера вариативности областей зависимостей\",\n",
    "    \"MinorAxisLength\": \"Длина малой оси — короткая ось эллипсоида, аппроксимирующего объект\",\n",
    "    \"LargeDependenceEmphasis\": \"Выделение больших зависимых областей\",\n",
    "    \"LargeAreaLowGrayLevelEmphasis\": \"Выделение больших тёмных областей\",\n",
    "    \"LeastAxisLength\": \"Длина наименьшей оси — самая короткая ось 3D объекта\",\n",
    "    \"ZoneEntropy\": \"Энтропия зон — мера случайности распределения зон\",\n",
    "    \"DifferenceAverage\": \"Среднее разностей — мера отличий между соседними интенсивностями\",\n",
    "    \"Kurtosis\": \"Куртозис — характеристика остроты распределения интенсивностей\",\n",
    "    \"RunEntropy\": \"Энтропия пробегов — мера случайности последовательностей пикселей\",\n",
    "    \"SurfaceVolumeRatio\": \"Отношение площади к объёму — показатель компактности формы\",\n",
    "    \"Entropy\": \"Энтропия — мера случайности интенсивностей\",\n",
    "    \"SumEntropy\": \"Суммарная энтропия — мера неоднородности совместного распределения\",\n",
    "    \"DependenceEntropy\": \"Энтропия зависимостей — случайность распределения зависимых областей\",\n",
    "    \"DifferenceEntropy\": \"Энтропия разностей — случайность распределения разностей интенсивностей\",\n",
    "    \"Sphericity\": \"Сферичность — мера похожести объекта на сферу\",\n",
    "    \"JointEntropy\": \"Совместная энтропия — мера случайности совместного распределения интенсивностей\",\n",
    "    \"ZonePercentage\": \"Процент зон — доля областей относительно общего количества вокселей\",\n",
    "    \"SmallDependenceEmphasis\": \"Выделение мелких зависимых областей\",\n",
    "    \"Imc1\": \"Информация о корреляции 1 — мера зависимости между интенсивностями\",\n",
    "    \"Strength\": \"Сила — характеристика текстурной структуры\",\n",
    "    \"SizeZoneNonUniformityNormalized\": \"Нормализованная неоднородность размеров зон\",\n",
    "    \"Correlation\": \"Корреляция — мера связи между интенсивностями соседних пикселей\",\n",
    "    \"Skewness\": \"Асимметрия — мера сдвига распределения интенсивностей\",\n",
    "    \"Elongation\": \"Удлинённость — степень вытянутости формы\",\n",
    "    \"SmallAreaEmphasis\": \"Выделение мелких областей\",\n",
    "    \"MCC\": \"Матчевый коэффициент корреляции\",\n",
    "    \"Flatness\": \"Плоскостность — степень сплюснутости формы\",\n",
    "    \"Imc2\": \"Информация о корреляции 2 — мера связи между интенсивностями\",\n",
    "}\n",
    "\n",
    "# Заполняем пропущенные описания\n",
    "df_display[\"Feature Description\"] = df_display[\"Feature Name\"].map(radiomics_translations).fillna(\"Нет данных\")\n",
    "\n",
    "# Сохраняем обновлённый файл\n",
    "updated_file_path = \"differences_full.csv\"\n",
    "df_display.to_csv(updated_file_path, index=False)"
   ],
   "metadata": {
    "collapsed": false,
    "ExecuteTime": {
     "end_time": "2025-03-17T22:45:59.104838Z",
     "start_time": "2025-03-17T22:45:59.093381Z"
    }
   },
   "id": "ad8d85c0b074093d",
   "execution_count": 10
  },
  {
   "cell_type": "code",
   "outputs": [
    {
     "data": {
      "text/plain": "<Figure size 1000x500 with 2 Axes>",
      "image/png": "[encoded data removed]"
     },
     "metadata": {},
     "output_type": "display_data"
    }
   ],
   "source": [
    "import matplotlib.pyplot as plt\n",
    "import pandas as pd\n",
    "from io import StringIO\n",
    "\n",
    "# Данные для тренировки\n",
    "train_data = \"\"\"\n",
    "Wall time,Step,Value\n",
    "1741033853.789021,0,0.2721464931964874\n",
    "1741033871.143897,1,0.35096073150634766\n",
    "1741033887.774629,2,0.35279062390327454\n",
    "1741033904.2246873,3,0.3634706437587738\n",
    "1741033921.8936117,4,0.3715667426586151\n",
    "1741033937.7658284,5,0.37978705763816833\n",
    "1741033954.9035106,6,0.3902413547039032\n",
    "1741033971.7551222,7,0.4130782186985016\n",
    "1741033988.1142604,8,0.4263858497142792\n",
    "1741034005.7051358,9,0.4363177418708801\n",
    "1741034022.6941352,10,0.4571518003940582\n",
    "1741034039.0015416,11,0.47844886779785156\n",
    "1741034056.330533,12,0.523145318031311\n",
    "1741034072.697927,13,0.54738450050354\n",
    "1741034089.1670742,14,0.597450315952301\n",
    "1741034106.2007759,15,0.5970392823219299\n",
    "1741034122.442356,16,0.6368939876556396\n",
    "1741034138.66977,17,0.6587077975273132\n",
    "1741034156.020936,18,0.6760401725769043\n",
    "1741034172.4947658,19,0.7009375095367432\n",
    "1741034188.912825,20,0.7117986083030701\n",
    "1741034205.6427495,21,0.7321889400482178\n",
    "1741034221.7492666,22,0.7404049634933472\n",
    "1741034238.8225546,23,0.7242505550384521\n",
    "1741034255.5723443,24,0.7291573286056519\n",
    "1741034271.8061428,25,0.7462610006332397\n",
    "1741034288.6250672,26,0.7509930729866028\n",
    "1741034305.4831254,27,0.7579771876335144\n",
    "1741034321.6751075,28,0.7708564400672913\n",
    "1741034338.7279105,29,0.7580046653747559\n",
    "1741034355.6906104,30,0.7593913674354553\n",
    "1741034371.83785,31,0.7581418752670288\n",
    "1741034389.1210372,32,0.7650755047798157\n",
    "1741034405.4158823,33,0.7675941586494446\n",
    "1741034421.7080734,34,0.7789129614830017\n",
    "1741034438.9854472,35,0.789368212223053\n",
    "1741034455.569567,36,0.782145619392395\n",
    "1741034471.9127865,37,0.7867607474327087\n",
    "1741034489.287622,38,0.764644205570221\n",
    "1741034505.8108923,39,0.7847809791564941\n",
    "1741034522.1646738,40,0.795012354850769\n",
    "1741034539.0119157,41,0.7964814305305481\n",
    "\"\"\"\n",
    "\n",
    "# Данные для валидации\n",
    "val_data = \"\"\"\n",
    "Wall time,Step,Value\n",
    "1741033856.263091,0,0.16463445127010345\n",
    "1741033873.6346216,1,0.2716293931007385\n",
    "1741033890.165891,2,0.3570627272129059\n",
    "1741033906.6154926,3,0.37926697731018066\n",
    "1741033924.282608,4,0.4073774218559265\n",
    "1741033940.609676,5,0.3596048951148987\n",
    "1741033957.8066342,6,0.3626941442489624\n",
    "1741033974.142629,7,0.4035327434539795\n",
    "1741033990.5068,8,0.3229120075702667\n",
    "1741034008.8073606,9,0.3717948794364929\n",
    "1741034025.1014664,10,0.3304612338542938\n",
    "1741034041.4268756,11,0.4663621783256531\n",
    "1741034058.8680744,12,0.42404595017433167\n",
    "1741034075.0893316,13,0.4143264889717102\n",
    "1741034091.5677922,14,0.3510911762714386\n",
    "1741034108.59636,15,0.6346753835678101\n",
    "1741034124.8278105,16,0.5405235290527344\n",
    "1741034141.1128526,17,0.4627189636230469\n",
    "1741034158.4147387,18,0.666146993637085\n",
    "1741034174.8779583,19,0.6625411510467529\n",
    "1741034191.5849197,20,0.6999133229255676\n",
    "1741034208.0331926,21,0.45945459604263306\n",
    "\"\"\"\n",
    "\n",
    "# Преобразуем данные в DataFrame\n",
    "train_df = pd.read_csv(StringIO(train_data))\n",
    "val_df = pd.read_csv(StringIO(val_data))\n",
    "\n",
    "# Строим графики\n",
    "plt.figure(figsize=(10, 5))\n",
    "\n",
    "# График метрики тренировки\n",
    "plt.subplot(1, 2, 1)\n",
    "plt.plot(train_df['Step'], train_df['Value'], label='Train Metric')\n",
    "plt.title('Training Metric')\n",
    "plt.xlabel('Epoch')\n",
    "plt.ylabel('Metric Value')\n",
    "\n",
    "# График метрики валидации\n",
    "plt.subplot(1, 2, 2)\n",
    "plt.plot(val_df['Step'], val_df['Value'], label='Validation Metric', color='orange')\n",
    "plt.title('Validation Metric')\n",
    "plt.xlabel('Epoch')\n",
    "plt.ylabel('Metric Value')\n",
    "\n",
    "plt.tight_layout()\n",
    "plt.show()"
   ],
   "metadata": {
    "collapsed": false,
    "ExecuteTime": {
     "end_time": "2025-03-24T15:29:38.784437Z",
     "start_time": "2025-03-24T15:29:37.239053Z"
    }
   },
   "id": "e082b386a135ba9c",
   "execution_count": 1
  },
  {
   "cell_type": "code",
   "outputs": [],
   "source": [],
   "metadata": {
    "collapsed": false
   },
   "id": "59a2d5c5ac057f6a"
  }
 ],
 "metadata": {
  "kernelspec": {
   "display_name": "Python 3",
   "language": "python",
   "name": "python3"
  },
  "language_info": {
   "codemirror_mode": {
    "name": "ipython",
    "version": 2
   },
   "file_extension": ".py",
   "mimetype": "text/x-python",
   "name": "python",
   "nbconvert_exporter": "python",
   "pygments_lexer": "ipython2",
   "version": "2.7.6"
  }
 },
 "nbformat": 4,
 "nbformat_minor": 5
}
